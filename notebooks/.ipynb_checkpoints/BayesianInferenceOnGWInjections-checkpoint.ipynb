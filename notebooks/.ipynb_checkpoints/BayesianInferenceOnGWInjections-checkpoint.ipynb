{
 "cells": [
  {
   "cell_type": "markdown",
   "metadata": {},
   "source": [
    "# Setup and run Bayesian inference on a batch of GW injections"
   ]
  },
  {
   "cell_type": "markdown",
   "metadata": {},
   "source": [
    "## Imports and setup"
   ]
  },
  {
   "cell_type": "code",
   "execution_count": 1,
   "metadata": {},
   "outputs": [
    {
     "name": "stdout",
     "output_type": "stream",
     "text": [
      "Populating the interactive namespace from numpy and matplotlib\n"
     ]
    },
    {
     "name": "stderr",
     "output_type": "stream",
     "text": [
      "/home/prayush/local/venv/pycbc_inf/local/lib/python2.7/site-packages/IPython/core/magics/pylab.py:161: UserWarning: pylab import has clobbered these variables: ['rc']\n",
      "`%matplotlib` prevents importing * from pylab and numpy\n",
      "  \"\\n`%matplotlib` prevents importing * from pylab and numpy\"\n"
     ]
    },
    {
     "name": "stdout",
     "output_type": "stream",
     "text": [
      "Could not import ligolw in /home/prayush/src/GWNRTools/GWNRTools/Stats/FisherMatrixUtilities.pyc, LIGO XML tables wont be read\n"
     ]
    }
   ],
   "source": [
    "import os\n",
    "import sys\n",
    "import shutil\n",
    "import glob\n",
    "import h5py\n",
    "import subprocess\n",
    "\n",
    "import matplotlib.pyplot as plt\n",
    "from matplotlib import rc\n",
    "rc('text', usetex = True)\n",
    "\n",
    "plt.rcParams.update(  # try to match font sizes of document\n",
    "  {'axes.labelsize': 20,\n",
    "   'axes.titlesize': 20,\n",
    "   'legend.fontsize': 20,\n",
    "   'xtick.labelsize': 20,\n",
    "   'ytick.labelsize': 20,\n",
    "   'text.usetex': True,\n",
    "   'font.family': 'serif',\n",
    "   'font.serif': ['palatino'],\n",
    "   'savefig.dpi': 300\n",
    "   })\n",
    "\n",
    "%pylab inline\n",
    "\n",
    "import GWNRTools\n",
    "\n",
    "#sys.path.append('/home/prayush.kumar/src/GWNRTools/bin/')\n",
    "#sys.path.append('/home/prayush/src/GWNRTools/bin/')\n",
    "#sys.path.append('/home/prayush.kumar/local/venv/pycbc_master_enigma/src/GWNRTools/bin/')"
   ]
  },
  {
   "cell_type": "code",
   "execution_count": 2,
   "metadata": {},
   "outputs": [],
   "source": [
    "run_dir = '/home/prayush/research/test_pycbc_inj'\n",
    "try: os.makedirs(run_dir)\n",
    "except: pass\n",
    "os.chdir(run_dir)"
   ]
  },
  {
   "cell_type": "code",
   "execution_count": 3,
   "metadata": {},
   "outputs": [
    {
     "name": "stdout",
     "output_type": "stream",
     "text": [
      "/home/prayush/research/test_pycbc_inj\r\n"
     ]
    }
   ],
   "source": [
    "!pwd"
   ]
  },
  {
   "cell_type": "code",
   "execution_count": 4,
   "metadata": {},
   "outputs": [],
   "source": [
    "!rm -rf *"
   ]
  },
  {
   "cell_type": "code",
   "execution_count": 5,
   "metadata": {},
   "outputs": [],
   "source": [
    "!ls"
   ]
  },
  {
   "cell_type": "markdown",
   "metadata": {},
   "source": [
    "## Generate sampler / inference config files"
   ]
  },
  {
   "cell_type": "code",
   "execution_count": 6,
   "metadata": {},
   "outputs": [
    {
     "name": "stdout",
     "output_type": "stream",
     "text": [
      "Could not import ligolw in /home/prayush/src/GWNRTools/GWNRTools/Stats/FisherMatrixUtilities.pyc, LIGO XML tables wont be read\n",
      "usage: /home/prayush/src/GWNRTools/bin//gwnrtools_write_inference_configs [--options]\n",
      "\n",
      "Get and write configuration files for generating a workflow to perform\n",
      "Bayesian parameter estimation runs on a custom set of simulated signals\n",
      "\n",
      "optional arguments:\n",
      "  -h, --help            show this help message and exit\n",
      "  --version             Prints version information.\n",
      "  --verbose             Print logging messages.\n",
      "  --write-data-config WRITE_DATA_CONFIG\n",
      "                        Write data config files and exit.\n",
      "  --write-sampler-config WRITE_SAMPLER_CONFIG\n",
      "                        Write sampler config files and exit.\n",
      "  --write-inference-config WRITE_INFERENCE_CONFIG\n",
      "                        Write inference config files and exit.\n",
      "  --show-available-configs\n",
      "                        Show available options for all configurations.\n",
      "  --output-dir OUTPUT_DIR\n",
      "                        Output directory path.\n"
     ]
    }
   ],
   "source": [
    "!gwnrtools_write_inference_configs -h"
   ]
  },
  {
   "cell_type": "code",
   "execution_count": 7,
   "metadata": {},
   "outputs": [
    {
     "name": "stdout",
     "output_type": "stream",
     "text": [
      "Could not import ligolw in /home/prayush/src/GWNRTools/GWNRTools/Stats/FisherMatrixUtilities.pyc, LIGO XML tables wont be read\n",
      "inference: ['bbh_precessing']\n",
      "data: ['gw150914-like-zeronoise', u'GW170608', u'GW170729', u'GW170817', u'GW151012', u'GW170818', u'GW170814', u'GW150914', u'GW170104', 'gw150914-like-gaussian', u'GW170809', u'GW151226', u'GW170823']\n",
      "sampler: ['epsie', 'dynesty', 'multinest', 'emcee_pt', 'ultranest', 'emcee', 'cpnest']\n"
     ]
    }
   ],
   "source": [
    "!gwnrtools_write_inference_configs --show-available-configs"
   ]
  },
  {
   "cell_type": "code",
   "execution_count": 8,
   "metadata": {},
   "outputs": [
    {
     "name": "stdout",
     "output_type": "stream",
     "text": [
      "Could not import ligolw in /home/prayush/src/GWNRTools/GWNRTools/Stats/FisherMatrixUtilities.pyc, LIGO XML tables wont be read\n",
      "2020-03-04 18:50:53,618 Writing config file for data settings..\n",
      "2020-03-04 18:50:53,619 Writing config file for sampler settings..\n",
      "2020-03-04 18:50:53,619 Writing config file for inference settings..\n",
      "2020-03-04 18:50:53,619 Done\n"
     ]
    }
   ],
   "source": [
    "!gwnrtools_write_inference_configs --verbose\\\n",
    "  --write-sampler-config emcee_pt\\\n",
    "  --write-inference-config bbh_precessing\\\n",
    "  --write-data-config gw150914-like-zeronoise"
   ]
  },
  {
   "cell_type": "code",
   "execution_count": 9,
   "metadata": {},
   "outputs": [
    {
     "name": "stdout",
     "output_type": "stream",
     "text": [
      "bbh_precessing.ini  emcee_pt.ini  gw150914-like-zeronoise.ini\r\n"
     ]
    }
   ],
   "source": [
    "!ls"
   ]
  },
  {
   "cell_type": "code",
   "execution_count": 10,
   "metadata": {
    "scrolled": true
   },
   "outputs": [
    {
     "name": "stdout",
     "output_type": "stream",
     "text": [
      "[model]\r\n",
      "name = gaussian_noise\r\n",
      "low-frequency-cutoff = 20.0\r\n",
      "\r\n",
      "[variable_params]\r\n",
      "; waveform parameters that will vary in MCMC\r\n",
      "delta_tc =\r\n",
      "mass1 =\r\n",
      "mass2 =\r\n",
      "spin1_a =\r\n",
      "spin1_azimuthal =\r\n",
      "spin1_polar =\r\n",
      "spin2_a =\r\n",
      "spin2_azimuthal =\r\n",
      "spin2_polar =\r\n",
      "distance =\r\n",
      "coa_phase =\r\n",
      "inclination =\r\n",
      "polarization =\r\n",
      "ra =\r\n",
      "dec =\r\n",
      "\r\n",
      "[static_params]\r\n",
      "; waveform parameters that will not change in MCMC\r\n",
      "approximant = IMRPhenomPv2\r\n",
      "f_lower = 20\r\n",
      "f_ref = 20\r\n",
      "; we'll set the tc by using the trigger time in the data\r\n",
      "; section of the config file + delta_tc\r\n",
      "trigger_time = ${data|trigger-time}\r\n",
      "\r\n",
      "[prior-delta_tc]\r\n",
      "; coalescence time prior\r\n",
      "name = uniform\r\n",
      "min-delta_tc = -0.1\r\n",
      "max-delta_tc = 0.1\r\n",
      "\r\n",
      "[waveform_transforms-tc]\r\n",
      "; we need to provide tc to the waveform generator\r\n",
      "name = custom\r\n",
      "inputs = delta_tc\r\n",
      "tc = ${data|trigger-time} + delta_tc\r\n",
      "\r\n",
      ";Mass1 of GW151012 $\\in$ [28.7, 38.1]\r\n",
      ";Mass1 of GW170608 $\\in$ [12.7, 16.5]\r\n",
      ";Mass1 of GW170729 $\\in$ [60.4, 66.4]\r\n",
      ";Mass1 of GW150914 $\\in$ [38.7, 40.3]\r\n",
      ";Mass1 of GW151226 $\\in$ [16.9, 22.5]\r\n",
      ";Mass1 of GW170814 $\\in$ [33.6, 36.2]\r\n",
      ";Mass1 of GW170817 $\\in$ [1.56, 1.58]\r\n",
      ";Mass1 of GW170104 $\\in$ [36.4, 38.1]\r\n",
      ";Mass1 of GW170809 $\\in$ [40.9, 43.3]\r\n",
      ";Mass1 of GW170818 $\\in$ [40.1, 42.9]\r\n",
      ";Mass1 of GW170823 $\\in$ [46.2, 50.7]\r\n",
      "\r\n",
      "[prior-mass1]\r\n",
      "name = uniform\r\n",
      "min-mass1 = 10.\r\n",
      "max-mass1 = 80.\r\n",
      "\r\n",
      ";Mass2 of GW151012 $\\in$ [18.4, 17.7]\r\n",
      ";Mass2 of GW170608 $\\in$ [9.8, 9.0]\r\n",
      ";Mass2 of GW170729 $\\in$ [44.1, 43.1]\r\n",
      ";Mass2 of GW150914 $\\in$ [35.0, 33.6]\r\n",
      ";Mass2 of GW151226 $\\in$ [10.2, 9.9]\r\n",
      ";Mass2 of GW170814 $\\in$ [29.2, 28.0]\r\n",
      ";Mass2 of GW170817 $\\in$ [1.36, 1.36]\r\n",
      ";Mass2 of GW170104 $\\in$ [24.6, 24.9]\r\n",
      ";Mass2 of GW170809 $\\in$ [29.0, 28.9]\r\n",
      ";Mass2 of GW170818 $\\in$ [31.9, 31.0]\r\n",
      ";Mass2 of GW170823 $\\in$ [36.8, 35.7]\r\n",
      "\r\n",
      "[prior-mass2]\r\n",
      "name = uniform\r\n",
      "min-mass2 = 10.\r\n",
      "max-mass2 = 80.\r\n",
      "\r\n",
      "[prior-spin1_a]\r\n",
      "name = uniform\r\n",
      "min-spin1_a = 0.0\r\n",
      "max-spin1_a = 0.99\r\n",
      "\r\n",
      "[prior-spin1_polar+spin1_azimuthal]\r\n",
      "name = uniform_solidangle\r\n",
      "polar-angle = spin1_polar\r\n",
      "azimuthal-angle = spin1_azimuthal\r\n",
      "\r\n",
      "[prior-spin2_a]\r\n",
      "name = uniform\r\n",
      "min-spin2_a = 0.0\r\n",
      "max-spin2_a = 0.99\r\n",
      "\r\n",
      "[prior-spin2_polar+spin2_azimuthal]\r\n",
      "name = uniform_solidangle\r\n",
      "polar-angle = spin2_polar\r\n",
      "azimuthal-angle = spin2_azimuthal\r\n",
      "\r\n",
      "[prior-distance]\r\n",
      "; following gives a uniform volume prior\r\n",
      "name = uniform_radius\r\n",
      "min-distance = 10\r\n",
      "max-distance = 1000\r\n",
      "\r\n",
      "[prior-coa_phase]\r\n",
      "; coalescence phase prior\r\n",
      "name = uniform_angle\r\n",
      "\r\n",
      "[prior-inclination]\r\n",
      "; inclination prior\r\n",
      "name = sin_angle\r\n",
      "\r\n",
      "[prior-ra+dec]\r\n",
      "; sky position prior\r\n",
      "name = uniform_sky\r\n",
      "\r\n",
      "[prior-polarization]\r\n",
      "; polarization prior\r\n",
      "name = uniform_angle\r\n"
     ]
    }
   ],
   "source": [
    "!cat bbh_precessing.ini"
   ]
  },
  {
   "cell_type": "code",
   "execution_count": 11,
   "metadata": {},
   "outputs": [
    {
     "name": "stdout",
     "output_type": "stream",
     "text": [
      "[sampler]\r\n",
      "name = emcee_pt\r\n",
      "nwalkers = 500\r\n",
      "ntemps = 20\r\n",
      ";##### Other possible options\r\n",
      "effective-nsamples = 4000\r\n",
      "checkpoint-interval = 2000\r\n",
      "max-samples-per-chain = 1000\r\n",
      "\r\n",
      "[sampler-burn_in]\r\n",
      "burn-in-test = nacl & max_posterior\r\n",
      "\r\n",
      ";\r\n",
      ";   Sampling transforms\r\n",
      ";\r\n",
      "[sampling_params]\r\n",
      "; parameters on the left will be sampled in\r\n",
      "; parametes on the right\r\n",
      "mass1, mass2 : mchirp, q\r\n",
      "\r\n",
      "[sampling_transforms-mchirp+q]\r\n",
      "; inputs mass1, mass2\r\n",
      "; outputs mchirp, q\r\n",
      "name = mass1_mass2_to_mchirp_q\r\n"
     ]
    }
   ],
   "source": [
    "!cat emcee_pt.ini"
   ]
  },
  {
   "cell_type": "code",
   "execution_count": 12,
   "metadata": {},
   "outputs": [
    {
     "name": "stdout",
     "output_type": "stream",
     "text": [
      "[data]\r\n",
      "instruments = H1 L1\r\n",
      "trigger-time = 1126259462.42\r\n",
      "analysis-start-time = -6\r\n",
      "analysis-end-time = 2\r\n",
      "; strain settings\r\n",
      "sample-rate = 2048\r\n",
      "fake-strain = H1:zeroNoise L1:zeroNoise\r\n",
      "; psd settings\r\n",
      "psd-model = aLIGOZeroDetHighPower\r\n",
      "psd-inverse-length = 0\r\n",
      "; even though we're making fake strain, the strain\r\n",
      "; module requires a channel to be provided, so we'll\r\n",
      "; just make one up\r\n",
      "channel-name = H1:STRAIN L1:STRAIN\r\n",
      "; Providing an injection file will cause a simulated\r\n",
      "; signal to be added to the data\r\n",
      "injection-file = injection.hdf\r\n",
      "; We'll use a high-pass filter so as not to get numerical errors from the large\r\n",
      "; amplitude low frequency noise. Here we use 15 Hz, which is safely below the\r\n",
      "; low frequency cutoff of our likelihood integral (20 Hz)\r\n",
      "strain-high-pass = 15\r\n",
      "; The pad-data argument is for the high-pass filter: 8s are added to the\r\n",
      "; beginning/end of the analysis/psd times when the data is loaded. After the\r\n",
      "; high pass filter is applied, the additional time is discarded. This pad is\r\n",
      "; *in addition to* the time added to the analysis start/end time for the PSD\r\n",
      "; inverse length. Since it is discarded before the data is transformed for the\r\n",
      "; likelihood integral, it has little affect on the run time.\r\n",
      "pad-data = 8\r\n"
     ]
    }
   ],
   "source": [
    "!cat gw150914-like-zeronoise.ini"
   ]
  },
  {
   "cell_type": "markdown",
   "metadata": {},
   "source": [
    "## Write workflow config"
   ]
  },
  {
   "cell_type": "code",
   "execution_count": 13,
   "metadata": {},
   "outputs": [],
   "source": [
    "# Write CONFIGS\n",
    "with open(\"injection.ini\", \"w\") as fout:\n",
    "    fout.write(\"\"\"\\\n",
    "[static_params]\n",
    "tc = 1126259462.420\n",
    ";mass1 = 37\n",
    "mass2 = 32\n",
    "ra = 2.2\n",
    "dec = -1.25\n",
    "inclination = 2.5\n",
    "coa_phase = 1.5\n",
    "polarization = 1.75\n",
    "distance = 100\n",
    "f_ref = 20\n",
    "f_lower = 18\n",
    "approximant = SEOBNRv4\n",
    "taper = start\n",
    "\n",
    "[variable_params]\n",
    "mass1 =\n",
    "eccentricity =\n",
    "mean_per_ano =\n",
    "\n",
    "[prior-mass1]\n",
    "name = uniform\n",
    "min-mass1 = 10.\n",
    "max-mass1 = 80.\n",
    "\n",
    "[prior-eccentricity]\n",
    "name = uniform\n",
    "min-eccentricity = 0.\n",
    "max-eccentricity = 0.2\n",
    "\n",
    "[prior-mean_per_ano]\n",
    "name = uniform\n",
    "min-mean_per_ano = 0.\n",
    "max-mean_per_ano = 3.1416\n",
    "\"\"\")"
   ]
  },
  {
   "cell_type": "code",
   "execution_count": 14,
   "metadata": {},
   "outputs": [
    {
     "name": "stdout",
     "output_type": "stream",
     "text": [
      "bbh_precessing.ini  emcee_pt.ini  gw150914-like-zeronoise.ini  injection.ini\r\n"
     ]
    }
   ],
   "source": [
    "!ls"
   ]
  },
  {
   "cell_type": "code",
   "execution_count": 15,
   "metadata": {},
   "outputs": [],
   "source": [
    "# Workflow.ini\n",
    "with open(\"config.ini\", \"w\") as fout:\n",
    "    fout.write(\"\"\"\\\n",
    ";;;;;;;;;;;;;;;;;;;;;;;;;;;;;;;;;;;;\n",
    ";   Executables\n",
    ";;;;;;;;;;;;;;;;;;;;;;;;;;;;;;;;;;;;\n",
    "[executables]\n",
    "inspinj = ${which:pycbc_create_injections}\n",
    "inference = ${which:pycbc_inference}\n",
    "plot = ${which:pycbc_inference_plot_posterior}\n",
    "\n",
    ";;;;;;;;;;;;;;;;;;;;;;;;;;;;;;;;;;;;\n",
    ";   Workflow\n",
    ";;;;;;;;;;;;;;;;;;;;;;;;;;;;;;;;;;;;\n",
    "[workflow]\n",
    "accounting-group = ligo.dev.o3.cbc.explore.test\n",
    "templates-per-job = 100\n",
    "log-path = log\n",
    "banksim-request-memory = 8G\n",
    "data = gw150914-like-zeronoise.ini\n",
    "sampler = emcee_pt.ini\n",
    "inference = bbh_precessing.ini\n",
    "\n",
    ";;;;;;;;;;;;;;;;;;;;;;;;;;;;;;;;;;;;\n",
    ";   Injections\n",
    ";;;;;;;;;;;;;;;;;;;;;;;;;;;;;;;;;;;;\n",
    "[inspinj]\n",
    "config-files = injection.ini\n",
    "ninjections = 10\n",
    "seed = 10\n",
    "output-file = injection.hdf\n",
    "variable-params-section = variable_params\n",
    "static-params-section = static_params\n",
    "dist-section prior =\n",
    "force =\n",
    "\n",
    ";;;;;;;;;;;;;;;;;;;;;;;;;;;;;;;;;;;;\n",
    ";   Inference\n",
    ";;;;;;;;;;;;;;;;;;;;;;;;;;;;;;;;;;;;\n",
    "[inference]\n",
    "verbose =\n",
    "seed = 12\n",
    "config-files = inference.ini data.ini sampler.ini\n",
    "output-file = inference.hdf\n",
    "nprocesses = 10\n",
    "force =\n",
    "\n",
    ";;;;;;;;;;;;;;;;;;;;;;;;;;;;;;;;;;;;\n",
    ";   Visualize\n",
    ";;;;;;;;;;;;;;;;;;;;;;;;;;;;;;;;;;;;\n",
    "[plot]\n",
    "input-file = inference.hdf\n",
    "output-file = plots/posteriors.png\n",
    "plot-scatter =\n",
    "plot-marginal =\n",
    "plot-prior = inference.ini data.ini\n",
    "\"\"\")"
   ]
  },
  {
   "cell_type": "code",
   "execution_count": 16,
   "metadata": {},
   "outputs": [
    {
     "name": "stdout",
     "output_type": "stream",
     "text": [
      "[static_params]\r\n",
      "tc = 1126259462.420\r\n",
      ";mass1 = 37\r\n",
      "mass2 = 32\r\n",
      "ra = 2.2\r\n",
      "dec = -1.25\r\n",
      "inclination = 2.5\r\n",
      "coa_phase = 1.5\r\n",
      "polarization = 1.75\r\n",
      "distance = 100\r\n",
      "f_ref = 20\r\n",
      "f_lower = 18\r\n",
      "approximant = SEOBNRv4\r\n",
      "taper = start\r\n",
      "\r\n",
      "[variable_params]\r\n",
      "mass1 =\r\n",
      "eccentricity =\r\n",
      "mean_per_ano =\r\n",
      "\r\n",
      "[prior-mass1]\r\n",
      "name = uniform\r\n",
      "min-mass1 = 10.\r\n",
      "max-mass1 = 80.\r\n",
      "\r\n",
      "[prior-eccentricity]\r\n",
      "name = uniform\r\n",
      "min-eccentricity = 0.\r\n",
      "max-eccentricity = 0.2\r\n",
      "\r\n",
      "[prior-mean_per_ano]\r\n",
      "name = uniform\r\n",
      "min-mean_per_ano = 0.\r\n",
      "max-mean_per_ano = 3.1416\r\n"
     ]
    }
   ],
   "source": [
    "!cat injection.ini"
   ]
  },
  {
   "cell_type": "code",
   "execution_count": 17,
   "metadata": {},
   "outputs": [
    {
     "name": "stdout",
     "output_type": "stream",
     "text": [
      ";;;;;;;;;;;;;;;;;;;;;;;;;;;;;;;;;;;;\r\n",
      ";   Executables\r\n",
      ";;;;;;;;;;;;;;;;;;;;;;;;;;;;;;;;;;;;\r\n",
      "[executables]\r\n",
      "inspinj = ${which:pycbc_create_injections}\r\n",
      "inference = ${which:pycbc_inference}\r\n",
      "plot = ${which:pycbc_inference_plot_posterior}\r\n",
      "\r\n",
      ";;;;;;;;;;;;;;;;;;;;;;;;;;;;;;;;;;;;\r\n",
      ";   Workflow\r\n",
      ";;;;;;;;;;;;;;;;;;;;;;;;;;;;;;;;;;;;\r\n",
      "[workflow]\r\n",
      "accounting-group = ligo.dev.o3.cbc.explore.test\r\n",
      "templates-per-job = 100\r\n",
      "log-path = log\r\n",
      "banksim-request-memory = 8G\r\n",
      "data = gw150914-like-zeronoise.ini\r\n",
      "sampler = emcee_pt.ini\r\n",
      "inference = bbh_precessing.ini\r\n",
      "\r\n",
      ";;;;;;;;;;;;;;;;;;;;;;;;;;;;;;;;;;;;\r\n",
      ";   Injections\r\n",
      ";;;;;;;;;;;;;;;;;;;;;;;;;;;;;;;;;;;;\r\n",
      "[inspinj]\r\n",
      "config-files = injection.ini\r\n",
      "ninjections = 10\r\n",
      "seed = 10\r\n",
      "output-file = injection.hdf\r\n",
      "variable-params-section = variable_params\r\n",
      "static-params-section = static_params\r\n",
      "dist-section prior =\r\n",
      "force =\r\n",
      "\r\n",
      ";;;;;;;;;;;;;;;;;;;;;;;;;;;;;;;;;;;;\r\n",
      ";   Inference\r\n",
      ";;;;;;;;;;;;;;;;;;;;;;;;;;;;;;;;;;;;\r\n",
      "[inference]\r\n",
      "verbose =\r\n",
      "seed = 12\r\n",
      "config-files = inference.ini data.ini sampler.ini\r\n",
      "output-file = inference.hdf\r\n",
      "nprocesses = 10\r\n",
      "force =\r\n",
      "\r\n",
      ";;;;;;;;;;;;;;;;;;;;;;;;;;;;;;;;;;;;\r\n",
      ";   Visualize\r\n",
      ";;;;;;;;;;;;;;;;;;;;;;;;;;;;;;;;;;;;\r\n",
      "[plot]\r\n",
      "input-file = inference.hdf\r\n",
      "output-file = plots/posteriors.png\r\n",
      "plot-scatter =\r\n",
      "plot-marginal =\r\n",
      "plot-prior = inference.ini data.ini\r\n"
     ]
    }
   ],
   "source": [
    "!cat config.ini"
   ]
  },
  {
   "cell_type": "markdown",
   "metadata": {},
   "source": [
    "## Generate workflow"
   ]
  },
  {
   "cell_type": "code",
   "execution_count": 18,
   "metadata": {
    "scrolled": true
   },
   "outputs": [
    {
     "name": "stdout",
     "output_type": "stream",
     "text": [
      "Could not import ligolw in /home/prayush/src/GWNRTools/GWNRTools/Stats/FisherMatrixUtilities.pyc, LIGO XML tables wont be read\n",
      "usage: /home/prayush/src/GWNRTools/bin//gwnrtools_create_injections_inference_workflow [--options]\n",
      "\n",
      "Setup workflow to perform Bayesian parameter estimation runs on a custom set\n",
      "of simulated signals\n",
      "\n",
      "optional arguments:\n",
      "  -h, --help            show this help message and exit\n",
      "  --version             Prints version information.\n",
      "  --verbose             Print logging messages.\n",
      "  --skip-creating-injections\n",
      "                        Skip calling lalapps_inspinj and assume injections\n",
      "                        already exist\n",
      "  --output-dir OUTPUT_DIR\n",
      "                        Output directory path.\n",
      "  --force               If the output-dir already exists, overwrite it.\n",
      "                        Otherwise, an OSError is raised.\n",
      "  --save-backup         Don't delete the backup file after the run has\n",
      "                        completed.\n",
      "  --nprocesses NPROCESSES\n",
      "                        Number of processes to use. If not given then only a\n",
      "                        single core will be used.\n",
      "  --use-mpi             Use MPI to parallelize the sampler\n",
      "  --samples-file SAMPLES_FILE\n",
      "                        Use an iteration from an InferenceFile as the initial\n",
      "                        proposal distribution. The same number of walkers and\n",
      "                        the same [variable_params] section in the\n",
      "                        configuration file should be used. The priors must\n",
      "                        allow encompass the initial positions from the\n",
      "                        InferenceFile being read.\n",
      "  --seed SEED           Seed to use for the random number generator that\n",
      "                        initially distributes the walkers. Default is 0.\n",
      "\n",
      "Configuration:\n",
      "  Options needed for parsing config file(s).\n",
      "\n",
      "  --config-files CONFIGFILE [CONFIGFILE ...]\n",
      "                        List of config files to be used in analysis.\n",
      "  --config-overrides [SECTION:OPTION:VALUE [SECTION:OPTION:VALUE ...]]\n",
      "                        List of section,option,value combinations to add into\n",
      "                        the configuration file. Normally the gps start and end\n",
      "                        times might be provided this way, and user specific\n",
      "                        locations (ie. output directories). This can also be\n",
      "                        provided as SECTION:OPTION or SECTION:OPTION: both of\n",
      "                        which indicate that the corresponding value is left\n",
      "                        blank.\n",
      "  --config-delete [SECTION:OPTION [SECTION:OPTION ...]]\n",
      "                        List of section,option combinations to delete from the\n",
      "                        configuration file. This can also be provided as\n",
      "                        SECTION which deletes the enture section from the\n",
      "                        configuration file or SECTION:OPTION which deletes a\n",
      "                        specific option from a given section.\n",
      "\n",
      "Options for selecting the FFT backend and controlling its performance in this program.:\n",
      "  --fft-backends [FFT_BACKENDS [FFT_BACKENDS ...]]\n",
      "                        Preference list of the FFT backends. Choices are:\n",
      "                        ['fftw', 'numpy']\n",
      "  --fftw-measure-level FFTW_MEASURE_LEVEL\n",
      "                        Determines the measure level used in planning FFTW\n",
      "                        FFTs; allowed values are: [0, 1, 2, 3]\n",
      "  --fftw-threads-backend FFTW_THREADS_BACKEND\n",
      "                        Give 'openmp', 'pthreads' or 'unthreaded' to specify\n",
      "                        which threaded FFTW to use\n",
      "  --fftw-input-float-wisdom-file FFTW_INPUT_FLOAT_WISDOM_FILE\n",
      "                        Filename from which to read single-precision wisdom\n",
      "  --fftw-input-double-wisdom-file FFTW_INPUT_DOUBLE_WISDOM_FILE\n",
      "                        Filename from which to read double-precision wisdom\n",
      "  --fftw-output-float-wisdom-file FFTW_OUTPUT_FLOAT_WISDOM_FILE\n",
      "                        Filename to which to write single-precision wisdom\n",
      "  --fftw-output-double-wisdom-file FFTW_OUTPUT_DOUBLE_WISDOM_FILE\n",
      "                        Filename to which to write double-precision wisdom\n",
      "  --fftw-import-system-wisdom\n",
      "                        If given, call fftw[f]_import_system_wisdom()\n",
      "\n",
      "Options for selecting optimization-specific settings:\n",
      "  --cpu-affinity CPU_AFFINITY\n",
      "                        A set of CPUs on which to run, specified in a format\n",
      "                        suitable to pass to taskset.\n",
      "  --cpu-affinity-from-env CPU_AFFINITY_FROM_ENV\n",
      "                        The name of an enivornment variable containing a set\n",
      "                        of CPUs on which to run, specified in a format\n",
      "                        suitable to pass to taskset.\n",
      "\n",
      "Options for selecting the processing scheme in this program.:\n",
      "  --processing-scheme PROCESSING_SCHEME\n",
      "                        The choice of processing scheme. Choices are ['mkl',\n",
      "                        'numpy', 'cpu', 'cuda']. (optional for CPU scheme) The\n",
      "                        number of execution threads can be indicated by\n",
      "                        cpu:NUM_THREADS, where NUM_THREADS is an integer. The\n",
      "                        default is a single thread. If the scheme is provided\n",
      "                        as cpu:env, the number of threads can be provided by\n",
      "                        the PYCBC_NUM_THREADS environment variable. If the\n",
      "                        environment variable is not set, the number of threads\n",
      "                        matches the number of logical cores.\n",
      "  --processing-device-id PROCESSING_DEVICE_ID\n",
      "                        (optional) ID of GPU to use for accelerated processing\n"
     ]
    }
   ],
   "source": [
    "!gwnrtools_create_injections_inference_workflow -h"
   ]
  },
  {
   "cell_type": "code",
   "execution_count": 19,
   "metadata": {
    "scrolled": false
   },
   "outputs": [
    {
     "name": "stdout",
     "output_type": "stream",
     "text": [
      "Could not import ligolw in /home/prayush/src/GWNRTools/GWNRTools/Stats/FisherMatrixUtilities.pyc, LIGO XML tables wont be read\n",
      "2020-03-04 18:50:57,970 Using seed 0\n",
      "2020-03-04 18:50:57,971 Will setup analyses in .\n",
      "2020-03-04 18:50:57,971 Running with CPU support: 1 threads\n",
      "2020-03-04 18:50:58,056 Reading configuration file\n",
      "2020-03-04 18:50:58,057 Making workspace directories\n",
      "2020-03-04 18:50:58,073 Creating DAG\n",
      "2020-03-04 18:50:58,074 Making injection002/gw150914-like-zeronoise/emcee_pt/bbh_precessing in /home/prayush/research/test_pycbc_inj\n",
      "2020-03-04 18:50:58,101 Copying config files to injection002/gw150914-like-zeronoise/emcee_pt/bbh_precessing\n",
      "2020-03-04 18:50:58,102 Copying executables to injection002/gw150914-like-zeronoise/emcee_pt/bbh_precessing/scripts/\n",
      "2020-03-04 18:50:58,104 Making injection003/gw150914-like-zeronoise/emcee_pt/bbh_precessing in /home/prayush/research/test_pycbc_inj\n",
      "2020-03-04 18:50:58,131 Copying config files to injection003/gw150914-like-zeronoise/emcee_pt/bbh_precessing\n",
      "2020-03-04 18:50:58,132 Copying executables to injection003/gw150914-like-zeronoise/emcee_pt/bbh_precessing/scripts/\n",
      "2020-03-04 18:50:58,133 Making injection004/gw150914-like-zeronoise/emcee_pt/bbh_precessing in /home/prayush/research/test_pycbc_inj\n",
      "2020-03-04 18:50:58,160 Copying config files to injection004/gw150914-like-zeronoise/emcee_pt/bbh_precessing\n",
      "2020-03-04 18:50:58,161 Copying executables to injection004/gw150914-like-zeronoise/emcee_pt/bbh_precessing/scripts/\n",
      "2020-03-04 18:50:58,162 Making injection005/gw150914-like-zeronoise/emcee_pt/bbh_precessing in /home/prayush/research/test_pycbc_inj\n",
      "2020-03-04 18:50:58,192 Copying config files to injection005/gw150914-like-zeronoise/emcee_pt/bbh_precessing\n",
      "2020-03-04 18:50:58,193 Copying executables to injection005/gw150914-like-zeronoise/emcee_pt/bbh_precessing/scripts/\n",
      "2020-03-04 18:50:58,194 Making injection006/gw150914-like-zeronoise/emcee_pt/bbh_precessing in /home/prayush/research/test_pycbc_inj\n",
      "2020-03-04 18:50:58,220 Copying config files to injection006/gw150914-like-zeronoise/emcee_pt/bbh_precessing\n",
      "2020-03-04 18:50:58,220 Copying executables to injection006/gw150914-like-zeronoise/emcee_pt/bbh_precessing/scripts/\n",
      "2020-03-04 18:50:58,221 Making injection009/gw150914-like-zeronoise/emcee_pt/bbh_precessing in /home/prayush/research/test_pycbc_inj\n",
      "2020-03-04 18:50:58,248 Copying config files to injection009/gw150914-like-zeronoise/emcee_pt/bbh_precessing\n",
      "2020-03-04 18:50:58,248 Copying executables to injection009/gw150914-like-zeronoise/emcee_pt/bbh_precessing/scripts/\n",
      "2020-03-04 18:50:58,249 Making injection001/gw150914-like-zeronoise/emcee_pt/bbh_precessing in /home/prayush/research/test_pycbc_inj\n",
      "2020-03-04 18:50:58,275 Copying config files to injection001/gw150914-like-zeronoise/emcee_pt/bbh_precessing\n",
      "2020-03-04 18:50:58,276 Copying executables to injection001/gw150914-like-zeronoise/emcee_pt/bbh_precessing/scripts/\n",
      "2020-03-04 18:50:58,277 Making injection007/gw150914-like-zeronoise/emcee_pt/bbh_precessing in /home/prayush/research/test_pycbc_inj\n",
      "2020-03-04 18:50:58,304 Copying config files to injection007/gw150914-like-zeronoise/emcee_pt/bbh_precessing\n",
      "2020-03-04 18:50:58,305 Copying executables to injection007/gw150914-like-zeronoise/emcee_pt/bbh_precessing/scripts/\n",
      "2020-03-04 18:50:58,306 Making injection008/gw150914-like-zeronoise/emcee_pt/bbh_precessing in /home/prayush/research/test_pycbc_inj\n",
      "2020-03-04 18:50:58,336 Copying config files to injection008/gw150914-like-zeronoise/emcee_pt/bbh_precessing\n",
      "2020-03-04 18:50:58,336 Copying executables to injection008/gw150914-like-zeronoise/emcee_pt/bbh_precessing/scripts/\n",
      "2020-03-04 18:50:58,337 Making injection000/gw150914-like-zeronoise/emcee_pt/bbh_precessing in /home/prayush/research/test_pycbc_inj\n",
      "2020-03-04 18:50:58,361 Copying config files to injection000/gw150914-like-zeronoise/emcee_pt/bbh_precessing\n",
      "2020-03-04 18:50:58,362 Copying executables to injection000/gw150914-like-zeronoise/emcee_pt/bbh_precessing/scripts/\n",
      "2020-03-04 18:50:58,365 Done\n"
     ]
    }
   ],
   "source": [
    "!gwnrtools_create_injections_inference_workflow --config-files config.ini\\\n",
    "    --output-dir . --force --verbose"
   ]
  },
  {
   "cell_type": "code",
   "execution_count": 20,
   "metadata": {
    "scrolled": true
   },
   "outputs": [
    {
     "name": "stdout",
     "output_type": "stream",
     "text": [
      "\u001b[01;34m.\u001b[00m\r\n",
      "├── bbh_precessing.ini\r\n",
      "├── config.ini\r\n",
      "├── emcee_pt.ini\r\n",
      "├── gw150914-like-zeronoise.ini\r\n",
      "├── \u001b[01;34minjection000\u001b[00m\r\n",
      "│   └── \u001b[01;34mgw150914-like-zeronoise\u001b[00m\r\n",
      "│       └── \u001b[01;34memcee_pt\u001b[00m\r\n",
      "│           └── \u001b[01;34mbbh_precessing\u001b[00m\r\n",
      "│               ├── data.ini\r\n",
      "│               ├── inference.ini\r\n",
      "│               ├── injection.ini\r\n",
      "│               ├── \u001b[01;34mlog\u001b[00m\r\n",
      "│               ├── \u001b[01;32mmake_injection\u001b[00m\r\n",
      "│               ├── make_injection.sub\r\n",
      "│               ├── \u001b[01;32mmake_plot\u001b[00m\r\n",
      "│               ├── make_plot.sub\r\n",
      "│               ├── \u001b[01;34mplots\u001b[00m\r\n",
      "│               ├── \u001b[01;32mrun_inference\u001b[00m\r\n",
      "│               ├── run_inference.sub\r\n",
      "│               ├── sampler.ini\r\n",
      "│               └── \u001b[01;34mscripts\u001b[00m\r\n",
      "│                   ├── \u001b[01;32mpycbc_create_injections\u001b[00m\r\n",
      "│                   ├── \u001b[01;32mpycbc_inference\u001b[00m\r\n",
      "│                   └── \u001b[01;32mpycbc_inference_plot_posterior\u001b[00m\r\n",
      "├── \u001b[01;34minjection001\u001b[00m\r\n",
      "│   └── \u001b[01;34mgw150914-like-zeronoise\u001b[00m\r\n",
      "│       └── \u001b[01;34memcee_pt\u001b[00m\r\n",
      "│           └── \u001b[01;34mbbh_precessing\u001b[00m\r\n",
      "│               ├── data.ini\r\n",
      "│               ├── inference.ini\r\n",
      "│               ├── injection.ini\r\n",
      "│               ├── \u001b[01;34mlog\u001b[00m\r\n",
      "│               ├── \u001b[01;32mmake_injection\u001b[00m\r\n",
      "│               ├── make_injection.sub\r\n",
      "│               ├── \u001b[01;32mmake_plot\u001b[00m\r\n",
      "│               ├── make_plot.sub\r\n",
      "│               ├── \u001b[01;34mplots\u001b[00m\r\n",
      "│               ├── \u001b[01;32mrun_inference\u001b[00m\r\n",
      "│               ├── run_inference.sub\r\n",
      "│               ├── sampler.ini\r\n",
      "│               └── \u001b[01;34mscripts\u001b[00m\r\n",
      "│                   ├── \u001b[01;32mpycbc_create_injections\u001b[00m\r\n",
      "│                   ├── \u001b[01;32mpycbc_inference\u001b[00m\r\n",
      "│                   └── \u001b[01;32mpycbc_inference_plot_posterior\u001b[00m\r\n",
      "├── \u001b[01;34minjection002\u001b[00m\r\n",
      "│   └── \u001b[01;34mgw150914-like-zeronoise\u001b[00m\r\n",
      "│       └── \u001b[01;34memcee_pt\u001b[00m\r\n",
      "│           └── \u001b[01;34mbbh_precessing\u001b[00m\r\n",
      "│               ├── data.ini\r\n",
      "│               ├── inference.ini\r\n",
      "│               ├── injection.ini\r\n",
      "│               ├── \u001b[01;34mlog\u001b[00m\r\n",
      "│               ├── \u001b[01;32mmake_injection\u001b[00m\r\n",
      "│               ├── make_injection.sub\r\n",
      "│               ├── \u001b[01;32mmake_plot\u001b[00m\r\n",
      "│               ├── make_plot.sub\r\n",
      "│               ├── \u001b[01;34mplots\u001b[00m\r\n",
      "│               ├── \u001b[01;32mrun_inference\u001b[00m\r\n",
      "│               ├── run_inference.sub\r\n",
      "│               ├── sampler.ini\r\n",
      "│               └── \u001b[01;34mscripts\u001b[00m\r\n",
      "│                   ├── \u001b[01;32mpycbc_create_injections\u001b[00m\r\n",
      "│                   ├── \u001b[01;32mpycbc_inference\u001b[00m\r\n",
      "│                   └── \u001b[01;32mpycbc_inference_plot_posterior\u001b[00m\r\n",
      "├── \u001b[01;34minjection003\u001b[00m\r\n",
      "│   └── \u001b[01;34mgw150914-like-zeronoise\u001b[00m\r\n",
      "│       └── \u001b[01;34memcee_pt\u001b[00m\r\n",
      "│           └── \u001b[01;34mbbh_precessing\u001b[00m\r\n",
      "│               ├── data.ini\r\n",
      "│               ├── inference.ini\r\n",
      "│               ├── injection.ini\r\n",
      "│               ├── \u001b[01;34mlog\u001b[00m\r\n",
      "│               ├── \u001b[01;32mmake_injection\u001b[00m\r\n",
      "│               ├── make_injection.sub\r\n",
      "│               ├── \u001b[01;32mmake_plot\u001b[00m\r\n",
      "│               ├── make_plot.sub\r\n",
      "│               ├── \u001b[01;34mplots\u001b[00m\r\n",
      "│               ├── \u001b[01;32mrun_inference\u001b[00m\r\n",
      "│               ├── run_inference.sub\r\n",
      "│               ├── sampler.ini\r\n",
      "│               └── \u001b[01;34mscripts\u001b[00m\r\n",
      "│                   ├── \u001b[01;32mpycbc_create_injections\u001b[00m\r\n",
      "│                   ├── \u001b[01;32mpycbc_inference\u001b[00m\r\n",
      "│                   └── \u001b[01;32mpycbc_inference_plot_posterior\u001b[00m\r\n",
      "├── \u001b[01;34minjection004\u001b[00m\r\n",
      "│   └── \u001b[01;34mgw150914-like-zeronoise\u001b[00m\r\n",
      "│       └── \u001b[01;34memcee_pt\u001b[00m\r\n",
      "│           └── \u001b[01;34mbbh_precessing\u001b[00m\r\n",
      "│               ├── data.ini\r\n",
      "│               ├── inference.ini\r\n",
      "│               ├── injection.ini\r\n",
      "│               ├── \u001b[01;34mlog\u001b[00m\r\n",
      "│               ├── \u001b[01;32mmake_injection\u001b[00m\r\n",
      "│               ├── make_injection.sub\r\n",
      "│               ├── \u001b[01;32mmake_plot\u001b[00m\r\n",
      "│               ├── make_plot.sub\r\n",
      "│               ├── \u001b[01;34mplots\u001b[00m\r\n",
      "│               ├── \u001b[01;32mrun_inference\u001b[00m\r\n",
      "│               ├── run_inference.sub\r\n",
      "│               ├── sampler.ini\r\n",
      "│               └── \u001b[01;34mscripts\u001b[00m\r\n",
      "│                   ├── \u001b[01;32mpycbc_create_injections\u001b[00m\r\n",
      "│                   ├── \u001b[01;32mpycbc_inference\u001b[00m\r\n",
      "│                   └── \u001b[01;32mpycbc_inference_plot_posterior\u001b[00m\r\n",
      "├── \u001b[01;34minjection005\u001b[00m\r\n",
      "│   └── \u001b[01;34mgw150914-like-zeronoise\u001b[00m\r\n",
      "│       └── \u001b[01;34memcee_pt\u001b[00m\r\n",
      "│           └── \u001b[01;34mbbh_precessing\u001b[00m\r\n",
      "│               ├── data.ini\r\n",
      "│               ├── inference.ini\r\n",
      "│               ├── injection.ini\r\n",
      "│               ├── \u001b[01;34mlog\u001b[00m\r\n",
      "│               ├── \u001b[01;32mmake_injection\u001b[00m\r\n",
      "│               ├── make_injection.sub\r\n",
      "│               ├── \u001b[01;32mmake_plot\u001b[00m\r\n",
      "│               ├── make_plot.sub\r\n",
      "│               ├── \u001b[01;34mplots\u001b[00m\r\n",
      "│               ├── \u001b[01;32mrun_inference\u001b[00m\r\n",
      "│               ├── run_inference.sub\r\n",
      "│               ├── sampler.ini\r\n",
      "│               └── \u001b[01;34mscripts\u001b[00m\r\n",
      "│                   ├── \u001b[01;32mpycbc_create_injections\u001b[00m\r\n",
      "│                   ├── \u001b[01;32mpycbc_inference\u001b[00m\r\n",
      "│                   └── \u001b[01;32mpycbc_inference_plot_posterior\u001b[00m\r\n",
      "├── \u001b[01;34minjection006\u001b[00m\r\n",
      "│   └── \u001b[01;34mgw150914-like-zeronoise\u001b[00m\r\n",
      "│       └── \u001b[01;34memcee_pt\u001b[00m\r\n",
      "│           └── \u001b[01;34mbbh_precessing\u001b[00m\r\n",
      "│               ├── data.ini\r\n",
      "│               ├── inference.ini\r\n",
      "│               ├── injection.ini\r\n",
      "│               ├── \u001b[01;34mlog\u001b[00m\r\n",
      "│               ├── \u001b[01;32mmake_injection\u001b[00m\r\n",
      "│               ├── make_injection.sub\r\n",
      "│               ├── \u001b[01;32mmake_plot\u001b[00m\r\n",
      "│               ├── make_plot.sub\r\n",
      "│               ├── \u001b[01;34mplots\u001b[00m\r\n",
      "│               ├── \u001b[01;32mrun_inference\u001b[00m\r\n",
      "│               ├── run_inference.sub\r\n",
      "│               ├── sampler.ini\r\n",
      "│               └── \u001b[01;34mscripts\u001b[00m\r\n",
      "│                   ├── \u001b[01;32mpycbc_create_injections\u001b[00m\r\n",
      "│                   ├── \u001b[01;32mpycbc_inference\u001b[00m\r\n",
      "│                   └── \u001b[01;32mpycbc_inference_plot_posterior\u001b[00m\r\n",
      "├── \u001b[01;34minjection007\u001b[00m\r\n",
      "│   └── \u001b[01;34mgw150914-like-zeronoise\u001b[00m\r\n",
      "│       └── \u001b[01;34memcee_pt\u001b[00m\r\n",
      "│           └── \u001b[01;34mbbh_precessing\u001b[00m\r\n",
      "│               ├── data.ini\r\n",
      "│               ├── inference.ini\r\n",
      "│               ├── injection.ini\r\n",
      "│               ├── \u001b[01;34mlog\u001b[00m\r\n",
      "│               ├── \u001b[01;32mmake_injection\u001b[00m\r\n",
      "│               ├── make_injection.sub\r\n",
      "│               ├── \u001b[01;32mmake_plot\u001b[00m\r\n",
      "│               ├── make_plot.sub\r\n",
      "│               ├── \u001b[01;34mplots\u001b[00m\r\n",
      "│               ├── \u001b[01;32mrun_inference\u001b[00m\r\n",
      "│               ├── run_inference.sub\r\n",
      "│               ├── sampler.ini\r\n",
      "│               └── \u001b[01;34mscripts\u001b[00m\r\n",
      "│                   ├── \u001b[01;32mpycbc_create_injections\u001b[00m\r\n",
      "│                   ├── \u001b[01;32mpycbc_inference\u001b[00m\r\n",
      "│                   └── \u001b[01;32mpycbc_inference_plot_posterior\u001b[00m\r\n",
      "├── \u001b[01;34minjection008\u001b[00m\r\n",
      "│   └── \u001b[01;34mgw150914-like-zeronoise\u001b[00m\r\n",
      "│       └── \u001b[01;34memcee_pt\u001b[00m\r\n",
      "│           └── \u001b[01;34mbbh_precessing\u001b[00m\r\n",
      "│               ├── data.ini\r\n",
      "│               ├── inference.ini\r\n",
      "│               ├── injection.ini\r\n",
      "│               ├── \u001b[01;34mlog\u001b[00m\r\n",
      "│               ├── \u001b[01;32mmake_injection\u001b[00m\r\n",
      "│               ├── make_injection.sub\r\n",
      "│               ├── \u001b[01;32mmake_plot\u001b[00m\r\n",
      "│               ├── make_plot.sub\r\n",
      "│               ├── \u001b[01;34mplots\u001b[00m\r\n",
      "│               ├── \u001b[01;32mrun_inference\u001b[00m\r\n",
      "│               ├── run_inference.sub\r\n",
      "│               ├── sampler.ini\r\n",
      "│               └── \u001b[01;34mscripts\u001b[00m\r\n",
      "│                   ├── \u001b[01;32mpycbc_create_injections\u001b[00m\r\n",
      "│                   ├── \u001b[01;32mpycbc_inference\u001b[00m\r\n",
      "│                   └── \u001b[01;32mpycbc_inference_plot_posterior\u001b[00m\r\n",
      "├── \u001b[01;34minjection009\u001b[00m\r\n",
      "│   └── \u001b[01;34mgw150914-like-zeronoise\u001b[00m\r\n",
      "│       └── \u001b[01;34memcee_pt\u001b[00m\r\n",
      "│           └── \u001b[01;34mbbh_precessing\u001b[00m\r\n",
      "│               ├── data.ini\r\n",
      "│               ├── inference.ini\r\n",
      "│               ├── injection.ini\r\n",
      "│               ├── \u001b[01;34mlog\u001b[00m\r\n",
      "│               ├── \u001b[01;32mmake_injection\u001b[00m\r\n",
      "│               ├── make_injection.sub\r\n",
      "│               ├── \u001b[01;32mmake_plot\u001b[00m\r\n",
      "│               ├── make_plot.sub\r\n",
      "│               ├── \u001b[01;34mplots\u001b[00m\r\n",
      "│               ├── \u001b[01;32mrun_inference\u001b[00m\r\n",
      "│               ├── run_inference.sub\r\n",
      "│               ├── sampler.ini\r\n",
      "│               └── \u001b[01;34mscripts\u001b[00m\r\n",
      "│                   ├── \u001b[01;32mpycbc_create_injections\u001b[00m\r\n",
      "│                   ├── \u001b[01;32mpycbc_inference\u001b[00m\r\n",
      "│                   └── \u001b[01;32mpycbc_inference_plot_posterior\u001b[00m\r\n",
      "├── injection.ini\r\n",
      "├── \u001b[01;34mlog\u001b[00m\r\n",
      "├── \u001b[01;34mplots\u001b[00m\r\n",
      "├── pycbc_inference_injections.dag\r\n",
      "├── \u001b[01;32mpycbc_inference_injections.sh\u001b[00m\r\n",
      "└── \u001b[01;34mscripts\u001b[00m\r\n",
      "\r\n",
      "73 directories, 137 files\r\n"
     ]
    }
   ],
   "source": [
    "!tree"
   ]
  },
  {
   "cell_type": "markdown",
   "metadata": {},
   "source": [
    "## Submit & monitor workflow"
   ]
  },
  {
   "cell_type": "code",
   "execution_count": 21,
   "metadata": {},
   "outputs": [],
   "source": [
    "!condor_submit_dag pycbc_inference_injections.dag >> dag.out"
   ]
  },
  {
   "cell_type": "code",
   "execution_count": 24,
   "metadata": {},
   "outputs": [
    {
     "name": "stdout",
     "output_type": "stream",
     "text": [
      "03/04/20 18:51:03 Number of idle job procs: 4\r\n",
      "03/04/20 18:51:03 Reassigning the id of job bef8a4cbe1f89655c581f3272242dc6f from (148.0.0) to (148.0.0)\r\n",
      "03/04/20 18:51:03 Event: ULOG_SUBMIT for HTCondor Node bef8a4cbe1f89655c581f3272242dc6f (148.0.0) {03/04/20 18:51:03}\r\n",
      "03/04/20 18:51:03 Number of idle job procs: 5\r\n",
      "03/04/20 18:51:03 DAG status: 0 (DAG_STATUS_OK)\r\n",
      "03/04/20 18:51:03 Of 30 nodes total:\r\n",
      "03/04/20 18:51:03  Done     Pre   Queued    Post   Ready   Un-Ready   Failed\r\n",
      "03/04/20 18:51:03   ===     ===      ===     ===     ===        ===      ===\r\n",
      "03/04/20 18:51:03     0       0        5       0       5         20        0\r\n",
      "03/04/20 18:51:03 0 job proc(s) currently held\r\n"
     ]
    }
   ],
   "source": [
    "!tail *dagman.out"
   ]
  },
  {
   "cell_type": "code",
   "execution_count": 23,
   "metadata": {},
   "outputs": [
    {
     "name": "stdout",
     "output_type": "stream",
     "text": [
      "bbh_precessing.ini\t     injection009\r\n",
      "config.ini\t\t     injection.ini\r\n",
      "dag.out\t\t\t     log\r\n",
      "emcee_pt.ini\t\t     plots\r\n",
      "gw150914-like-zeronoise.ini  pycbc_inference_injections.dag\r\n",
      "injection000\t\t     pycbc_inference_injections.dag.condor.sub\r\n",
      "injection001\t\t     pycbc_inference_injections.dag.dagman.log\r\n",
      "injection002\t\t     pycbc_inference_injections.dag.dagman.out\r\n",
      "injection003\t\t     pycbc_inference_injections.dag.lib.err\r\n",
      "injection004\t\t     pycbc_inference_injections.dag.lib.out\r\n",
      "injection005\t\t     pycbc_inference_injections.dag.lock\r\n",
      "injection006\t\t     pycbc_inference_injections.sh\r\n",
      "injection007\t\t     scripts\r\n",
      "injection008\r\n"
     ]
    }
   ],
   "source": [
    "!ls"
   ]
  },
  {
   "cell_type": "code",
   "execution_count": null,
   "metadata": {},
   "outputs": [],
   "source": []
  }
 ],
 "metadata": {
  "kernelspec": {
   "display_name": "Python 2",
   "language": "python",
   "name": "python2"
  },
  "language_info": {
   "codemirror_mode": {
    "name": "ipython",
    "version": 2
   },
   "file_extension": ".py",
   "mimetype": "text/x-python",
   "name": "python",
   "nbconvert_exporter": "python",
   "pygments_lexer": "ipython2",
   "version": "2.7.15+"
  }
 },
 "nbformat": 4,
 "nbformat_minor": 2
}
