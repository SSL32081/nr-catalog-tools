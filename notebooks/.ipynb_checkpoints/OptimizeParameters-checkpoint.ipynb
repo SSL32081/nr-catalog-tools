{
 "cells": [
  {
   "cell_type": "markdown",
   "metadata": {
    "Collapsed": "false"
   },
   "source": [
    "# Recalibrating the ringdown attachment frequency for ENIGMA"
   ]
  },
  {
   "cell_type": "markdown",
   "metadata": {
    "Collapsed": "false"
   },
   "source": [
    " - The idea here is to use an MCMC algorithm to find the best parameters that make ENIGMA agree with SEOBNRv4 in the regions of parameter space that overlap for them\n",
    " - We will use the emcee package for this\n",
    " - We need a few components for MCMC:\n",
    "    - A way to generate ENIGMA for a given set of parameters **$\\theta$**\n",
    "\n",
    "\n",
    "**Define**:\n",
    "\n",
    " 1. Fix $\\{m_1, m_2\\}$\n",
    " 1. $\\theta = \\{\\omega_\\mathrm{attach}, \\,\\mathrm{PN\\, order}\\}$\n",
    " 1. ndim = len(\\theta) = 2\n",
    " 1. log_prob $\\propto \\langle h_1, h_2 \\rangle$ \n",
    "\n",
    "**Choose internal parameters**:\n",
    "\n",
    " 1. PSD $\\in$ [**aLIGOZeroDetHighPower**, **Flat**]\n",
    " 2. low frequency cutoff $\\in [15, 20, 30]Hz$\n",
    " 2. sample rate = $2048$\n",
    " 2. masses $(m_1, m_2) \\in [40, 60]M_\\odot$\n",
    " 2. attachment time $t_\\mathrm{attach} \\in $ **???**\n",
    " 2. attachment time window $dt_\\mathrm{attach} \\in $ **???**\n",
    "\n",
    "**Algorithm**:\n",
    "\n",
    "* Sample $\\theta$:\n",
    " 1. PNO $\\in [6, 7, 8, 9, 10, 11, 12]$\n",
    " 1. $\\omega_\\mathrm{attach} \\in [0.01, 0.1]$\n",
    "* Do:\n",
    " 1. Compute $h_1 \\equiv$ h_ENIGMA$\\left(m_1, m_2, \\theta; t\\right)$\n",
    " 1. Compute $h_2 \\equiv$ h_EOB$\\left(m_1, m_2, \\theta; t\\right)$\n",
    " 1. Compute log_prob = $\\propto \\langle h_1, h_2 \\rangle$\n",
    "\n",
    "**Code plan**:\n",
    "\n",
    "* `gwnrtools_enigma_plan_grid_and_make_dag`\n",
    " - Inputs:\n",
    "   - mass1 range, num_points\n",
    "   - mass2 range, num_points\n",
    "   - f_lower choices\n",
    "   - psd choices\n",
    "   - num_unique_mcmc_per_job\n",
    " - Meat:\n",
    "   - Generate a hypercubic lattice over {mass1, mass2, f_lower, psd_choices}\n",
    "   - \n",
    " - Output:\n",
    "   - DAG\n",
    "* `gwnrtools_enigma_sample_parameters`\n",
    " - Inputs:\n",
    "   - Fixed values of mass1\n",
    "   - Fixed values of mass2\n",
    "   - Fixed values of f_lower\n",
    "   - Fixed values of psd\n",
    " - Meat:\n",
    "   - Iterate over {mass1, mass2, f_lower, psd_choices}\n",
    "   - MCMC over $\\{\\omega_\\mathrm{attach}, \\mathrm{PNO}\\}$\n",
    " - Output:\n",
    "   - Text file with columns:\n",
    "     - [1] mass-ratio\n",
    "     - [2] total-mass\n",
    "     - [3] mass1\n",
    "     - [4] mass2\n",
    "     - [5] ecc value\n",
    "     - [6] PN order\n",
    "     - [7] omega_attach\n",
    "     - [8] overlap\n",
    "     - [9] Re[unphase-maximized overlap]\n",
    "     - [10] Im[unphase-maximized overlap]\n",
    "     - [11] norm1\n",
    "     - [12] norm2"
   ]
  },
  {
   "cell_type": "code",
   "execution_count": 2,
   "metadata": {
    "Collapsed": "false"
   },
   "outputs": [],
   "source": [
    "import os\n",
    "import logging\n",
    "from multiprocessing import Pool\n",
    "import numpy as np\n",
    "import h5py\n",
    "import emcee\n",
    "import matplotlib.pyplot as plt\n",
    "%matplotlib inline"
   ]
  },
  {
   "cell_type": "code",
   "execution_count": 3,
   "metadata": {},
   "outputs": [],
   "source": [
    "## PLOT STYLING\n",
    "linestyles = ['-', '--', '-.', '-x', '--o']\n",
    "linecolors = ['r', 'g', 'b', 'k', 'm', 'y']\n",
    "gmean = (5**0.5 + 1)/2.\n",
    "\n",
    "# Figure settings\n",
    "ppi=72.0\n",
    "aspect=(5.**0.5 - 1) * 0.5\n",
    "size=4.0 * 3# was 6\n",
    "figsize=(size,aspect*size)\n",
    "plt.rcParams.update({\\\n",
    "   'legend.fontsize':22, \\\n",
    "   'axes.labelsize':26,\\\n",
    "   'font.family':'serif',\\\n",
    "   'font.size':20,\\\n",
    "   'xtick.labelsize':26,\\\n",
    "   'ytick.labelsize':26,\\\n",
    "   'figure.subplot.bottom':0.2,\\\n",
    "   'figure.figsize':figsize, \\\n",
    "   'savefig.dpi': 300.0, \\\n",
    "   'figure.autolayout': True})"
   ]
  },
  {
   "cell_type": "code",
   "execution_count": 4,
   "metadata": {
    "Collapsed": "false"
   },
   "outputs": [],
   "source": [
    "from pycbc.waveform import get_td_waveform, get_fd_waveform\n",
    "from pycbc.psd import from_string\n",
    "from pycbc.filter import match"
   ]
  },
  {
   "cell_type": "code",
   "execution_count": 5,
   "metadata": {
    "Collapsed": "false"
   },
   "outputs": [],
   "source": [
    "import sys\n",
    "sys.path.append(os.path.join(os.environ['HOME'], 'src/GWNRTools'))"
   ]
  },
  {
   "cell_type": "code",
   "execution_count": 5,
   "metadata": {
    "Collapsed": "false"
   },
   "outputs": [],
   "source": [
    "import GWNRTools as gwnrtools\n",
    "from GWNRTools.Utils import make_padded_frequency_series"
   ]
  },
  {
   "cell_type": "code",
   "execution_count": 6,
   "metadata": {
    "Collapsed": "false"
   },
   "outputs": [],
   "source": [
    "logging.getLogger().setLevel(logging.INFO)"
   ]
  },
  {
   "cell_type": "code",
   "execution_count": 7,
   "metadata": {
    "Collapsed": "false"
   },
   "outputs": [],
   "source": [
    "run_directory = '/home/prayush/TESTME/run001/'"
   ]
  },
  {
   "cell_type": "markdown",
   "metadata": {
    "Collapsed": "false"
   },
   "source": [
    "## `gwnrtools_enigma_plan_grid_and_make_dag`"
   ]
  },
  {
   "cell_type": "markdown",
   "metadata": {
    "Collapsed": "false"
   },
   "source": [
    "**Code plan**:\n",
    "\n",
    "* `gwnrtools_enigma_plan_grid_and_make_dag`\n",
    " - Inputs:\n",
    "   - mass1 range, num_points\n",
    "   - mass2 range, num_points\n",
    "   - f_lower choices\n",
    "   - psd choices\n",
    "   - num_unique_mcmc_per_job\n",
    " - Meat:\n",
    "   - Generate a hypercubic lattice over {mass1, mass2, f_lower, psd_choices}\n",
    "   - \n",
    " - Output:\n",
    "   - DAG"
   ]
  },
  {
   "cell_type": "code",
   "execution_count": null,
   "metadata": {
    "Collapsed": "false"
   },
   "outputs": [],
   "source": []
  },
  {
   "cell_type": "code",
   "execution_count": 12,
   "metadata": {
    "Collapsed": "false"
   },
   "outputs": [],
   "source": [
    "# fake inputs\n",
    "range_of_mass1 = np.array([3., 100.])\n",
    "range_of_mass2 = np.array([3., 100.])\n",
    "range_of_q = np.array([1., 10.])\n",
    "\n",
    "spacing_mass1 = 1.0\n",
    "spacing_mass2 = 1.0\n",
    "\n",
    "choices_f_lower = np.array([15., 30.])\n",
    "\n",
    "choices_psd = ['aLIGOZeroDetHighPower']\n",
    "\n",
    "num_unique_mcmc_per_job = 50"
   ]
  },
  {
   "cell_type": "code",
   "execution_count": 15,
   "metadata": {
    "Collapsed": "false"
   },
   "outputs": [],
   "source": [
    "# Move to run directory\n",
    "if not os.path.exists(run_directory):\n",
    "    os.makedirs(run_directory)\n",
    "os.chdir(run_directory)"
   ]
  },
  {
   "cell_type": "code",
   "execution_count": 104,
   "metadata": {
    "Collapsed": "false"
   },
   "outputs": [],
   "source": [
    "# Make directories\n",
    "dirs_to_make = ['input', 'results']\n",
    "\n",
    "for d in dirs_to_make:\n",
    "    if not os.path.exists(d):\n",
    "        os.makedirs(d)\n",
    "\n",
    "\n",
    "def job_id(job_num):\n",
    "    return '{:06d}'.format(job_num)\n",
    "\n",
    "def write_parameter_file(job_id, params):\n",
    "    file_name = os.path.join('input/parameters_{0}.hdf'.format(job_id))\n",
    "    if os.path.exists(file_name):\n",
    "        return file_name\n",
    "    with h5py.File(file_name) as fout:\n",
    "        for param_name in params:\n",
    "            fout.create_dataset(param_name, data = params[param_name])\n",
    "    return file_name\n",
    "\n",
    "def dag_file():\n",
    "    return 'retune_enigma.dag'\n",
    "\n",
    "def write_job_to_dag(job_id, param_file):\n",
    "    with open(dag_file(), 'a+') as fout:\n",
    "        fout.write('''\\\n",
    "JOB TUNE{0} sampler.submit\n",
    "VARS TUNE{0} macrojobid=\"{0}\"\n",
    "VARS TUNE{0} macroparamfile=\"{1}\"\n",
    "\n",
    "'''.format(job_id, param_file))"
   ]
  },
  {
   "cell_type": "markdown",
   "metadata": {
    "Collapsed": "false"
   },
   "source": [
    "* Make the grid"
   ]
  },
  {
   "cell_type": "code",
   "execution_count": 18,
   "metadata": {
    "Collapsed": "false"
   },
   "outputs": [],
   "source": [
    "jobs = {}\n",
    "\n",
    "num_mcmc_in_job = 1e9\n",
    "job_num = 0\n",
    "job_params = None\n",
    "\n",
    "for m1 in np.arange(range_of_mass1[0], range_of_mass1[-1], spacing_mass1):\n",
    "    for m2 in np.arange(range_of_mass2[0], range_of_mass2[-1], spacing_mass2):\n",
    "        q = m1 / m2\n",
    "        if q < range_of_q[0] or q > range_of_q[-1]:\n",
    "            continue\n",
    "        \n",
    "        for f_lower in choices_f_lower:\n",
    "            for psd_name in choices_psd:\n",
    "                # prepare the job                \n",
    "                if num_mcmc_in_job < num_unique_mcmc_per_job:\n",
    "                    # add to current job\n",
    "                    job_params.append([m1, m2, f_lower, psd_name])\n",
    "                    \n",
    "                    num_mcmc_in_job += 1\n",
    "                    job_num += 1\n",
    "                    \n",
    "                else:\n",
    "                    # close current job\n",
    "                    if job_params:\n",
    "                        jobs[curr_job_id] = job_params\n",
    "                    \n",
    "                    # start new job\n",
    "                    curr_job_id = job_id(job_num)\n",
    "                    job_params = [[m1, m2, f_lower, psd_name]]\n",
    "                    \n",
    "                    num_mcmc_in_job = 0\n",
    "                    job_num += 1"
   ]
  },
  {
   "cell_type": "markdown",
   "metadata": {
    "Collapsed": "false"
   },
   "source": [
    "* Write submit file"
   ]
  },
  {
   "cell_type": "code",
   "execution_count": 19,
   "metadata": {
    "Collapsed": "false"
   },
   "outputs": [],
   "source": [
    "submit_text = '''\\\n",
    "universe = vanilla\n",
    "executable = scripts/gwnrtools_enigma_sample_parameters\n",
    "arguments = \" --job-id $(macrojobid) --parameter-file $(macroparamfile) \"\n",
    "accounting_group = ligo.dev.o3.cbc.explore.test\n",
    "getenv = True\n",
    "log = /usr1/prayush.kumar/tmpc8uHuQ\n",
    "error = log/gwnrtools_enigma_sample_parameters-$(cluster)-$(process).err\n",
    "output = log/gwnrtools_enigma_sample_parameters-$(cluster)-$(process).out\n",
    "notification = never\n",
    "queue 1\n",
    "'''"
   ]
  },
  {
   "cell_type": "code",
   "execution_count": 20,
   "metadata": {
    "Collapsed": "false"
   },
   "outputs": [],
   "source": [
    "with open(\"sampler.sub\", \"w\") as fout:\n",
    "    fout.write(submit_text)"
   ]
  },
  {
   "cell_type": "markdown",
   "metadata": {
    "Collapsed": "false"
   },
   "source": [
    "* Design DAG\n",
    "  * Iterate over the grid, and add a job for each!"
   ]
  },
  {
   "cell_type": "code",
   "execution_count": 34,
   "metadata": {
    "Collapsed": "false"
   },
   "outputs": [],
   "source": [
    "for job_id in jobs:\n",
    "    job_params = jobs[job_id]\n",
    "    \n",
    "    # m1, m2, f_lower, psd\n",
    "    job_p0_vals = [p[0] for p in job_params]\n",
    "    job_p1_vals = [p[1] for p in job_params]\n",
    "    job_p2_vals = [p[2] for p in job_params]\n",
    "    job_p3_vals = [p[3] for p in job_params]\n",
    "    \n",
    "    job_params_dict = {\n",
    "        'mass1' : job_p0_vals,\n",
    "        'mass2' : job_p1_vals,\n",
    "        'f_lower' : job_p2_vals,\n",
    "        'psd' : job_p3_vals\n",
    "    }\n",
    "    \n",
    "    parameter_file_name = write_parameter_file(job_id, job_params_dict)\n",
    "    write_job_to_dag(job_id, parameter_file_name)"
   ]
  },
  {
   "cell_type": "markdown",
   "metadata": {
    "Collapsed": "false"
   },
   "source": [
    "## `gwnrtools_enigma_sample_parameters`"
   ]
  },
  {
   "cell_type": "markdown",
   "metadata": {
    "Collapsed": "false"
   },
   "source": [
    "**Code plan**\n",
    "\n",
    "* `gwnrtools_enigma_sample_parameters`:\n",
    " - Inputs:\n",
    "   - Parameter file\n",
    " - Meat:\n",
    "   - Iterate over {mass1, mass2, f_lower, psd_choices}\n",
    "   - MCMC over $\\{\\omega_\\mathrm{attach}, \\mathrm{PNO}\\}$\n",
    " - Output:\n",
    "   - Text file with columns:\n",
    "     - [1] mass-ratio\n",
    "     - [2] total-mass\n",
    "     - [3] mass1\n",
    "     - [4] mass2\n",
    "     - [5] ecc value\n",
    "     - [6] PN order\n",
    "     - [7] omega_attach\n",
    "     - [8] overlap\n",
    "     - [9] Re[unphase-maximized overlap]\n",
    "     - [10] Im[unphase-maximized overlap]\n",
    "     - [11] norm1\n",
    "     - [12] norm2"
   ]
  },
  {
   "cell_type": "code",
   "execution_count": 8,
   "metadata": {
    "Collapsed": "false"
   },
   "outputs": [],
   "source": [
    "os.chdir(run_directory)"
   ]
  },
  {
   "cell_type": "code",
   "execution_count": 9,
   "metadata": {
    "Collapsed": "false"
   },
   "outputs": [],
   "source": [
    "# Fake inputs\n",
    "job_id = '006000'\n",
    "param_file = 'input/parameters_006000.hdf'\n",
    "signal_approx = 'SEOBNRv4_ROM'\n",
    "output_prefix = 'results/matches_vs_'\n",
    "\n",
    "num_samplers = 4\n",
    "num_steps    = 5\n",
    "limits_omega_attach = [0.01, 0.1]\n",
    "choices_PNO = [6, 7, 8, 9, 10, 11, 12]\n",
    "\n",
    "sample_rate = 4096\n",
    "time_length = 32\n",
    "f_lower     = 15."
   ]
  },
  {
   "cell_type": "code",
   "execution_count": 10,
   "metadata": {
    "Collapsed": "false"
   },
   "outputs": [],
   "source": [
    "output_prefix = output_prefix + '{0}'.format(signal_approx)"
   ]
  },
  {
   "cell_type": "code",
   "execution_count": 11,
   "metadata": {
    "Collapsed": "false"
   },
   "outputs": [],
   "source": [
    "delta_t = 1. / sample_rate\n",
    "delta_f = 1. / time_length\n",
    "N = sample_rate * time_length\n",
    "n = N / 2 + 1"
   ]
  },
  {
   "cell_type": "markdown",
   "metadata": {
    "Collapsed": "false"
   },
   "source": [
    "* Capture inputs"
   ]
  },
  {
   "cell_type": "code",
   "execution_count": 12,
   "metadata": {
    "Collapsed": "false"
   },
   "outputs": [],
   "source": [
    "inputs = {}\n",
    "with h5py.File(param_file, 'r') as fin:\n",
    "    for k in fin:\n",
    "        inputs[k] = fin[k][()]"
   ]
  },
  {
   "cell_type": "markdown",
   "metadata": {
    "Collapsed": "false"
   },
   "source": [
    "* Function for the log(probability) calculation to be used by the MCMC sampler"
   ]
  },
  {
   "cell_type": "code",
   "execution_count": 17,
   "metadata": {
    "Collapsed": "false"
   },
   "outputs": [],
   "source": [
    "def get_sampler(log_probability, myarglist,\n",
    "                nwalkers = 32,\n",
    "                omega_attach_lims = [0.01, 0.1],\n",
    "                PNO_choices = [6, 7, 8, 9, 10, 11, 12],\n",
    "                pool = None):\n",
    "    \"\"\"\n",
    "Function to Initialize and burn-in MCMC sampler\n",
    "    \"\"\"\n",
    "    # Setup hyper-parameters for the sampler\n",
    "    ndim = 2\n",
    "    \n",
    "    # Initialize emsemble sampler\n",
    "    sampler = emcee.EnsembleSampler(nwalkers,\n",
    "                                    ndim,\n",
    "                                    log_probability,\n",
    "                                    pool=pool,\n",
    "                                    args=myarglist)\n",
    "    \n",
    "    # Run the sampler for a few steps to burn-in,\n",
    "    # ie erase memory of the starting locations\n",
    "    p0 = np.hstack([np.random.uniform(omega_attach_lims[0],\n",
    "                                      omega_attach_lims[-1],\n",
    "                                      (nwalkers,1)),\n",
    "                    np.random.uniform(PNO_choices[0] - 0.5,\n",
    "                                      PNO_choices[-1] + 0.5,\n",
    "                                      (nwalkers,1))])    \n",
    "    state = sampler.run_mcmc(p0, 100)\n",
    "    sampler.reset()\n",
    "    return sampler, state\n",
    "\n",
    "def output_file(prefix, job_id, idx):\n",
    "    return prefix + '{0}_{1:06d}.dat'.format(job_id, idx)\n",
    "\n",
    "def write_output_from_sampler(output_file_name, sampler, myargs):\n",
    "    \"\"\"\n",
    "Function to write output of ONE MCMC sampler to txt file\n",
    "    \"\"\"\n",
    "    m1, m2, f_low, _ = myargs\n",
    "    \n",
    "    pno_samples          = s.chain[:,:,1].T\n",
    "    omega_attach_samples = s.chain[:,:,0].T\n",
    "    match_samples        = s.get_log_prob()\n",
    "    \n",
    "    assert(np.shape(pno_samples) == np.shape(omega_attach_samples))\n",
    "    assert(np.shape(pno_samples) == np.shape(match_samples))\n",
    "    \n",
    "    pno_samples          = pno_samples.flatten()\n",
    "    omega_attach_samples = omega_attach_samples.flatten()\n",
    "    match_samples        = match_samples.flatten()\n",
    "    \n",
    "    notfailed = match_samples.flatten() != 0\n",
    "    \n",
    "    if True:\n",
    "        out_array = []\n",
    "        for pno, omega_att, mch in zip(pno_samples[notfailed],\n",
    "                                       omega_attach_samples[notfailed],\n",
    "                                       match_samples[notfailed]):\n",
    "            # extracted sampled params and likelihood value\n",
    "            out_array.append([\n",
    "                m1 / m2, m1 + m2, m1, m2, 0.0, pno, omega_att, mch\n",
    "            ])\n",
    "        out_header = '''\\\n",
    "[1] mass-ratio\n",
    "[2] total-mass\n",
    "[3] mass1\n",
    "[4] mass2\n",
    "[5] ecc value\n",
    "[6] PN order\n",
    "[7] omega_attach\n",
    "[8] overlap\\\n",
    "        '''\n",
    "        out_array = np.array(out_array)\n",
    "        print(np.shape(out_array))\n",
    "        # write samples\n",
    "        np.savetxt(output_file_name, np.array(out_array),\n",
    "                   delimiter = '\\t',\n",
    "                   header = out_header)\n",
    "\n",
    "def log_prior_enigma(theta,\n",
    "                     omega_attach_lims = [0.01, 0.1],\n",
    "                     PNO_choices = [6, 7, 8, 9, 10, 11, 12]):\n",
    "    '''\n",
    "Priors:\n",
    "-------\n",
    "\n",
    "omega_attach : [0.01, 0.1]\n",
    "PNO : [6, 7, 8, 9, 10, 11, 12]\n",
    "    '''\n",
    "    omega_attach, PNO = theta\n",
    "    PNO = int(np.round(PNO))\n",
    "    if PNO not in PNO_choices:\n",
    "        return -np.inf\n",
    "    if omega_attach < omega_attach_lims[0] or omega_attach > omega_attach_lims[-1]:\n",
    "        return -np.inf\n",
    "    \n",
    "    return 0.0\n",
    "\n",
    "def log_likelihood(theta, mass1, mass2, f_lower, sample_rate, psd):\n",
    "    # extract MCMC parameters\n",
    "    omega_attach, PNO = theta\n",
    "    PNO = int(np.round(PNO))\n",
    "    \n",
    "    # Use BASH MAGIC TO PASS MCMC parameters TO ENIGMA\n",
    "    os.environ['OMEGA_ATTACH'] = '{0:.12f}'.format(omega_attach)\n",
    "    os.environ['PN_ORDER']     = '{0:d}'.format(PNO)\n",
    "    \n",
    "    dt = 1. / sample_rate\n",
    "    df = psd.delta_f\n",
    "    N = int(sample_rate / psd.delta_f)\n",
    "    \n",
    "    # Generate ENIGMA wave\n",
    "    try:\n",
    "        h1p, h1c = get_td_waveform(approximant='ENIGMA',\n",
    "                         mass1=mass1,\n",
    "                         mass2=mass2,\n",
    "                         f_lower=f_lower,\n",
    "                         delta_t=dt)\n",
    "    except:\n",
    "        logging.error(\"Could not generate ENIGMA wave..\")\n",
    "        return 0\n",
    "    h1p = make_padded_frequency_series(h1p, N, df)\n",
    "    #h1c = make_padded_frequency_series(h1c, N, df)\n",
    "    \n",
    "    # Generate EOB wave\n",
    "    try:\n",
    "        h2p, h2c = get_fd_waveform(approximant='SEOBNRv4_ROM',\n",
    "                         mass1=mass1,\n",
    "                         mass2=mass2,\n",
    "                         f_lower=f_lower,\n",
    "                         delta_f=df)\n",
    "    except:\n",
    "        logging.error(\"Could not generate EOB wave..\")\n",
    "        return 0\n",
    "    h2p = make_padded_frequency_series(h2p, N, df)\n",
    "    #h2c = make_padded_frequency_series(h2c, N, df)\n",
    "    \n",
    "    # Undo BASH MAGIC TO PASS MCMC parameters TO ENIGMA\n",
    "    os.environ['OMEGA_ATTACH'] = ''\n",
    "    os.environ['PN_ORDER']     = ''\n",
    "    \n",
    "    # Compute inner prodcut\n",
    "    log_like, _ = match(h1p, h2p, psd=psd, low_frequency_cutoff=f_lower)\n",
    "    return log_like\n",
    "\n",
    "def log_prob(theta, mass1, mass2, f_lower, sample_rate, psd):\n",
    "    log_prior = log_prior_enigma(theta)\n",
    "    if not np.isfinite(log_prior):\n",
    "        return log_prior\n",
    "    return log_likelihood(theta, mass1, mass2, f_lower, sample_rate, psd) + log_prior"
   ]
  },
  {
   "cell_type": "markdown",
   "metadata": {
    "Collapsed": "false"
   },
   "source": [
    "* Main workflow"
   ]
  },
  {
   "cell_type": "code",
   "execution_count": 23,
   "metadata": {
    "scrolled": true
   },
   "outputs": [
    {
     "name": "stderr",
     "output_type": "stream",
     "text": [
      "ERROR:root:Could not generate ENIGMA wave..\n",
      "ERROR:root:Could not generate ENIGMA wave..\n",
      "ERROR:root:Could not generate ENIGMA wave..\n",
      "ERROR:root:Could not generate ENIGMA wave..\n",
      "ERROR:root:Could not generate ENIGMA wave..\n",
      "ERROR:root:Could not generate ENIGMA wave..\n",
      "ERROR:root:Could not generate ENIGMA wave..\n",
      "ERROR:root:Could not generate ENIGMA wave..\n",
      "ERROR:root:Could not generate ENIGMA wave..\n",
      "ERROR:root:Could not generate ENIGMA wave..\n",
      "ERROR:root:Could not generate ENIGMA wave..\n",
      "ERROR:root:Could not generate ENIGMA wave..\n",
      "ERROR:root:Could not generate ENIGMA wave..\n",
      "ERROR:root:Could not generate ENIGMA wave..\n",
      "ERROR:root:Could not generate ENIGMA wave..\n",
      "ERROR:root:Could not generate ENIGMA wave..\n",
      "ERROR:root:Could not generate ENIGMA wave..\n",
      "ERROR:root:Could not generate ENIGMA wave..\n",
      "ERROR:root:Could not generate ENIGMA wave..\n",
      "ERROR:root:Could not generate ENIGMA wave..\n",
      "ERROR:root:Could not generate ENIGMA wave..\n",
      "ERROR:root:Could not generate ENIGMA wave..\n",
      "ERROR:root:Could not generate ENIGMA wave..\n",
      "ERROR:root:Could not generate ENIGMA wave..\n",
      "ERROR:root:Could not generate ENIGMA wave..\n",
      "ERROR:root:Could not generate ENIGMA wave..\n",
      "ERROR:root:Could not generate ENIGMA wave..\n",
      "ERROR:root:Could not generate ENIGMA wave..\n",
      "ERROR:root:Could not generate ENIGMA wave..\n",
      "ERROR:root:Could not generate ENIGMA wave..\n",
      "ERROR:root:Could not generate ENIGMA wave..\n",
      "ERROR:root:Could not generate ENIGMA wave..\n",
      "ERROR:root:Could not generate ENIGMA wave..\n",
      "ERROR:root:Could not generate ENIGMA wave..\n",
      "ERROR:root:Could not generate ENIGMA wave..\n",
      "ERROR:root:Could not generate ENIGMA wave..\n",
      "ERROR:root:Could not generate ENIGMA wave..\n",
      "ERROR:root:Could not generate ENIGMA wave..\n",
      "ERROR:root:Could not generate ENIGMA wave..\n",
      "ERROR:root:Could not generate ENIGMA wave..\n",
      "ERROR:root:Could not generate ENIGMA wave..\n",
      "ERROR:root:Could not generate ENIGMA wave..\n",
      "ERROR:root:Could not generate ENIGMA wave..\n",
      "ERROR:root:Could not generate ENIGMA wave..\n",
      "ERROR:root:Could not generate ENIGMA wave..\n",
      "ERROR:root:Could not generate ENIGMA wave..\n",
      "ERROR:root:Could not generate ENIGMA wave..\n",
      "ERROR:root:Could not generate ENIGMA wave..\n",
      "ERROR:root:Could not generate ENIGMA wave..\n",
      "ERROR:root:Could not generate ENIGMA wave..\n",
      "ERROR:root:Could not generate ENIGMA wave..\n",
      "ERROR:root:Could not generate ENIGMA wave..\n",
      "ERROR:root:Could not generate ENIGMA wave..\n",
      "ERROR:root:Could not generate ENIGMA wave..\n",
      "ERROR:root:Could not generate ENIGMA wave..\n",
      "ERROR:root:Could not generate ENIGMA wave..\n",
      "ERROR:root:Could not generate ENIGMA wave..\n",
      "ERROR:root:Could not generate ENIGMA wave..\n",
      "ERROR:root:Could not generate ENIGMA wave..\n",
      "ERROR:root:Could not generate ENIGMA wave..\n",
      "ERROR:root:Could not generate ENIGMA wave..\n",
      "ERROR:root:Could not generate ENIGMA wave..\n",
      "ERROR:root:Could not generate ENIGMA wave..\n",
      "ERROR:root:Could not generate ENIGMA wave..\n",
      "ERROR:root:Could not generate ENIGMA wave..\n",
      "ERROR:root:Could not generate ENIGMA wave..\n",
      "ERROR:root:Could not generate ENIGMA wave..\n",
      "ERROR:root:Could not generate ENIGMA wave..\n",
      "ERROR:root:Could not generate ENIGMA wave..\n",
      "ERROR:root:Could not generate ENIGMA wave..\n",
      "ERROR:root:Could not generate ENIGMA wave..\n",
      "ERROR:root:Could not generate ENIGMA wave..\n",
      "ERROR:root:Could not generate ENIGMA wave..\n",
      "ERROR:root:Could not generate ENIGMA wave..\n",
      "ERROR:root:Could not generate ENIGMA wave..\n",
      "ERROR:root:Could not generate ENIGMA wave..\n",
      "ERROR:root:Could not generate ENIGMA wave..\n",
      "ERROR:root:Could not generate ENIGMA wave..\n",
      "ERROR:root:Could not generate ENIGMA wave..\n",
      "ERROR:root:Could not generate ENIGMA wave..\n",
      "ERROR:root:Could not generate ENIGMA wave..\n",
      "ERROR:root:Could not generate ENIGMA wave..\n",
      "ERROR:root:Could not generate ENIGMA wave..\n",
      "ERROR:root:Could not generate ENIGMA wave..\n",
      "ERROR:root:Could not generate ENIGMA wave..\n",
      "ERROR:root:Could not generate ENIGMA wave..\n",
      "ERROR:root:Could not generate ENIGMA wave..\n",
      "ERROR:root:Could not generate ENIGMA wave..\n",
      "ERROR:root:Could not generate ENIGMA wave..\n",
      "ERROR:root:Could not generate ENIGMA wave..\n",
      "ERROR:root:Could not generate ENIGMA wave..\n",
      "ERROR:root:Could not generate ENIGMA wave..\n",
      "ERROR:root:Could not generate ENIGMA wave..\n",
      "ERROR:root:Could not generate ENIGMA wave..\n",
      "ERROR:root:Could not generate ENIGMA wave..\n",
      "ERROR:root:Could not generate ENIGMA wave..\n",
      "ERROR:root:Could not generate ENIGMA wave..\n",
      "ERROR:root:Could not generate ENIGMA wave..\n",
      "ERROR:root:Could not generate ENIGMA wave..\n",
      "ERROR:root:Could not generate ENIGMA wave..\n"
     ]
    }
   ],
   "source": [
    "my_pool = Pool(processes=4)"
   ]
  },
  {
   "cell_type": "code",
   "execution_count": 24,
   "metadata": {
    "Collapsed": "false"
   },
   "outputs": [
    {
     "name": "stderr",
     "output_type": "stream",
     "text": [
      "WARNING:root:Initializing the MCMC sampler and burning-in\n",
      "WARNING:root:Running the MCMC sampler for 5 steps\n"
     ]
    },
    {
     "name": "stdout",
     "output_type": "stream",
     "text": [
      "(11, 8)\n"
     ]
    }
   ],
   "source": [
    "samplers = {}\n",
    "\n",
    "# Loop over all unique MCMC jobs\n",
    "for idx in range(len(inputs[inputs.keys()[0]])):\n",
    "    try:\n",
    "        mass1 = inputs['mass1'][idx]\n",
    "        mass2 = inputs['mass2'][idx]\n",
    "        f_lower = inputs['f_lower'][idx]    \n",
    "        \n",
    "        psd = from_string(inputs['psd'][idx], n, delta_f, f_lower)\n",
    "        psd = make_padded_frequency_series(psd, N, delta_f) # from global settings\n",
    "        \n",
    "        # RUN THE SAMPLER\n",
    "        logging.warn(\"Initializing the MCMC sampler and burning-in\")\n",
    "        samplers[idx] = get_sampler(log_prob,\n",
    "                                    [mass1, mass2, f_lower, sample_rate, psd],\n",
    "                                    nwalkers=num_samplers,\n",
    "                                    omega_attach_lims=limits_omega_attach,\n",
    "                                    PNO_choices=choices_PNO,\n",
    "                                       pool = my_pool)\n",
    "        \n",
    "        logging.warn(\"Running the MCMC sampler for {0} steps\".format(num_steps))\n",
    "        s, state = samplers[idx]\n",
    "        s.run_mcmc(state, num_steps)\n",
    "        \n",
    "        # WRite output from the sampler\n",
    "        out_file_name = ''\n",
    "        write_output_from_sampler(output_file(output_prefix, job_id, idx),\n",
    "                                  s,\n",
    "                                  [mass1, mass2, f_lower, psd])\n",
    "        \n",
    "        # Early stop\n",
    "        if idx >= 0:\n",
    "            break\n",
    "    except:\n",
    "        logging.warn(\"Error in parameter set[{0}]: m1={1:.3f}, m2={2:.3f}, f_low={3:.0f}\".format(idx,\n",
    "                                                                                                mass1,\n",
    "                                                                                                mass2,\n",
    "                                                                                                f_lower))"
   ]
  },
  {
   "cell_type": "markdown",
   "metadata": {
    "Collapsed": "true"
   },
   "source": [
    "### Visualize the posterior"
   ]
  },
  {
   "cell_type": "code",
   "execution_count": 164,
   "metadata": {
    "Collapsed": "false"
   },
   "outputs": [],
   "source": [
    "s, state = samplers[0]"
   ]
  },
  {
   "cell_type": "code",
   "execution_count": 38,
   "metadata": {
    "Collapsed": "false",
    "collapsed": true,
    "jupyter": {
     "outputs_hidden": true
    }
   },
   "outputs": [
    {
     "name": "stderr",
     "output_type": "stream",
     "text": [
      "ERROR:root:Could not generate ENIGMA wave..\n",
      "ERROR:root:Could not generate ENIGMA wave..\n"
     ]
    },
    {
     "name": "stdout",
     "output_type": "stream",
     "text": [
      "YAY: sampling within prior...\n",
      "YAY: sampling within prior...\n",
      "YAY: sampling within prior...\n",
      "YAY: sampling within prior...\n",
      "YAY: sampling within prior...\n",
      "YAY: sampling within prior...\n",
      "YAY: sampling within prior...\n",
      "YAY: sampling within prior...\n"
     ]
    },
    {
     "name": "stderr",
     "output_type": "stream",
     "text": [
      "ERROR:root:Could not generate ENIGMA wave..\n",
      "ERROR:root:Could not generate ENIGMA wave..\n"
     ]
    },
    {
     "name": "stdout",
     "output_type": "stream",
     "text": [
      "YAY: sampling within prior...\n",
      "YAY: sampling within prior...\n",
      "YAY: sampling within prior...\n",
      "YAY: sampling within prior...\n",
      "YAY: sampling within prior...\n",
      "YAY: sampling within prior...\n",
      "YAY: sampling within prior...\n",
      "YAY: sampling within prior...\n",
      "YAY: sampling within prior...\n",
      "YAY: sampling within prior...\n",
      "YAY: sampling within prior...\n",
      "YAY: sampling within prior...\n",
      "YAY: sampling within prior...\n",
      "YAY: sampling within prior...\n",
      "YAY: sampling within prior...\n"
     ]
    },
    {
     "name": "stderr",
     "output_type": "stream",
     "text": [
      "ERROR:root:Could not generate ENIGMA wave..\n",
      "ERROR:root:Could not generate ENIGMA wave..\n",
      "ERROR:root:Could not generate ENIGMA wave..\n",
      "ERROR:root:Could not generate ENIGMA wave..\n"
     ]
    },
    {
     "name": "stdout",
     "output_type": "stream",
     "text": [
      "YAY: sampling within prior...\n",
      "YAY: sampling within prior...\n",
      "YAY: sampling within prior...\n",
      "YAY: sampling within prior...\n",
      "YAY: sampling within prior...\n",
      "YAY: sampling within prior...\n",
      "YAY: sampling within prior...\n",
      "YAY: sampling within prior...\n",
      "YAY: sampling within prior...\n",
      "YAY: sampling within prior...\n"
     ]
    },
    {
     "name": "stderr",
     "output_type": "stream",
     "text": [
      "ERROR:root:Could not generate ENIGMA wave..\n"
     ]
    },
    {
     "name": "stdout",
     "output_type": "stream",
     "text": [
      "YAY: sampling within prior...\n",
      "YAY: sampling within prior...\n",
      "YAY: sampling within prior...\n",
      "YAY: sampling within prior...\n",
      "YAY: sampling within prior...\n",
      "YAY: sampling within prior...\n",
      "YAY: sampling within prior...\n",
      "YAY: sampling within prior...\n"
     ]
    },
    {
     "name": "stderr",
     "output_type": "stream",
     "text": [
      "ERROR:root:Could not generate ENIGMA wave..\n",
      "ERROR:root:Could not generate ENIGMA wave..\n"
     ]
    },
    {
     "name": "stdout",
     "output_type": "stream",
     "text": [
      "YAY: sampling within prior...\n",
      "YAY: sampling within prior...\n",
      "YAY: sampling within prior...\n",
      "YAY: sampling within prior...\n",
      "YAY: sampling within prior...\n",
      "YAY: sampling within prior...\n",
      "YAY: sampling within prior...\n",
      "YAY: sampling within prior...\n",
      "YAY: sampling within prior...\n"
     ]
    },
    {
     "name": "stderr",
     "output_type": "stream",
     "text": [
      "ERROR:root:Could not generate ENIGMA wave..\n",
      "ERROR:root:Could not generate ENIGMA wave..\n"
     ]
    },
    {
     "name": "stdout",
     "output_type": "stream",
     "text": [
      "YAY: sampling within prior...\n",
      "YAY: sampling within prior...\n",
      "YAY: sampling within prior...\n",
      "YAY: sampling within prior...\n",
      "YAY: sampling within prior...\n",
      "YAY: sampling within prior...\n",
      "YAY: sampling within prior...\n",
      "YAY: sampling within prior...\n",
      "YAY: sampling within prior...\n"
     ]
    },
    {
     "name": "stderr",
     "output_type": "stream",
     "text": [
      "ERROR:root:Could not generate ENIGMA wave..\n",
      "ERROR:root:Could not generate ENIGMA wave..\n"
     ]
    },
    {
     "name": "stdout",
     "output_type": "stream",
     "text": [
      "YAY: sampling within prior...\n",
      "YAY: sampling within prior...\n",
      "YAY: sampling within prior...\n",
      "YAY: sampling within prior...\n",
      "YAY: sampling within prior...\n",
      "YAY: sampling within prior...\n",
      "YAY: sampling within prior...\n",
      "YAY: sampling within prior...\n",
      "YAY: sampling within prior...\n",
      "YAY: sampling within prior...\n"
     ]
    },
    {
     "name": "stderr",
     "output_type": "stream",
     "text": [
      "ERROR:root:Could not generate ENIGMA wave..\n",
      "ERROR:root:Could not generate ENIGMA wave..\n"
     ]
    },
    {
     "name": "stdout",
     "output_type": "stream",
     "text": [
      "YAY: sampling within prior...\n",
      "YAY: sampling within prior...\n",
      "YAY: sampling within prior...\n",
      "YAY: sampling within prior...\n",
      "YAY: sampling within prior...\n",
      "YAY: sampling within prior...\n",
      "YAY: sampling within prior...\n",
      "YAY: sampling within prior...\n",
      "YAY: sampling within prior...\n",
      "YAY: sampling within prior...\n"
     ]
    },
    {
     "name": "stderr",
     "output_type": "stream",
     "text": [
      "ERROR:root:Could not generate ENIGMA wave..\n",
      "ERROR:root:Could not generate ENIGMA wave..\n",
      "ERROR:root:Could not generate ENIGMA wave..\n",
      "ERROR:root:Could not generate ENIGMA wave..\n",
      "ERROR:root:Could not generate ENIGMA wave..\n",
      "ERROR:root:Could not generate ENIGMA wave..\n"
     ]
    },
    {
     "name": "stdout",
     "output_type": "stream",
     "text": [
      "YAY: sampling within prior...\n",
      "YAY: sampling within prior...\n",
      "YAY: sampling within prior...\n",
      "YAY: sampling within prior...\n",
      "YAY: sampling within prior...\n",
      "YAY: sampling within prior...\n",
      "YAY: sampling within prior...\n",
      "YAY: sampling within prior...\n",
      "YAY: sampling within prior...\n",
      "YAY: sampling within prior...\n",
      "YAY: sampling within prior...\n",
      "YAY: sampling within prior...\n",
      "YAY: sampling within prior...\n"
     ]
    },
    {
     "name": "stderr",
     "output_type": "stream",
     "text": [
      "ERROR:root:Could not generate ENIGMA wave..\n",
      "ERROR:root:Could not generate ENIGMA wave..\n"
     ]
    },
    {
     "name": "stdout",
     "output_type": "stream",
     "text": [
      "YAY: sampling within prior...\n",
      "YAY: sampling within prior...\n",
      "YAY: sampling within prior...\n",
      "YAY: sampling within prior...\n",
      "YAY: sampling within prior...\n",
      "YAY: sampling within prior...\n",
      "YAY: sampling within prior...\n",
      "YAY: sampling within prior...\n",
      "YAY: sampling within prior...\n"
     ]
    },
    {
     "name": "stderr",
     "output_type": "stream",
     "text": [
      "ERROR:root:Could not generate ENIGMA wave..\n",
      "ERROR:root:Could not generate ENIGMA wave..\n",
      "ERROR:root:Could not generate ENIGMA wave..\n"
     ]
    },
    {
     "name": "stdout",
     "output_type": "stream",
     "text": [
      "YAY: sampling within prior...\n",
      "YAY: sampling within prior...\n",
      "YAY: sampling within prior...\n",
      "YAY: sampling within prior...\n",
      "YAY: sampling within prior...\n",
      "YAY: sampling within prior...\n",
      "YAY: sampling within prior...\n",
      "YAY: sampling within prior...\n",
      "YAY: sampling within prior...\n",
      "YAY: sampling within prior...\n",
      "YAY: sampling within prior...\n",
      "YAY: sampling within prior...\n",
      "YAY: sampling within prior...\n",
      "YAY: sampling within prior...\n",
      "YAY: sampling within prior...\n",
      "YAY: sampling within prior...\n"
     ]
    },
    {
     "name": "stderr",
     "output_type": "stream",
     "text": [
      "ERROR:root:Could not generate ENIGMA wave..\n",
      "ERROR:root:Could not generate ENIGMA wave..\n"
     ]
    },
    {
     "name": "stdout",
     "output_type": "stream",
     "text": [
      "YAY: sampling within prior...\n",
      "YAY: sampling within prior...\n",
      "YAY: sampling within prior...\n",
      "YAY: sampling within prior...\n",
      "YAY: sampling within prior...\n",
      "YAY: sampling within prior...\n",
      "YAY: sampling within prior...\n",
      "YAY: sampling within prior...\n"
     ]
    },
    {
     "name": "stderr",
     "output_type": "stream",
     "text": [
      "ERROR:root:Could not generate ENIGMA wave..\n",
      "ERROR:root:Could not generate ENIGMA wave..\n",
      "ERROR:root:Could not generate ENIGMA wave..\n"
     ]
    },
    {
     "name": "stdout",
     "output_type": "stream",
     "text": [
      "YAY: sampling within prior...\n",
      "YAY: sampling within prior...\n",
      "YAY: sampling within prior...\n",
      "YAY: sampling within prior...\n",
      "YAY: sampling within prior...\n",
      "YAY: sampling within prior...\n",
      "YAY: sampling within prior...\n",
      "YAY: sampling within prior...\n",
      "YAY: sampling within prior...\n"
     ]
    },
    {
     "name": "stderr",
     "output_type": "stream",
     "text": [
      "ERROR:root:Could not generate ENIGMA wave..\n",
      "ERROR:root:Could not generate ENIGMA wave..\n"
     ]
    },
    {
     "name": "stdout",
     "output_type": "stream",
     "text": [
      "YAY: sampling within prior...\n",
      "YAY: sampling within prior...\n",
      "YAY: sampling within prior...\n",
      "YAY: sampling within prior...\n",
      "YAY: sampling within prior...\n",
      "YAY: sampling within prior...\n",
      "YAY: sampling within prior...\n",
      "YAY: sampling within prior...\n",
      "YAY: sampling within prior...\n",
      "YAY: sampling within prior...\n",
      "YAY: sampling within prior...\n",
      "YAY: sampling within prior...\n",
      "YAY: sampling within prior...\n",
      "YAY: sampling within prior...\n",
      "YAY: sampling within prior...\n",
      "YAY: sampling within prior...\n"
     ]
    },
    {
     "name": "stderr",
     "output_type": "stream",
     "text": [
      "ERROR:root:Could not generate ENIGMA wave..\n",
      "ERROR:root:Could not generate ENIGMA wave..\n"
     ]
    },
    {
     "name": "stdout",
     "output_type": "stream",
     "text": [
      "YAY: sampling within prior...\n",
      "YAY: sampling within prior...\n",
      "YAY: sampling within prior...\n",
      "YAY: sampling within prior...\n",
      "YAY: sampling within prior...\n",
      "YAY: sampling within prior...\n",
      "YAY: sampling within prior...\n",
      "YAY: sampling within prior...\n",
      "YAY: sampling within prior...\n"
     ]
    },
    {
     "name": "stderr",
     "output_type": "stream",
     "text": [
      "ERROR:root:Could not generate ENIGMA wave..\n"
     ]
    },
    {
     "name": "stdout",
     "output_type": "stream",
     "text": [
      "YAY: sampling within prior...\n",
      "YAY: sampling within prior...\n",
      "YAY: sampling within prior...\n",
      "YAY: sampling within prior...\n",
      "YAY: sampling within prior...\n",
      "YAY: sampling within prior...\n",
      "YAY: sampling within prior...\n",
      "YAY: sampling within prior...\n"
     ]
    },
    {
     "name": "stderr",
     "output_type": "stream",
     "text": [
      "ERROR:root:Could not generate ENIGMA wave..\n",
      "ERROR:root:Could not generate ENIGMA wave..\n"
     ]
    },
    {
     "name": "stdout",
     "output_type": "stream",
     "text": [
      "YAY: sampling within prior...\n",
      "YAY: sampling within prior...\n",
      "YAY: sampling within prior...\n",
      "YAY: sampling within prior...\n",
      "YAY: sampling within prior...\n",
      "YAY: sampling within prior...\n",
      "YAY: sampling within prior...\n",
      "YAY: sampling within prior...\n",
      "YAY: sampling within prior...\n",
      "YAY: sampling within prior...\n",
      "YAY: sampling within prior...\n",
      "YAY: sampling within prior...\n",
      "YAY: sampling within prior...\n",
      "YAY: sampling within prior...\n",
      "YAY: sampling within prior...\n",
      "YAY: sampling within prior...\n"
     ]
    },
    {
     "name": "stderr",
     "output_type": "stream",
     "text": [
      "ERROR:root:Could not generate ENIGMA wave..\n"
     ]
    },
    {
     "name": "stdout",
     "output_type": "stream",
     "text": [
      "YAY: sampling within prior...\n",
      "YAY: sampling within prior...\n",
      "YAY: sampling within prior...\n",
      "YAY: sampling within prior...\n",
      "YAY: sampling within prior...\n",
      "YAY: sampling within prior...\n",
      "YAY: sampling within prior...\n",
      "YAY: sampling within prior...\n",
      "YAY: sampling within prior...\n",
      "YAY: sampling within prior...\n",
      "YAY: sampling within prior...\n",
      "YAY: sampling within prior...\n",
      "YAY: sampling within prior...\n",
      "YAY: sampling within prior...\n",
      "YAY: sampling within prior...\n",
      "YAY: sampling within prior...\n"
     ]
    },
    {
     "name": "stderr",
     "output_type": "stream",
     "text": [
      "ERROR:root:Could not generate ENIGMA wave..\n",
      "ERROR:root:Could not generate ENIGMA wave..\n",
      "ERROR:root:Could not generate ENIGMA wave..\n",
      "ERROR:root:Could not generate ENIGMA wave..\n"
     ]
    },
    {
     "name": "stdout",
     "output_type": "stream",
     "text": [
      "YAY: sampling within prior...\n",
      "YAY: sampling within prior...\n",
      "YAY: sampling within prior...\n",
      "YAY: sampling within prior...\n",
      "YAY: sampling within prior...\n",
      "YAY: sampling within prior...\n",
      "YAY: sampling within prior...\n",
      "YAY: sampling within prior...\n",
      "YAY: sampling within prior...\n",
      "YAY: sampling within prior...\n",
      "YAY: sampling within prior...\n"
     ]
    },
    {
     "name": "stderr",
     "output_type": "stream",
     "text": [
      "ERROR:root:Could not generate ENIGMA wave..\n",
      "ERROR:root:Could not generate ENIGMA wave..\n"
     ]
    },
    {
     "name": "stdout",
     "output_type": "stream",
     "text": [
      "YAY: sampling within prior...\n",
      "YAY: sampling within prior...\n",
      "YAY: sampling within prior...\n",
      "YAY: sampling within prior...\n",
      "YAY: sampling within prior...\n",
      "YAY: sampling within prior...\n",
      "YAY: sampling within prior...\n",
      "YAY: sampling within prior...\n",
      "YAY: sampling within prior...\n",
      "YAY: sampling within prior...\n"
     ]
    },
    {
     "name": "stderr",
     "output_type": "stream",
     "text": [
      "ERROR:root:Could not generate ENIGMA wave..\n",
      "ERROR:root:Could not generate ENIGMA wave..\n"
     ]
    },
    {
     "name": "stdout",
     "output_type": "stream",
     "text": [
      "YAY: sampling within prior...\n",
      "YAY: sampling within prior...\n",
      "YAY: sampling within prior...\n",
      "YAY: sampling within prior...\n",
      "YAY: sampling within prior...\n",
      "YAY: sampling within prior...\n",
      "YAY: sampling within prior...\n",
      "YAY: sampling within prior...\n",
      "YAY: sampling within prior...\n"
     ]
    },
    {
     "name": "stderr",
     "output_type": "stream",
     "text": [
      "ERROR:root:Could not generate ENIGMA wave..\n"
     ]
    },
    {
     "name": "stdout",
     "output_type": "stream",
     "text": [
      "YAY: sampling within prior...\n",
      "YAY: sampling within prior...\n",
      "YAY: sampling within prior...\n",
      "YAY: sampling within prior...\n",
      "YAY: sampling within prior...\n",
      "YAY: sampling within prior...\n",
      "YAY: sampling within prior...\n",
      "YAY: sampling within prior...\n",
      "YAY: sampling within prior...\n"
     ]
    },
    {
     "name": "stderr",
     "output_type": "stream",
     "text": [
      "ERROR:root:Could not generate ENIGMA wave..\n",
      "ERROR:root:Could not generate ENIGMA wave..\n"
     ]
    },
    {
     "name": "stdout",
     "output_type": "stream",
     "text": [
      "YAY: sampling within prior...\n",
      "YAY: sampling within prior...\n",
      "YAY: sampling within prior...\n",
      "YAY: sampling within prior...\n",
      "YAY: sampling within prior...\n",
      "YAY: sampling within prior...\n",
      "YAY: sampling within prior...\n",
      "YAY: sampling within prior...\n",
      "YAY: sampling within prior...\n",
      "YAY: sampling within prior...\n"
     ]
    },
    {
     "name": "stderr",
     "output_type": "stream",
     "text": [
      "ERROR:root:Could not generate ENIGMA wave..\n",
      "ERROR:root:Could not generate ENIGMA wave..\n",
      "ERROR:root:Could not generate ENIGMA wave..\n"
     ]
    },
    {
     "name": "stdout",
     "output_type": "stream",
     "text": [
      "YAY: sampling within prior...\n",
      "YAY: sampling within prior...\n",
      "YAY: sampling within prior...\n",
      "YAY: sampling within prior...\n",
      "YAY: sampling within prior...\n",
      "YAY: sampling within prior...\n",
      "YAY: sampling within prior...\n",
      "YAY: sampling within prior...\n",
      "YAY: sampling within prior...\n",
      "YAY: sampling within prior...\n",
      "YAY: sampling within prior...\n",
      "YAY: sampling within prior...\n",
      "YAY: sampling within prior...\n",
      "YAY: sampling within prior...\n",
      "YAY: sampling within prior...\n",
      "YAY: sampling within prior...\n",
      "YAY: sampling within prior...\n",
      "YAY: sampling within prior...\n"
     ]
    },
    {
     "name": "stderr",
     "output_type": "stream",
     "text": [
      "ERROR:root:Could not generate ENIGMA wave..\n",
      "ERROR:root:Could not generate ENIGMA wave..\n"
     ]
    },
    {
     "name": "stdout",
     "output_type": "stream",
     "text": [
      "YAY: sampling within prior...\n",
      "YAY: sampling within prior...\n",
      "YAY: sampling within prior...\n",
      "YAY: sampling within prior...\n",
      "YAY: sampling within prior...\n",
      "YAY: sampling within prior...\n",
      "YAY: sampling within prior...\n",
      "YAY: sampling within prior...\n"
     ]
    },
    {
     "name": "stderr",
     "output_type": "stream",
     "text": [
      "ERROR:root:Could not generate ENIGMA wave..\n",
      "ERROR:root:Could not generate ENIGMA wave..\n",
      "ERROR:root:Could not generate ENIGMA wave..\n",
      "ERROR:root:Could not generate ENIGMA wave..\n"
     ]
    },
    {
     "name": "stdout",
     "output_type": "stream",
     "text": [
      "YAY: sampling within prior...\n",
      "YAY: sampling within prior...\n",
      "YAY: sampling within prior...\n",
      "YAY: sampling within prior...\n",
      "YAY: sampling within prior...\n",
      "YAY: sampling within prior...\n",
      "YAY: sampling within prior...\n",
      "YAY: sampling within prior...\n",
      "YAY: sampling within prior...\n",
      "YAY: sampling within prior...\n",
      "YAY: sampling within prior...\n"
     ]
    },
    {
     "name": "stderr",
     "output_type": "stream",
     "text": [
      "ERROR:root:Could not generate ENIGMA wave..\n"
     ]
    },
    {
     "name": "stdout",
     "output_type": "stream",
     "text": [
      "YAY: sampling within prior...\n",
      "YAY: sampling within prior...\n",
      "YAY: sampling within prior...\n",
      "YAY: sampling within prior...\n",
      "YAY: sampling within prior...\n",
      "YAY: sampling within prior...\n",
      "YAY: sampling within prior...\n",
      "YAY: sampling within prior...\n",
      "YAY: sampling within prior...\n",
      "YAY: sampling within prior...\n",
      "YAY: sampling within prior...\n",
      "YAY: sampling within prior...\n",
      "YAY: sampling within prior...\n",
      "YAY: sampling within prior...\n",
      "YAY: sampling within prior...\n",
      "YAY: sampling within prior...\n",
      "YAY: sampling within prior...\n",
      "YAY: sampling within prior...\n",
      "YAY: sampling within prior...\n",
      "YAY: sampling within prior...\n",
      "YAY: sampling within prior...\n",
      "YAY: sampling within prior...\n",
      "YAY: sampling within prior...\n",
      "YAY: sampling within prior...\n",
      "YAY: sampling within prior...\n",
      "YAY: sampling within prior...\n",
      "YAY: sampling within prior...\n",
      "YAY: sampling within prior...\n",
      "YAY: sampling within prior...\n",
      "YAY: sampling within prior...\n",
      "YAY: sampling within prior...\n",
      "YAY: sampling within prior...\n",
      "YAY: sampling within prior...\n",
      "YAY: sampling within prior...\n",
      "YAY: sampling within prior...\n",
      "YAY: sampling within prior...\n"
     ]
    },
    {
     "name": "stderr",
     "output_type": "stream",
     "text": [
      "ERROR:root:Could not generate ENIGMA wave..\n"
     ]
    },
    {
     "name": "stdout",
     "output_type": "stream",
     "text": [
      "YAY: sampling within prior...\n",
      "YAY: sampling within prior...\n",
      "YAY: sampling within prior...\n",
      "YAY: sampling within prior...\n",
      "YAY: sampling within prior...\n",
      "YAY: sampling within prior...\n",
      "YAY: sampling within prior...\n",
      "YAY: sampling within prior...\n",
      "YAY: sampling within prior...\n"
     ]
    },
    {
     "name": "stderr",
     "output_type": "stream",
     "text": [
      "ERROR:root:Could not generate ENIGMA wave..\n",
      "ERROR:root:Could not generate ENIGMA wave..\n"
     ]
    },
    {
     "name": "stdout",
     "output_type": "stream",
     "text": [
      "YAY: sampling within prior...\n",
      "YAY: sampling within prior...\n",
      "YAY: sampling within prior...\n",
      "YAY: sampling within prior...\n",
      "YAY: sampling within prior...\n",
      "YAY: sampling within prior...\n",
      "YAY: sampling within prior...\n",
      "YAY: sampling within prior...\n",
      "YAY: sampling within prior...\n",
      "YAY: sampling within prior...\n",
      "YAY: sampling within prior...\n",
      "YAY: sampling within prior...\n",
      "YAY: sampling within prior...\n",
      "YAY: sampling within prior...\n",
      "YAY: sampling within prior...\n",
      "YAY: sampling within prior...\n",
      "YAY: sampling within prior...\n",
      "YAY: sampling within prior...\n",
      "YAY: sampling within prior...\n",
      "YAY: sampling within prior...\n",
      "YAY: sampling within prior...\n",
      "YAY: sampling within prior...\n",
      "YAY: sampling within prior...\n",
      "YAY: sampling within prior...\n",
      "YAY: sampling within prior...\n",
      "YAY: sampling within prior...\n",
      "YAY: sampling within prior...\n",
      "YAY: sampling within prior...\n",
      "YAY: sampling within prior...\n",
      "YAY: sampling within prior...\n",
      "YAY: sampling within prior...\n",
      "YAY: sampling within prior...\n",
      "YAY: sampling within prior...\n",
      "YAY: sampling within prior...\n"
     ]
    },
    {
     "name": "stderr",
     "output_type": "stream",
     "text": [
      "ERROR:root:Could not generate ENIGMA wave..\n",
      "ERROR:root:Could not generate ENIGMA wave..\n",
      "ERROR:root:Could not generate ENIGMA wave..\n"
     ]
    },
    {
     "name": "stdout",
     "output_type": "stream",
     "text": [
      "YAY: sampling within prior...\n",
      "YAY: sampling within prior...\n",
      "YAY: sampling within prior...\n",
      "YAY: sampling within prior...\n",
      "YAY: sampling within prior...\n",
      "YAY: sampling within prior...\n",
      "YAY: sampling within prior...\n",
      "YAY: sampling within prior...\n",
      "YAY: sampling within prior...\n",
      "YAY: sampling within prior...\n",
      "YAY: sampling within prior...\n",
      "YAY: sampling within prior...\n",
      "YAY: sampling within prior...\n",
      "YAY: sampling within prior...\n",
      "YAY: sampling within prior...\n",
      "YAY: sampling within prior...\n",
      "YAY: sampling within prior...\n",
      "YAY: sampling within prior...\n"
     ]
    },
    {
     "name": "stderr",
     "output_type": "stream",
     "text": [
      "ERROR:root:Could not generate ENIGMA wave..\n",
      "ERROR:root:Could not generate ENIGMA wave..\n"
     ]
    },
    {
     "name": "stdout",
     "output_type": "stream",
     "text": [
      "YAY: sampling within prior...\n",
      "YAY: sampling within prior...\n",
      "YAY: sampling within prior...\n",
      "YAY: sampling within prior...\n",
      "YAY: sampling within prior...\n",
      "YAY: sampling within prior...\n",
      "YAY: sampling within prior...\n",
      "YAY: sampling within prior...\n",
      "YAY: sampling within prior...\n",
      "YAY: sampling within prior...\n"
     ]
    },
    {
     "name": "stderr",
     "output_type": "stream",
     "text": [
      "ERROR:root:Could not generate ENIGMA wave..\n",
      "ERROR:root:Could not generate ENIGMA wave..\n"
     ]
    },
    {
     "name": "stdout",
     "output_type": "stream",
     "text": [
      "YAY: sampling within prior...\n",
      "YAY: sampling within prior...\n",
      "YAY: sampling within prior...\n",
      "YAY: sampling within prior...\n",
      "YAY: sampling within prior...\n",
      "YAY: sampling within prior...\n",
      "YAY: sampling within prior...\n",
      "YAY: sampling within prior...\n",
      "YAY: sampling within prior...\n",
      "YAY: sampling within prior...\n",
      "YAY: sampling within prior...\n",
      "YAY: sampling within prior...\n",
      "YAY: sampling within prior...\n",
      "YAY: sampling within prior...\n",
      "YAY: sampling within prior...\n",
      "YAY: sampling within prior...\n",
      "YAY: sampling within prior...\n"
     ]
    },
    {
     "name": "stderr",
     "output_type": "stream",
     "text": [
      "ERROR:root:Could not generate ENIGMA wave..\n"
     ]
    },
    {
     "name": "stdout",
     "output_type": "stream",
     "text": [
      "YAY: sampling within prior...\n",
      "YAY: sampling within prior...\n",
      "YAY: sampling within prior...\n",
      "YAY: sampling within prior...\n",
      "YAY: sampling within prior...\n",
      "YAY: sampling within prior...\n",
      "YAY: sampling within prior...\n",
      "YAY: sampling within prior...\n",
      "YAY: sampling within prior...\n",
      "YAY: sampling within prior...\n",
      "YAY: sampling within prior...\n",
      "YAY: sampling within prior...\n",
      "YAY: sampling within prior...\n",
      "YAY: sampling within prior...\n",
      "YAY: sampling within prior...\n",
      "YAY: sampling within prior...\n",
      "YAY: sampling within prior...\n",
      "YAY: sampling within prior...\n",
      "YAY: sampling within prior...\n",
      "YAY: sampling within prior...\n",
      "YAY: sampling within prior...\n",
      "YAY: sampling within prior...\n"
     ]
    },
    {
     "name": "stderr",
     "output_type": "stream",
     "text": [
      "ERROR:root:Could not generate ENIGMA wave..\n"
     ]
    },
    {
     "name": "stdout",
     "output_type": "stream",
     "text": [
      "YAY: sampling within prior...\n",
      "YAY: sampling within prior...\n",
      "YAY: sampling within prior...\n",
      "YAY: sampling within prior...\n",
      "YAY: sampling within prior...\n",
      "YAY: sampling within prior...\n",
      "YAY: sampling within prior...\n",
      "YAY: sampling within prior...\n",
      "YAY: sampling within prior...\n",
      "YAY: sampling within prior...\n",
      "YAY: sampling within prior...\n",
      "YAY: sampling within prior...\n",
      "YAY: sampling within prior...\n",
      "YAY: sampling within prior...\n",
      "YAY: sampling within prior...\n"
     ]
    },
    {
     "name": "stderr",
     "output_type": "stream",
     "text": [
      "ERROR:root:Could not generate ENIGMA wave..\n"
     ]
    },
    {
     "name": "stdout",
     "output_type": "stream",
     "text": [
      "YAY: sampling within prior...\n",
      "YAY: sampling within prior...\n",
      "YAY: sampling within prior...\n",
      "YAY: sampling within prior...\n",
      "YAY: sampling within prior...\n",
      "YAY: sampling within prior...\n",
      "YAY: sampling within prior...\n",
      "YAY: sampling within prior...\n"
     ]
    },
    {
     "name": "stderr",
     "output_type": "stream",
     "text": [
      "ERROR:root:Could not generate ENIGMA wave..\n"
     ]
    },
    {
     "name": "stdout",
     "output_type": "stream",
     "text": [
      "YAY: sampling within prior...\n",
      "YAY: sampling within prior...\n",
      "YAY: sampling within prior...\n",
      "YAY: sampling within prior...\n",
      "YAY: sampling within prior...\n",
      "YAY: sampling within prior...\n",
      "YAY: sampling within prior...\n",
      "YAY: sampling within prior...\n"
     ]
    },
    {
     "name": "stderr",
     "output_type": "stream",
     "text": [
      "ERROR:root:Could not generate ENIGMA wave..\n"
     ]
    },
    {
     "name": "stdout",
     "output_type": "stream",
     "text": [
      "YAY: sampling within prior...\n",
      "YAY: sampling within prior...\n",
      "YAY: sampling within prior...\n",
      "YAY: sampling within prior...\n",
      "YAY: sampling within prior...\n",
      "YAY: sampling within prior...\n",
      "YAY: sampling within prior...\n",
      "YAY: sampling within prior...\n",
      "YAY: sampling within prior...\n",
      "YAY: sampling within prior...\n",
      "YAY: sampling within prior...\n",
      "YAY: sampling within prior...\n",
      "YAY: sampling within prior...\n",
      "YAY: sampling within prior...\n",
      "YAY: sampling within prior...\n",
      "YAY: sampling within prior...\n"
     ]
    },
    {
     "name": "stderr",
     "output_type": "stream",
     "text": [
      "ERROR:root:Could not generate ENIGMA wave..\n"
     ]
    },
    {
     "name": "stdout",
     "output_type": "stream",
     "text": [
      "YAY: sampling within prior...\n",
      "YAY: sampling within prior...\n",
      "YAY: sampling within prior...\n",
      "YAY: sampling within prior...\n",
      "YAY: sampling within prior...\n",
      "YAY: sampling within prior...\n",
      "YAY: sampling within prior...\n",
      "YAY: sampling within prior...\n",
      "YAY: sampling within prior...\n",
      "YAY: sampling within prior...\n",
      "YAY: sampling within prior...\n",
      "YAY: sampling within prior...\n",
      "YAY: sampling within prior...\n",
      "YAY: sampling within prior...\n",
      "YAY: sampling within prior...\n",
      "YAY: sampling within prior...\n",
      "YAY: sampling within prior...\n"
     ]
    },
    {
     "name": "stderr",
     "output_type": "stream",
     "text": [
      "ERROR:root:Could not generate ENIGMA wave..\n"
     ]
    },
    {
     "name": "stdout",
     "output_type": "stream",
     "text": [
      "YAY: sampling within prior...\n",
      "YAY: sampling within prior...\n",
      "YAY: sampling within prior...\n",
      "YAY: sampling within prior...\n",
      "YAY: sampling within prior...\n",
      "YAY: sampling within prior...\n",
      "YAY: sampling within prior...\n",
      "YAY: sampling within prior...\n",
      "YAY: sampling within prior...\n",
      "YAY: sampling within prior...\n",
      "YAY: sampling within prior...\n",
      "YAY: sampling within prior...\n",
      "YAY: sampling within prior...\n",
      "YAY: sampling within prior...\n",
      "YAY: sampling within prior...\n",
      "YAY: sampling within prior...\n",
      "YAY: sampling within prior...\n",
      "YAY: sampling within prior...\n"
     ]
    },
    {
     "name": "stderr",
     "output_type": "stream",
     "text": [
      "ERROR:root:Could not generate ENIGMA wave..\n",
      "ERROR:root:Could not generate ENIGMA wave..\n",
      "ERROR:root:Could not generate ENIGMA wave..\n",
      "ERROR:root:Could not generate ENIGMA wave..\n"
     ]
    },
    {
     "name": "stdout",
     "output_type": "stream",
     "text": [
      "YAY: sampling within prior...\n",
      "YAY: sampling within prior...\n",
      "YAY: sampling within prior...\n",
      "YAY: sampling within prior...\n",
      "YAY: sampling within prior...\n",
      "YAY: sampling within prior...\n",
      "YAY: sampling within prior...\n",
      "YAY: sampling within prior...\n",
      "YAY: sampling within prior...\n",
      "YAY: sampling within prior...\n",
      "YAY: sampling within prior...\n",
      "YAY: sampling within prior...\n"
     ]
    },
    {
     "name": "stderr",
     "output_type": "stream",
     "text": [
      "ERROR:root:Could not generate ENIGMA wave..\n",
      "ERROR:root:Could not generate ENIGMA wave..\n"
     ]
    },
    {
     "name": "stdout",
     "output_type": "stream",
     "text": [
      "YAY: sampling within prior...\n",
      "YAY: sampling within prior...\n",
      "YAY: sampling within prior...\n",
      "YAY: sampling within prior...\n",
      "YAY: sampling within prior...\n",
      "YAY: sampling within prior...\n",
      "YAY: sampling within prior...\n",
      "YAY: sampling within prior...\n",
      "YAY: sampling within prior...\n",
      "YAY: sampling within prior...\n",
      "YAY: sampling within prior...\n",
      "YAY: sampling within prior...\n",
      "YAY: sampling within prior...\n",
      "YAY: sampling within prior...\n",
      "YAY: sampling within prior...\n",
      "YAY: sampling within prior...\n",
      "YAY: sampling within prior...\n",
      "YAY: sampling within prior...\n"
     ]
    },
    {
     "name": "stderr",
     "output_type": "stream",
     "text": [
      "ERROR:root:Could not generate ENIGMA wave..\n"
     ]
    },
    {
     "name": "stdout",
     "output_type": "stream",
     "text": [
      "YAY: sampling within prior...\n",
      "YAY: sampling within prior...\n",
      "YAY: sampling within prior...\n",
      "YAY: sampling within prior...\n",
      "YAY: sampling within prior...\n",
      "YAY: sampling within prior...\n",
      "YAY: sampling within prior...\n",
      "YAY: sampling within prior...\n",
      "YAY: sampling within prior...\n"
     ]
    },
    {
     "name": "stderr",
     "output_type": "stream",
     "text": [
      "ERROR:root:Could not generate ENIGMA wave..\n",
      "ERROR:root:Could not generate ENIGMA wave..\n"
     ]
    },
    {
     "name": "stdout",
     "output_type": "stream",
     "text": [
      "YAY: sampling within prior...\n",
      "YAY: sampling within prior...\n",
      "YAY: sampling within prior...\n",
      "YAY: sampling within prior...\n",
      "YAY: sampling within prior...\n",
      "YAY: sampling within prior...\n",
      "YAY: sampling within prior...\n",
      "YAY: sampling within prior...\n",
      "YAY: sampling within prior...\n",
      "YAY: sampling within prior...\n",
      "YAY: sampling within prior...\n",
      "YAY: sampling within prior...\n",
      "YAY: sampling within prior...\n",
      "YAY: sampling within prior...\n",
      "YAY: sampling within prior...\n",
      "YAY: sampling within prior...\n",
      "YAY: sampling within prior...\n",
      "YAY: sampling within prior...\n"
     ]
    },
    {
     "name": "stderr",
     "output_type": "stream",
     "text": [
      "ERROR:root:Could not generate ENIGMA wave..\n"
     ]
    },
    {
     "name": "stdout",
     "output_type": "stream",
     "text": [
      "YAY: sampling within prior...\n",
      "YAY: sampling within prior...\n",
      "YAY: sampling within prior...\n",
      "YAY: sampling within prior...\n",
      "YAY: sampling within prior...\n",
      "YAY: sampling within prior...\n",
      "YAY: sampling within prior...\n",
      "YAY: sampling within prior...\n",
      "YAY: sampling within prior...\n",
      "YAY: sampling within prior...\n",
      "YAY: sampling within prior...\n",
      "YAY: sampling within prior...\n",
      "YAY: sampling within prior...\n",
      "YAY: sampling within prior...\n",
      "YAY: sampling within prior...\n",
      "YAY: sampling within prior...\n",
      "YAY: sampling within prior...\n"
     ]
    },
    {
     "name": "stderr",
     "output_type": "stream",
     "text": [
      "ERROR:root:Could not generate ENIGMA wave..\n"
     ]
    },
    {
     "name": "stdout",
     "output_type": "stream",
     "text": [
      "YAY: sampling within prior...\n",
      "YAY: sampling within prior...\n",
      "YAY: sampling within prior...\n",
      "YAY: sampling within prior...\n",
      "YAY: sampling within prior...\n",
      "YAY: sampling within prior...\n",
      "YAY: sampling within prior...\n",
      "YAY: sampling within prior...\n",
      "YAY: sampling within prior...\n",
      "YAY: sampling within prior...\n",
      "YAY: sampling within prior...\n",
      "YAY: sampling within prior...\n",
      "YAY: sampling within prior...\n",
      "YAY: sampling within prior...\n",
      "YAY: sampling within prior...\n",
      "YAY: sampling within prior...\n",
      "YAY: sampling within prior...\n",
      "YAY: sampling within prior...\n",
      "YAY: sampling within prior...\n",
      "YAY: sampling within prior...\n",
      "YAY: sampling within prior...\n",
      "YAY: sampling within prior...\n",
      "YAY: sampling within prior...\n",
      "YAY: sampling within prior...\n",
      "YAY: sampling within prior...\n"
     ]
    },
    {
     "name": "stderr",
     "output_type": "stream",
     "text": [
      "ERROR:root:Could not generate ENIGMA wave..\n",
      "ERROR:root:Could not generate ENIGMA wave..\n"
     ]
    },
    {
     "name": "stdout",
     "output_type": "stream",
     "text": [
      "YAY: sampling within prior...\n",
      "YAY: sampling within prior...\n",
      "YAY: sampling within prior...\n",
      "YAY: sampling within prior...\n",
      "YAY: sampling within prior...\n",
      "YAY: sampling within prior...\n",
      "YAY: sampling within prior...\n",
      "YAY: sampling within prior...\n",
      "YAY: sampling within prior...\n"
     ]
    },
    {
     "name": "stderr",
     "output_type": "stream",
     "text": [
      "ERROR:root:Could not generate ENIGMA wave..\n",
      "ERROR:root:Could not generate ENIGMA wave..\n"
     ]
    },
    {
     "name": "stdout",
     "output_type": "stream",
     "text": [
      "YAY: sampling within prior...\n",
      "YAY: sampling within prior...\n",
      "YAY: sampling within prior...\n",
      "YAY: sampling within prior...\n",
      "YAY: sampling within prior...\n",
      "YAY: sampling within prior...\n",
      "YAY: sampling within prior...\n",
      "YAY: sampling within prior...\n",
      "YAY: sampling within prior...\n",
      "YAY: sampling within prior...\n",
      "YAY: sampling within prior...\n",
      "YAY: sampling within prior...\n",
      "YAY: sampling within prior...\n",
      "YAY: sampling within prior...\n",
      "YAY: sampling within prior...\n",
      "YAY: sampling within prior...\n",
      "YAY: sampling within prior...\n",
      "YAY: sampling within prior...\n"
     ]
    },
    {
     "name": "stderr",
     "output_type": "stream",
     "text": [
      "ERROR:root:Could not generate ENIGMA wave..\n",
      "ERROR:root:Could not generate ENIGMA wave..\n",
      "ERROR:root:Could not generate ENIGMA wave..\n"
     ]
    },
    {
     "name": "stdout",
     "output_type": "stream",
     "text": [
      "YAY: sampling within prior...\n",
      "YAY: sampling within prior...\n",
      "YAY: sampling within prior...\n",
      "YAY: sampling within prior...\n",
      "YAY: sampling within prior...\n",
      "YAY: sampling within prior...\n",
      "YAY: sampling within prior...\n",
      "YAY: sampling within prior...\n",
      "YAY: sampling within prior...\n",
      "YAY: sampling within prior...\n",
      "YAY: sampling within prior...\n",
      "YAY: sampling within prior...\n",
      "YAY: sampling within prior...\n",
      "YAY: sampling within prior...\n",
      "YAY: sampling within prior...\n",
      "YAY: sampling within prior...\n",
      "YAY: sampling within prior...\n",
      "YAY: sampling within prior...\n",
      "YAY: sampling within prior...\n",
      "YAY: sampling within prior...\n",
      "YAY: sampling within prior...\n",
      "YAY: sampling within prior...\n",
      "YAY: sampling within prior...\n",
      "YAY: sampling within prior...\n",
      "YAY: sampling within prior...\n",
      "YAY: sampling within prior...\n"
     ]
    },
    {
     "name": "stderr",
     "output_type": "stream",
     "text": [
      "ERROR:root:Could not generate ENIGMA wave..\n",
      "ERROR:root:Could not generate ENIGMA wave..\n",
      "ERROR:root:Could not generate ENIGMA wave..\n"
     ]
    },
    {
     "name": "stdout",
     "output_type": "stream",
     "text": [
      "YAY: sampling within prior...\n",
      "YAY: sampling within prior...\n",
      "YAY: sampling within prior...\n",
      "YAY: sampling within prior...\n",
      "YAY: sampling within prior...\n",
      "YAY: sampling within prior...\n",
      "YAY: sampling within prior...\n",
      "YAY: sampling within prior...\n",
      "YAY: sampling within prior...\n",
      "YAY: sampling within prior...\n"
     ]
    },
    {
     "name": "stderr",
     "output_type": "stream",
     "text": [
      "ERROR:root:Could not generate ENIGMA wave..\n"
     ]
    },
    {
     "name": "stdout",
     "output_type": "stream",
     "text": [
      "YAY: sampling within prior...\n",
      "YAY: sampling within prior...\n",
      "YAY: sampling within prior...\n",
      "YAY: sampling within prior...\n",
      "YAY: sampling within prior...\n",
      "YAY: sampling within prior...\n",
      "YAY: sampling within prior...\n",
      "YAY: sampling within prior...\n",
      "YAY: sampling within prior...\n",
      "YAY: sampling within prior...\n",
      "YAY: sampling within prior...\n",
      "YAY: sampling within prior...\n",
      "YAY: sampling within prior...\n",
      "YAY: sampling within prior...\n",
      "YAY: sampling within prior...\n",
      "YAY: sampling within prior...\n",
      "YAY: sampling within prior...\n"
     ]
    },
    {
     "name": "stderr",
     "output_type": "stream",
     "text": [
      "ERROR:root:Could not generate ENIGMA wave..\n"
     ]
    },
    {
     "name": "stdout",
     "output_type": "stream",
     "text": [
      "YAY: sampling within prior...\n",
      "YAY: sampling within prior...\n",
      "YAY: sampling within prior...\n",
      "YAY: sampling within prior...\n",
      "YAY: sampling within prior...\n",
      "YAY: sampling within prior...\n",
      "YAY: sampling within prior...\n",
      "YAY: sampling within prior...\n",
      "YAY: sampling within prior...\n",
      "YAY: sampling within prior...\n",
      "YAY: sampling within prior...\n",
      "YAY: sampling within prior...\n",
      "YAY: sampling within prior...\n",
      "YAY: sampling within prior...\n",
      "YAY: sampling within prior...\n",
      "YAY: sampling within prior...\n",
      "YAY: sampling within prior...\n"
     ]
    },
    {
     "name": "stderr",
     "output_type": "stream",
     "text": [
      "ERROR:root:Could not generate ENIGMA wave..\n"
     ]
    },
    {
     "name": "stdout",
     "output_type": "stream",
     "text": [
      "YAY: sampling within prior...\n",
      "YAY: sampling within prior...\n",
      "YAY: sampling within prior...\n",
      "YAY: sampling within prior...\n",
      "YAY: sampling within prior...\n",
      "YAY: sampling within prior...\n",
      "YAY: sampling within prior...\n",
      "YAY: sampling within prior...\n",
      "YAY: sampling within prior...\n"
     ]
    },
    {
     "name": "stderr",
     "output_type": "stream",
     "text": [
      "ERROR:root:Could not generate ENIGMA wave..\n"
     ]
    },
    {
     "name": "stdout",
     "output_type": "stream",
     "text": [
      "YAY: sampling within prior...\n",
      "YAY: sampling within prior...\n",
      "YAY: sampling within prior...\n",
      "YAY: sampling within prior...\n",
      "YAY: sampling within prior...\n",
      "YAY: sampling within prior...\n",
      "YAY: sampling within prior...\n",
      "YAY: sampling within prior...\n",
      "YAY: sampling within prior...\n"
     ]
    },
    {
     "name": "stderr",
     "output_type": "stream",
     "text": [
      "ERROR:root:Could not generate ENIGMA wave..\n"
     ]
    },
    {
     "name": "stdout",
     "output_type": "stream",
     "text": [
      "YAY: sampling within prior...\n",
      "YAY: sampling within prior...\n",
      "YAY: sampling within prior...\n",
      "YAY: sampling within prior...\n",
      "YAY: sampling within prior...\n",
      "YAY: sampling within prior...\n",
      "YAY: sampling within prior...\n",
      "YAY: sampling within prior...\n"
     ]
    },
    {
     "name": "stderr",
     "output_type": "stream",
     "text": [
      "ERROR:root:Could not generate ENIGMA wave..\n"
     ]
    },
    {
     "name": "stdout",
     "output_type": "stream",
     "text": [
      "YAY: sampling within prior...\n",
      "YAY: sampling within prior...\n",
      "YAY: sampling within prior...\n",
      "YAY: sampling within prior...\n",
      "YAY: sampling within prior...\n",
      "YAY: sampling within prior...\n",
      "YAY: sampling within prior...\n",
      "YAY: sampling within prior...\n",
      "YAY: sampling within prior...\n"
     ]
    },
    {
     "name": "stderr",
     "output_type": "stream",
     "text": [
      "ERROR:root:Could not generate ENIGMA wave..\n"
     ]
    },
    {
     "name": "stdout",
     "output_type": "stream",
     "text": [
      "YAY: sampling within prior...\n",
      "YAY: sampling within prior...\n",
      "YAY: sampling within prior...\n",
      "YAY: sampling within prior...\n",
      "YAY: sampling within prior...\n",
      "YAY: sampling within prior...\n",
      "YAY: sampling within prior...\n",
      "YAY: sampling within prior...\n",
      "YAY: sampling within prior...\n",
      "YAY: sampling within prior...\n",
      "YAY: sampling within prior...\n",
      "YAY: sampling within prior...\n",
      "YAY: sampling within prior...\n",
      "YAY: sampling within prior...\n",
      "YAY: sampling within prior...\n",
      "YAY: sampling within prior...\n",
      "YAY: sampling within prior...\n",
      "YAY: sampling within prior...\n"
     ]
    },
    {
     "name": "stderr",
     "output_type": "stream",
     "text": [
      "ERROR:root:Could not generate ENIGMA wave..\n"
     ]
    },
    {
     "name": "stdout",
     "output_type": "stream",
     "text": [
      "YAY: sampling within prior...\n",
      "YAY: sampling within prior...\n",
      "YAY: sampling within prior...\n",
      "YAY: sampling within prior...\n",
      "YAY: sampling within prior...\n",
      "YAY: sampling within prior...\n",
      "YAY: sampling within prior...\n",
      "YAY: sampling within prior...\n",
      "YAY: sampling within prior...\n",
      "YAY: sampling within prior...\n"
     ]
    },
    {
     "name": "stderr",
     "output_type": "stream",
     "text": [
      "ERROR:root:Could not generate ENIGMA wave..\n"
     ]
    },
    {
     "name": "stdout",
     "output_type": "stream",
     "text": [
      "YAY: sampling within prior...\n",
      "YAY: sampling within prior...\n",
      "YAY: sampling within prior...\n",
      "YAY: sampling within prior...\n",
      "YAY: sampling within prior...\n",
      "YAY: sampling within prior...\n",
      "YAY: sampling within prior...\n",
      "YAY: sampling within prior...\n",
      "YAY: sampling within prior...\n",
      "YAY: sampling within prior...\n",
      "YAY: sampling within prior...\n",
      "YAY: sampling within prior...\n",
      "YAY: sampling within prior...\n",
      "YAY: sampling within prior...\n",
      "YAY: sampling within prior...\n",
      "YAY: sampling within prior...\n",
      "YAY: sampling within prior...\n"
     ]
    },
    {
     "name": "stderr",
     "output_type": "stream",
     "text": [
      "ERROR:root:Could not generate ENIGMA wave..\n"
     ]
    },
    {
     "name": "stdout",
     "output_type": "stream",
     "text": [
      "YAY: sampling within prior...\n",
      "YAY: sampling within prior...\n",
      "YAY: sampling within prior...\n",
      "YAY: sampling within prior...\n",
      "YAY: sampling within prior...\n",
      "YAY: sampling within prior...\n",
      "YAY: sampling within prior...\n",
      "YAY: sampling within prior...\n",
      "YAY: sampling within prior...\n",
      "YAY: sampling within prior...\n",
      "YAY: sampling within prior...\n",
      "YAY: sampling within prior...\n",
      "YAY: sampling within prior...\n",
      "YAY: sampling within prior...\n",
      "YAY: sampling within prior...\n",
      "YAY: sampling within prior...\n",
      "YAY: sampling within prior...\n"
     ]
    },
    {
     "name": "stderr",
     "output_type": "stream",
     "text": [
      "ERROR:root:Could not generate ENIGMA wave..\n"
     ]
    },
    {
     "name": "stdout",
     "output_type": "stream",
     "text": [
      "YAY: sampling within prior...\n",
      "YAY: sampling within prior...\n",
      "YAY: sampling within prior...\n",
      "YAY: sampling within prior...\n",
      "YAY: sampling within prior...\n",
      "YAY: sampling within prior...\n",
      "YAY: sampling within prior...\n",
      "YAY: sampling within prior...\n",
      "YAY: sampling within prior...\n"
     ]
    },
    {
     "name": "stderr",
     "output_type": "stream",
     "text": [
      "ERROR:root:Could not generate ENIGMA wave..\n",
      "ERROR:root:Could not generate ENIGMA wave..\n",
      "ERROR:root:Could not generate ENIGMA wave..\n"
     ]
    },
    {
     "name": "stdout",
     "output_type": "stream",
     "text": [
      "YAY: sampling within prior...\n",
      "YAY: sampling within prior...\n",
      "YAY: sampling within prior...\n",
      "YAY: sampling within prior...\n",
      "YAY: sampling within prior...\n",
      "YAY: sampling within prior...\n",
      "YAY: sampling within prior...\n",
      "YAY: sampling within prior...\n",
      "YAY: sampling within prior...\n",
      "YAY: sampling within prior...\n",
      "YAY: sampling within prior...\n"
     ]
    },
    {
     "name": "stderr",
     "output_type": "stream",
     "text": [
      "ERROR:root:Could not generate ENIGMA wave..\n"
     ]
    },
    {
     "name": "stdout",
     "output_type": "stream",
     "text": [
      "YAY: sampling within prior...\n",
      "YAY: sampling within prior...\n",
      "YAY: sampling within prior...\n",
      "YAY: sampling within prior...\n",
      "YAY: sampling within prior...\n",
      "YAY: sampling within prior...\n",
      "YAY: sampling within prior...\n",
      "YAY: sampling within prior...\n",
      "YAY: sampling within prior...\n"
     ]
    },
    {
     "name": "stderr",
     "output_type": "stream",
     "text": [
      "ERROR:root:Could not generate ENIGMA wave..\n",
      "ERROR:root:Could not generate ENIGMA wave..\n"
     ]
    },
    {
     "name": "stdout",
     "output_type": "stream",
     "text": [
      "YAY: sampling within prior...\n",
      "YAY: sampling within prior...\n",
      "YAY: sampling within prior...\n",
      "YAY: sampling within prior...\n",
      "YAY: sampling within prior...\n",
      "YAY: sampling within prior...\n",
      "YAY: sampling within prior...\n",
      "YAY: sampling within prior...\n",
      "YAY: sampling within prior...\n",
      "YAY: sampling within prior...\n",
      "YAY: sampling within prior...\n",
      "YAY: sampling within prior...\n",
      "YAY: sampling within prior...\n",
      "YAY: sampling within prior...\n",
      "YAY: sampling within prior...\n",
      "YAY: sampling within prior...\n",
      "YAY: sampling within prior...\n",
      "YAY: sampling within prior...\n",
      "YAY: sampling within prior...\n",
      "YAY: sampling within prior...\n"
     ]
    },
    {
     "name": "stderr",
     "output_type": "stream",
     "text": [
      "ERROR:root:Could not generate ENIGMA wave..\n"
     ]
    },
    {
     "name": "stdout",
     "output_type": "stream",
     "text": [
      "YAY: sampling within prior...\n",
      "YAY: sampling within prior...\n",
      "YAY: sampling within prior...\n",
      "YAY: sampling within prior...\n",
      "YAY: sampling within prior...\n",
      "YAY: sampling within prior...\n",
      "YAY: sampling within prior...\n",
      "YAY: sampling within prior...\n",
      "YAY: sampling within prior...\n"
     ]
    },
    {
     "name": "stderr",
     "output_type": "stream",
     "text": [
      "ERROR:root:Could not generate ENIGMA wave..\n",
      "ERROR:root:Could not generate ENIGMA wave..\n"
     ]
    },
    {
     "name": "stdout",
     "output_type": "stream",
     "text": [
      "YAY: sampling within prior...\n",
      "YAY: sampling within prior...\n",
      "YAY: sampling within prior...\n",
      "YAY: sampling within prior...\n",
      "YAY: sampling within prior...\n",
      "YAY: sampling within prior...\n",
      "YAY: sampling within prior...\n",
      "YAY: sampling within prior...\n",
      "YAY: sampling within prior...\n",
      "YAY: sampling within prior...\n"
     ]
    },
    {
     "name": "stderr",
     "output_type": "stream",
     "text": [
      "ERROR:root:Could not generate ENIGMA wave..\n"
     ]
    },
    {
     "name": "stdout",
     "output_type": "stream",
     "text": [
      "YAY: sampling within prior...\n",
      "YAY: sampling within prior...\n",
      "YAY: sampling within prior...\n",
      "YAY: sampling within prior...\n",
      "YAY: sampling within prior...\n",
      "YAY: sampling within prior...\n",
      "YAY: sampling within prior...\n",
      "YAY: sampling within prior...\n",
      "YAY: sampling within prior...\n",
      "YAY: sampling within prior...\n",
      "YAY: sampling within prior...\n",
      "YAY: sampling within prior...\n",
      "YAY: sampling within prior...\n",
      "YAY: sampling within prior...\n",
      "YAY: sampling within prior...\n",
      "YAY: sampling within prior...\n",
      "YAY: sampling within prior...\n"
     ]
    },
    {
     "name": "stderr",
     "output_type": "stream",
     "text": [
      "ERROR:root:Could not generate ENIGMA wave..\n",
      "ERROR:root:Could not generate ENIGMA wave..\n",
      "ERROR:root:Could not generate ENIGMA wave..\n"
     ]
    },
    {
     "name": "stdout",
     "output_type": "stream",
     "text": [
      "YAY: sampling within prior...\n",
      "YAY: sampling within prior...\n",
      "YAY: sampling within prior...\n",
      "YAY: sampling within prior...\n",
      "YAY: sampling within prior...\n",
      "YAY: sampling within prior...\n",
      "YAY: sampling within prior...\n",
      "YAY: sampling within prior...\n",
      "YAY: sampling within prior...\n",
      "YAY: sampling within prior...\n",
      "YAY: sampling within prior...\n",
      "YAY: sampling within prior...\n",
      "YAY: sampling within prior...\n",
      "YAY: sampling within prior...\n",
      "YAY: sampling within prior...\n",
      "YAY: sampling within prior...\n",
      "YAY: sampling within prior...\n",
      "YAY: sampling within prior...\n"
     ]
    },
    {
     "name": "stderr",
     "output_type": "stream",
     "text": [
      "ERROR:root:Could not generate ENIGMA wave..\n",
      "ERROR:root:Could not generate ENIGMA wave..\n"
     ]
    },
    {
     "name": "stdout",
     "output_type": "stream",
     "text": [
      "YAY: sampling within prior...\n",
      "YAY: sampling within prior...\n",
      "YAY: sampling within prior...\n",
      "YAY: sampling within prior...\n",
      "YAY: sampling within prior...\n",
      "YAY: sampling within prior...\n",
      "YAY: sampling within prior...\n",
      "YAY: sampling within prior...\n",
      "YAY: sampling within prior...\n",
      "YAY: sampling within prior...\n"
     ]
    },
    {
     "name": "stderr",
     "output_type": "stream",
     "text": [
      "ERROR:root:Could not generate ENIGMA wave..\n",
      "ERROR:root:Could not generate ENIGMA wave..\n",
      "ERROR:root:Could not generate ENIGMA wave..\n"
     ]
    },
    {
     "name": "stdout",
     "output_type": "stream",
     "text": [
      "YAY: sampling within prior...\n",
      "YAY: sampling within prior...\n",
      "YAY: sampling within prior...\n",
      "YAY: sampling within prior...\n",
      "YAY: sampling within prior...\n",
      "YAY: sampling within prior...\n",
      "YAY: sampling within prior...\n",
      "YAY: sampling within prior...\n",
      "YAY: sampling within prior...\n",
      "YAY: sampling within prior...\n",
      "YAY: sampling within prior...\n"
     ]
    },
    {
     "name": "stderr",
     "output_type": "stream",
     "text": [
      "ERROR:root:Could not generate ENIGMA wave..\n"
     ]
    },
    {
     "name": "stdout",
     "output_type": "stream",
     "text": [
      "YAY: sampling within prior...\n",
      "YAY: sampling within prior...\n",
      "YAY: sampling within prior...\n",
      "YAY: sampling within prior...\n",
      "YAY: sampling within prior...\n",
      "YAY: sampling within prior...\n",
      "YAY: sampling within prior...\n",
      "YAY: sampling within prior...\n"
     ]
    },
    {
     "name": "stderr",
     "output_type": "stream",
     "text": [
      "ERROR:root:Could not generate ENIGMA wave..\n"
     ]
    },
    {
     "name": "stdout",
     "output_type": "stream",
     "text": [
      "YAY: sampling within prior...\n",
      "YAY: sampling within prior...\n",
      "YAY: sampling within prior...\n",
      "YAY: sampling within prior...\n",
      "YAY: sampling within prior...\n",
      "YAY: sampling within prior...\n",
      "YAY: sampling within prior...\n",
      "YAY: sampling within prior...\n",
      "YAY: sampling within prior...\n",
      "YAY: sampling within prior...\n"
     ]
    },
    {
     "name": "stderr",
     "output_type": "stream",
     "text": [
      "ERROR:root:Could not generate ENIGMA wave..\n",
      "ERROR:root:Could not generate ENIGMA wave..\n",
      "ERROR:root:Could not generate ENIGMA wave..\n"
     ]
    },
    {
     "name": "stdout",
     "output_type": "stream",
     "text": [
      "YAY: sampling within prior...\n",
      "YAY: sampling within prior...\n",
      "YAY: sampling within prior...\n",
      "YAY: sampling within prior...\n",
      "YAY: sampling within prior...\n",
      "YAY: sampling within prior...\n",
      "YAY: sampling within prior...\n",
      "YAY: sampling within prior...\n",
      "YAY: sampling within prior...\n",
      "YAY: sampling within prior...\n",
      "YAY: sampling within prior...\n",
      "YAY: sampling within prior...\n",
      "YAY: sampling within prior...\n",
      "YAY: sampling within prior...\n",
      "YAY: sampling within prior...\n",
      "YAY: sampling within prior...\n",
      "YAY: sampling within prior...\n",
      "YAY: sampling within prior...\n",
      "YAY: sampling within prior...\n",
      "YAY: sampling within prior...\n"
     ]
    },
    {
     "name": "stderr",
     "output_type": "stream",
     "text": [
      "ERROR:root:Could not generate ENIGMA wave..\n"
     ]
    },
    {
     "name": "stdout",
     "output_type": "stream",
     "text": [
      "YAY: sampling within prior...\n",
      "YAY: sampling within prior...\n",
      "YAY: sampling within prior...\n",
      "YAY: sampling within prior...\n",
      "YAY: sampling within prior...\n",
      "YAY: sampling within prior...\n",
      "YAY: sampling within prior...\n",
      "YAY: sampling within prior...\n",
      "YAY: sampling within prior...\n",
      "YAY: sampling within prior...\n"
     ]
    },
    {
     "name": "stderr",
     "output_type": "stream",
     "text": [
      "ERROR:root:Could not generate ENIGMA wave..\n",
      "ERROR:root:Could not generate ENIGMA wave..\n"
     ]
    },
    {
     "name": "stdout",
     "output_type": "stream",
     "text": [
      "YAY: sampling within prior...\n",
      "YAY: sampling within prior...\n",
      "YAY: sampling within prior...\n",
      "YAY: sampling within prior...\n",
      "YAY: sampling within prior...\n",
      "YAY: sampling within prior...\n",
      "YAY: sampling within prior...\n",
      "YAY: sampling within prior...\n",
      "YAY: sampling within prior...\n",
      "YAY: sampling within prior...\n"
     ]
    },
    {
     "name": "stderr",
     "output_type": "stream",
     "text": [
      "ERROR:root:Could not generate ENIGMA wave..\n"
     ]
    },
    {
     "name": "stdout",
     "output_type": "stream",
     "text": [
      "YAY: sampling within prior...\n",
      "YAY: sampling within prior...\n",
      "YAY: sampling within prior...\n",
      "YAY: sampling within prior...\n",
      "YAY: sampling within prior...\n",
      "YAY: sampling within prior...\n",
      "YAY: sampling within prior...\n",
      "YAY: sampling within prior...\n",
      "YAY: sampling within prior...\n",
      "YAY: sampling within prior...\n"
     ]
    },
    {
     "name": "stderr",
     "output_type": "stream",
     "text": [
      "ERROR:root:Could not generate ENIGMA wave..\n"
     ]
    },
    {
     "name": "stdout",
     "output_type": "stream",
     "text": [
      "YAY: sampling within prior...\n",
      "YAY: sampling within prior...\n",
      "YAY: sampling within prior...\n",
      "YAY: sampling within prior...\n",
      "YAY: sampling within prior...\n",
      "YAY: sampling within prior...\n",
      "YAY: sampling within prior...\n",
      "YAY: sampling within prior...\n",
      "YAY: sampling within prior...\n"
     ]
    },
    {
     "name": "stderr",
     "output_type": "stream",
     "text": [
      "ERROR:root:Could not generate ENIGMA wave..\n",
      "ERROR:root:Could not generate ENIGMA wave..\n",
      "ERROR:root:Could not generate ENIGMA wave..\n"
     ]
    },
    {
     "name": "stdout",
     "output_type": "stream",
     "text": [
      "YAY: sampling within prior...\n",
      "YAY: sampling within prior...\n",
      "YAY: sampling within prior...\n",
      "YAY: sampling within prior...\n",
      "YAY: sampling within prior...\n",
      "YAY: sampling within prior...\n",
      "YAY: sampling within prior...\n",
      "YAY: sampling within prior...\n",
      "YAY: sampling within prior...\n",
      "YAY: sampling within prior...\n",
      "YAY: sampling within prior...\n"
     ]
    },
    {
     "name": "stderr",
     "output_type": "stream",
     "text": [
      "ERROR:root:Could not generate ENIGMA wave..\n"
     ]
    },
    {
     "name": "stdout",
     "output_type": "stream",
     "text": [
      "YAY: sampling within prior...\n",
      "YAY: sampling within prior...\n",
      "YAY: sampling within prior...\n",
      "YAY: sampling within prior...\n",
      "YAY: sampling within prior...\n",
      "YAY: sampling within prior...\n",
      "YAY: sampling within prior...\n",
      "YAY: sampling within prior...\n",
      "YAY: sampling within prior...\n"
     ]
    },
    {
     "name": "stderr",
     "output_type": "stream",
     "text": [
      "ERROR:root:Could not generate ENIGMA wave..\n",
      "ERROR:root:Could not generate ENIGMA wave..\n"
     ]
    },
    {
     "name": "stdout",
     "output_type": "stream",
     "text": [
      "YAY: sampling within prior...\n",
      "YAY: sampling within prior...\n",
      "YAY: sampling within prior...\n",
      "YAY: sampling within prior...\n",
      "YAY: sampling within prior...\n",
      "YAY: sampling within prior...\n",
      "YAY: sampling within prior...\n",
      "YAY: sampling within prior...\n",
      "YAY: sampling within prior...\n",
      "YAY: sampling within prior...\n",
      "YAY: sampling within prior...\n",
      "YAY: sampling within prior...\n",
      "YAY: sampling within prior...\n",
      "YAY: sampling within prior...\n",
      "YAY: sampling within prior...\n",
      "YAY: sampling within prior...\n",
      "YAY: sampling within prior...\n",
      "YAY: sampling within prior...\n"
     ]
    },
    {
     "name": "stderr",
     "output_type": "stream",
     "text": [
      "ERROR:root:Could not generate ENIGMA wave..\n",
      "ERROR:root:Could not generate ENIGMA wave..\n"
     ]
    },
    {
     "name": "stdout",
     "output_type": "stream",
     "text": [
      "YAY: sampling within prior...\n",
      "YAY: sampling within prior...\n",
      "YAY: sampling within prior...\n",
      "YAY: sampling within prior...\n",
      "YAY: sampling within prior...\n",
      "YAY: sampling within prior...\n",
      "YAY: sampling within prior...\n",
      "YAY: sampling within prior...\n",
      "YAY: sampling within prior...\n",
      "YAY: sampling within prior...\n"
     ]
    },
    {
     "name": "stderr",
     "output_type": "stream",
     "text": [
      "ERROR:root:Could not generate ENIGMA wave..\n",
      "ERROR:root:Could not generate ENIGMA wave..\n",
      "ERROR:root:Could not generate ENIGMA wave..\n"
     ]
    },
    {
     "name": "stdout",
     "output_type": "stream",
     "text": [
      "YAY: sampling within prior...\n",
      "YAY: sampling within prior...\n",
      "YAY: sampling within prior...\n",
      "YAY: sampling within prior...\n",
      "YAY: sampling within prior...\n",
      "YAY: sampling within prior...\n",
      "YAY: sampling within prior...\n",
      "YAY: sampling within prior...\n",
      "YAY: sampling within prior...\n",
      "YAY: sampling within prior...\n",
      "YAY: sampling within prior...\n"
     ]
    },
    {
     "name": "stderr",
     "output_type": "stream",
     "text": [
      "ERROR:root:Could not generate ENIGMA wave..\n",
      "ERROR:root:Could not generate ENIGMA wave..\n"
     ]
    },
    {
     "name": "stdout",
     "output_type": "stream",
     "text": [
      "YAY: sampling within prior...\n",
      "YAY: sampling within prior...\n",
      "YAY: sampling within prior...\n",
      "YAY: sampling within prior...\n",
      "YAY: sampling within prior...\n",
      "YAY: sampling within prior...\n",
      "YAY: sampling within prior...\n",
      "YAY: sampling within prior...\n",
      "YAY: sampling within prior...\n",
      "YAY: sampling within prior...\n",
      "YAY: sampling within prior...\n",
      "YAY: sampling within prior...\n",
      "YAY: sampling within prior...\n",
      "YAY: sampling within prior...\n",
      "YAY: sampling within prior...\n",
      "YAY: sampling within prior...\n",
      "YAY: sampling within prior...\n",
      "YAY: sampling within prior...\n",
      "YAY: sampling within prior...\n"
     ]
    },
    {
     "name": "stderr",
     "output_type": "stream",
     "text": [
      "ERROR:root:Could not generate ENIGMA wave..\n",
      "ERROR:root:Could not generate ENIGMA wave..\n"
     ]
    },
    {
     "name": "stdout",
     "output_type": "stream",
     "text": [
      "YAY: sampling within prior...\n",
      "YAY: sampling within prior...\n",
      "YAY: sampling within prior...\n",
      "YAY: sampling within prior...\n",
      "YAY: sampling within prior...\n",
      "YAY: sampling within prior...\n",
      "YAY: sampling within prior...\n",
      "YAY: sampling within prior...\n",
      "YAY: sampling within prior...\n",
      "YAY: sampling within prior...\n"
     ]
    },
    {
     "name": "stderr",
     "output_type": "stream",
     "text": [
      "ERROR:root:Could not generate ENIGMA wave..\n",
      "ERROR:root:Could not generate ENIGMA wave..\n"
     ]
    },
    {
     "name": "stdout",
     "output_type": "stream",
     "text": [
      "YAY: sampling within prior...\n",
      "YAY: sampling within prior...\n",
      "YAY: sampling within prior...\n",
      "YAY: sampling within prior...\n",
      "YAY: sampling within prior...\n",
      "YAY: sampling within prior...\n",
      "YAY: sampling within prior...\n",
      "YAY: sampling within prior...\n",
      "YAY: sampling within prior...\n",
      "YAY: sampling within prior...\n",
      "YAY: sampling within prior...\n"
     ]
    },
    {
     "name": "stderr",
     "output_type": "stream",
     "text": [
      "ERROR:root:Could not generate ENIGMA wave..\n"
     ]
    },
    {
     "name": "stdout",
     "output_type": "stream",
     "text": [
      "YAY: sampling within prior...\n",
      "YAY: sampling within prior...\n",
      "YAY: sampling within prior...\n",
      "YAY: sampling within prior...\n",
      "YAY: sampling within prior...\n",
      "YAY: sampling within prior...\n",
      "YAY: sampling within prior...\n",
      "YAY: sampling within prior...\n",
      "YAY: sampling within prior...\n",
      "YAY: sampling within prior...\n",
      "YAY: sampling within prior...\n",
      "YAY: sampling within prior...\n",
      "YAY: sampling within prior...\n",
      "YAY: sampling within prior...\n",
      "YAY: sampling within prior...\n",
      "YAY: sampling within prior...\n",
      "YAY: sampling within prior...\n",
      "YAY: sampling within prior...\n",
      "YAY: sampling within prior...\n",
      "YAY: sampling within prior...\n",
      "YAY: sampling within prior...\n",
      "YAY: sampling within prior...\n",
      "YAY: sampling within prior...\n",
      "YAY: sampling within prior...\n",
      "YAY: sampling within prior...\n",
      "YAY: sampling within prior...\n",
      "YAY: sampling within prior...\n",
      "YAY: sampling within prior...\n",
      "YAY: sampling within prior...\n",
      "YAY: sampling within prior...\n",
      "YAY: sampling within prior...\n",
      "YAY: sampling within prior...\n",
      "YAY: sampling within prior...\n"
     ]
    },
    {
     "name": "stderr",
     "output_type": "stream",
     "text": [
      "ERROR:root:Could not generate ENIGMA wave..\n",
      "ERROR:root:Could not generate ENIGMA wave..\n"
     ]
    },
    {
     "name": "stdout",
     "output_type": "stream",
     "text": [
      "YAY: sampling within prior...\n",
      "YAY: sampling within prior...\n",
      "YAY: sampling within prior...\n",
      "YAY: sampling within prior...\n",
      "YAY: sampling within prior...\n",
      "YAY: sampling within prior...\n",
      "YAY: sampling within prior...\n",
      "YAY: sampling within prior...\n",
      "YAY: sampling within prior...\n",
      "YAY: sampling within prior...\n"
     ]
    },
    {
     "name": "stderr",
     "output_type": "stream",
     "text": [
      "ERROR:root:Could not generate ENIGMA wave..\n",
      "ERROR:root:Could not generate ENIGMA wave..\n"
     ]
    },
    {
     "name": "stdout",
     "output_type": "stream",
     "text": [
      "YAY: sampling within prior...\n",
      "YAY: sampling within prior...\n",
      "YAY: sampling within prior...\n",
      "YAY: sampling within prior...\n",
      "YAY: sampling within prior...\n",
      "YAY: sampling within prior...\n",
      "YAY: sampling within prior...\n",
      "YAY: sampling within prior...\n",
      "YAY: sampling within prior...\n"
     ]
    },
    {
     "name": "stderr",
     "output_type": "stream",
     "text": [
      "ERROR:root:Could not generate ENIGMA wave..\n",
      "ERROR:root:Could not generate ENIGMA wave..\n"
     ]
    },
    {
     "name": "stdout",
     "output_type": "stream",
     "text": [
      "YAY: sampling within prior...\n",
      "YAY: sampling within prior...\n",
      "YAY: sampling within prior...\n",
      "YAY: sampling within prior...\n",
      "YAY: sampling within prior...\n",
      "YAY: sampling within prior...\n",
      "YAY: sampling within prior...\n",
      "YAY: sampling within prior...\n",
      "YAY: sampling within prior...\n",
      "YAY: sampling within prior...\n"
     ]
    },
    {
     "name": "stderr",
     "output_type": "stream",
     "text": [
      "ERROR:root:Could not generate ENIGMA wave..\n"
     ]
    },
    {
     "name": "stdout",
     "output_type": "stream",
     "text": [
      "YAY: sampling within prior...\n",
      "YAY: sampling within prior...\n",
      "YAY: sampling within prior...\n",
      "YAY: sampling within prior...\n",
      "YAY: sampling within prior...\n",
      "YAY: sampling within prior...\n",
      "YAY: sampling within prior...\n",
      "YAY: sampling within prior...\n",
      "YAY: sampling within prior...\n",
      "YAY: sampling within prior...\n",
      "YAY: sampling within prior...\n",
      "YAY: sampling within prior...\n",
      "YAY: sampling within prior...\n",
      "YAY: sampling within prior...\n",
      "YAY: sampling within prior...\n",
      "YAY: sampling within prior...\n",
      "YAY: sampling within prior...\n"
     ]
    },
    {
     "name": "stderr",
     "output_type": "stream",
     "text": [
      "ERROR:root:Could not generate ENIGMA wave..\n",
      "ERROR:root:Could not generate ENIGMA wave..\n",
      "ERROR:root:Could not generate ENIGMA wave..\n",
      "ERROR:root:Could not generate ENIGMA wave..\n"
     ]
    },
    {
     "name": "stdout",
     "output_type": "stream",
     "text": [
      "YAY: sampling within prior...\n",
      "YAY: sampling within prior...\n",
      "YAY: sampling within prior...\n",
      "YAY: sampling within prior...\n",
      "YAY: sampling within prior...\n",
      "YAY: sampling within prior...\n",
      "YAY: sampling within prior...\n",
      "YAY: sampling within prior...\n",
      "YAY: sampling within prior...\n",
      "YAY: sampling within prior...\n",
      "YAY: sampling within prior...\n",
      "YAY: sampling within prior...\n"
     ]
    },
    {
     "name": "stderr",
     "output_type": "stream",
     "text": [
      "ERROR:root:Could not generate ENIGMA wave..\n"
     ]
    },
    {
     "name": "stdout",
     "output_type": "stream",
     "text": [
      "YAY: sampling within prior...\n",
      "YAY: sampling within prior...\n",
      "YAY: sampling within prior...\n",
      "YAY: sampling within prior...\n",
      "YAY: sampling within prior...\n",
      "YAY: sampling within prior...\n",
      "YAY: sampling within prior...\n",
      "YAY: sampling within prior...\n",
      "YAY: sampling within prior...\n",
      "YAY: sampling within prior...\n",
      "YAY: sampling within prior...\n",
      "YAY: sampling within prior...\n",
      "YAY: sampling within prior...\n",
      "YAY: sampling within prior...\n",
      "YAY: sampling within prior...\n",
      "YAY: sampling within prior...\n",
      "YAY: sampling within prior...\n"
     ]
    },
    {
     "name": "stderr",
     "output_type": "stream",
     "text": [
      "ERROR:root:Could not generate ENIGMA wave..\n",
      "ERROR:root:Could not generate ENIGMA wave..\n"
     ]
    },
    {
     "name": "stdout",
     "output_type": "stream",
     "text": [
      "YAY: sampling within prior...\n",
      "YAY: sampling within prior...\n",
      "YAY: sampling within prior...\n",
      "YAY: sampling within prior...\n",
      "YAY: sampling within prior...\n",
      "YAY: sampling within prior...\n",
      "YAY: sampling within prior...\n",
      "YAY: sampling within prior...\n",
      "YAY: sampling within prior...\n",
      "YAY: sampling within prior...\n",
      "YAY: sampling within prior...\n",
      "YAY: sampling within prior...\n",
      "YAY: sampling within prior...\n",
      "YAY: sampling within prior...\n",
      "YAY: sampling within prior...\n",
      "YAY: sampling within prior...\n",
      "YAY: sampling within prior...\n",
      "YAY: sampling within prior...\n",
      "YAY: sampling within prior...\n"
     ]
    },
    {
     "name": "stderr",
     "output_type": "stream",
     "text": [
      "ERROR:root:Could not generate ENIGMA wave..\n",
      "ERROR:root:Could not generate ENIGMA wave..\n",
      "ERROR:root:Could not generate ENIGMA wave..\n"
     ]
    },
    {
     "name": "stdout",
     "output_type": "stream",
     "text": [
      "YAY: sampling within prior...\n",
      "YAY: sampling within prior...\n",
      "YAY: sampling within prior...\n",
      "YAY: sampling within prior...\n",
      "YAY: sampling within prior...\n",
      "YAY: sampling within prior...\n",
      "YAY: sampling within prior...\n",
      "YAY: sampling within prior...\n",
      "YAY: sampling within prior...\n",
      "YAY: sampling within prior...\n",
      "YAY: sampling within prior...\n"
     ]
    },
    {
     "name": "stderr",
     "output_type": "stream",
     "text": [
      "ERROR:root:Could not generate ENIGMA wave..\n",
      "ERROR:root:Could not generate ENIGMA wave..\n",
      "ERROR:root:Could not generate ENIGMA wave..\n"
     ]
    },
    {
     "name": "stdout",
     "output_type": "stream",
     "text": [
      "YAY: sampling within prior...\n",
      "YAY: sampling within prior...\n",
      "YAY: sampling within prior...\n",
      "YAY: sampling within prior...\n",
      "YAY: sampling within prior...\n",
      "YAY: sampling within prior...\n",
      "YAY: sampling within prior...\n",
      "YAY: sampling within prior...\n",
      "YAY: sampling within prior...\n",
      "YAY: sampling within prior...\n",
      "YAY: sampling within prior...\n",
      "YAY: sampling within prior...\n"
     ]
    },
    {
     "name": "stderr",
     "output_type": "stream",
     "text": [
      "ERROR:root:Could not generate ENIGMA wave..\n"
     ]
    },
    {
     "name": "stdout",
     "output_type": "stream",
     "text": [
      "YAY: sampling within prior...\n",
      "YAY: sampling within prior...\n",
      "YAY: sampling within prior...\n",
      "YAY: sampling within prior...\n",
      "YAY: sampling within prior...\n",
      "YAY: sampling within prior...\n",
      "YAY: sampling within prior...\n",
      "YAY: sampling within prior...\n",
      "YAY: sampling within prior...\n"
     ]
    },
    {
     "name": "stderr",
     "output_type": "stream",
     "text": [
      "ERROR:root:Could not generate ENIGMA wave..\n"
     ]
    },
    {
     "name": "stdout",
     "output_type": "stream",
     "text": [
      "YAY: sampling within prior...\n",
      "YAY: sampling within prior...\n",
      "YAY: sampling within prior...\n",
      "YAY: sampling within prior...\n",
      "YAY: sampling within prior...\n",
      "YAY: sampling within prior...\n",
      "YAY: sampling within prior...\n",
      "YAY: sampling within prior...\n",
      "YAY: sampling within prior...\n"
     ]
    },
    {
     "name": "stderr",
     "output_type": "stream",
     "text": [
      "ERROR:root:Could not generate ENIGMA wave..\n"
     ]
    },
    {
     "name": "stdout",
     "output_type": "stream",
     "text": [
      "YAY: sampling within prior...\n",
      "YAY: sampling within prior...\n",
      "YAY: sampling within prior...\n",
      "YAY: sampling within prior...\n",
      "YAY: sampling within prior...\n",
      "YAY: sampling within prior...\n",
      "YAY: sampling within prior...\n",
      "YAY: sampling within prior...\n",
      "YAY: sampling within prior...\n",
      "YAY: sampling within prior...\n"
     ]
    },
    {
     "name": "stderr",
     "output_type": "stream",
     "text": [
      "ERROR:root:Could not generate ENIGMA wave..\n"
     ]
    },
    {
     "name": "stdout",
     "output_type": "stream",
     "text": [
      "YAY: sampling within prior...\n",
      "YAY: sampling within prior...\n",
      "YAY: sampling within prior...\n",
      "YAY: sampling within prior...\n",
      "YAY: sampling within prior...\n",
      "YAY: sampling within prior...\n",
      "YAY: sampling within prior...\n",
      "YAY: sampling within prior...\n",
      "YAY: sampling within prior...\n",
      "YAY: sampling within prior...\n"
     ]
    },
    {
     "name": "stderr",
     "output_type": "stream",
     "text": [
      "ERROR:root:Could not generate ENIGMA wave..\n"
     ]
    },
    {
     "name": "stdout",
     "output_type": "stream",
     "text": [
      "YAY: sampling within prior...\n",
      "YAY: sampling within prior...\n",
      "YAY: sampling within prior...\n",
      "YAY: sampling within prior...\n",
      "YAY: sampling within prior...\n",
      "YAY: sampling within prior...\n",
      "YAY: sampling within prior...\n",
      "YAY: sampling within prior...\n",
      "YAY: sampling within prior...\n"
     ]
    },
    {
     "name": "stderr",
     "output_type": "stream",
     "text": [
      "ERROR:root:Could not generate ENIGMA wave..\n"
     ]
    },
    {
     "name": "stdout",
     "output_type": "stream",
     "text": [
      "YAY: sampling within prior...\n",
      "YAY: sampling within prior...\n",
      "YAY: sampling within prior...\n",
      "YAY: sampling within prior...\n",
      "YAY: sampling within prior...\n",
      "YAY: sampling within prior...\n",
      "YAY: sampling within prior...\n",
      "YAY: sampling within prior...\n",
      "YAY: sampling within prior...\n",
      "YAY: sampling within prior...\n"
     ]
    },
    {
     "name": "stderr",
     "output_type": "stream",
     "text": [
      "ERROR:root:Could not generate ENIGMA wave..\n"
     ]
    },
    {
     "name": "stdout",
     "output_type": "stream",
     "text": [
      "YAY: sampling within prior...\n",
      "YAY: sampling within prior...\n",
      "YAY: sampling within prior...\n",
      "YAY: sampling within prior...\n",
      "YAY: sampling within prior...\n",
      "YAY: sampling within prior...\n",
      "YAY: sampling within prior...\n",
      "YAY: sampling within prior...\n",
      "YAY: sampling within prior...\n",
      "YAY: sampling within prior...\n"
     ]
    },
    {
     "name": "stderr",
     "output_type": "stream",
     "text": [
      "ERROR:root:Could not generate ENIGMA wave..\n"
     ]
    },
    {
     "name": "stdout",
     "output_type": "stream",
     "text": [
      "YAY: sampling within prior...\n",
      "YAY: sampling within prior...\n",
      "YAY: sampling within prior...\n",
      "YAY: sampling within prior...\n",
      "YAY: sampling within prior...\n",
      "YAY: sampling within prior...\n",
      "YAY: sampling within prior...\n",
      "YAY: sampling within prior...\n",
      "YAY: sampling within prior...\n"
     ]
    },
    {
     "name": "stderr",
     "output_type": "stream",
     "text": [
      "ERROR:root:Could not generate ENIGMA wave..\n",
      "ERROR:root:Could not generate ENIGMA wave..\n",
      "ERROR:root:Could not generate ENIGMA wave..\n",
      "ERROR:root:Could not generate ENIGMA wave..\n",
      "ERROR:root:Could not generate ENIGMA wave..\n"
     ]
    },
    {
     "name": "stdout",
     "output_type": "stream",
     "text": [
      "YAY: sampling within prior...\n",
      "YAY: sampling within prior...\n",
      "YAY: sampling within prior...\n",
      "YAY: sampling within prior...\n",
      "YAY: sampling within prior...\n",
      "YAY: sampling within prior...\n",
      "YAY: sampling within prior...\n",
      "YAY: sampling within prior...\n",
      "YAY: sampling within prior...\n",
      "YAY: sampling within prior...\n",
      "YAY: sampling within prior...\n",
      "YAY: sampling within prior...\n",
      "YAY: sampling within prior...\n",
      "YAY: sampling within prior...\n"
     ]
    },
    {
     "name": "stderr",
     "output_type": "stream",
     "text": [
      "ERROR:root:Could not generate ENIGMA wave..\n",
      "ERROR:root:Could not generate ENIGMA wave..\n",
      "ERROR:root:Could not generate ENIGMA wave..\n"
     ]
    },
    {
     "name": "stdout",
     "output_type": "stream",
     "text": [
      "YAY: sampling within prior...\n",
      "YAY: sampling within prior...\n",
      "YAY: sampling within prior...\n",
      "YAY: sampling within prior...\n",
      "YAY: sampling within prior...\n",
      "YAY: sampling within prior...\n",
      "YAY: sampling within prior...\n",
      "YAY: sampling within prior...\n",
      "YAY: sampling within prior...\n",
      "YAY: sampling within prior...\n",
      "YAY: sampling within prior...\n"
     ]
    },
    {
     "name": "stderr",
     "output_type": "stream",
     "text": [
      "ERROR:root:Could not generate ENIGMA wave..\n",
      "ERROR:root:Could not generate ENIGMA wave..\n",
      "ERROR:root:Could not generate ENIGMA wave..\n"
     ]
    },
    {
     "name": "stdout",
     "output_type": "stream",
     "text": [
      "YAY: sampling within prior...\n",
      "YAY: sampling within prior...\n",
      "YAY: sampling within prior...\n",
      "YAY: sampling within prior...\n",
      "YAY: sampling within prior...\n",
      "YAY: sampling within prior...\n",
      "YAY: sampling within prior...\n",
      "YAY: sampling within prior...\n",
      "YAY: sampling within prior...\n",
      "YAY: sampling within prior...\n",
      "YAY: sampling within prior...\n"
     ]
    },
    {
     "name": "stderr",
     "output_type": "stream",
     "text": [
      "ERROR:root:Could not generate ENIGMA wave..\n",
      "ERROR:root:Could not generate ENIGMA wave..\n",
      "ERROR:root:Could not generate ENIGMA wave..\n",
      "ERROR:root:Could not generate ENIGMA wave..\n",
      "ERROR:root:Could not generate ENIGMA wave..\n"
     ]
    },
    {
     "name": "stdout",
     "output_type": "stream",
     "text": [
      "YAY: sampling within prior...\n",
      "YAY: sampling within prior...\n",
      "YAY: sampling within prior...\n",
      "YAY: sampling within prior...\n",
      "YAY: sampling within prior...\n",
      "YAY: sampling within prior...\n",
      "YAY: sampling within prior...\n",
      "YAY: sampling within prior...\n",
      "YAY: sampling within prior...\n",
      "YAY: sampling within prior...\n",
      "YAY: sampling within prior...\n",
      "YAY: sampling within prior...\n",
      "YAY: sampling within prior...\n"
     ]
    },
    {
     "name": "stderr",
     "output_type": "stream",
     "text": [
      "ERROR:root:Could not generate ENIGMA wave..\n",
      "ERROR:root:Could not generate ENIGMA wave..\n"
     ]
    },
    {
     "name": "stdout",
     "output_type": "stream",
     "text": [
      "YAY: sampling within prior...\n",
      "YAY: sampling within prior...\n",
      "YAY: sampling within prior...\n",
      "YAY: sampling within prior...\n",
      "YAY: sampling within prior...\n",
      "YAY: sampling within prior...\n",
      "YAY: sampling within prior...\n",
      "YAY: sampling within prior...\n",
      "YAY: sampling within prior...\n",
      "YAY: sampling within prior...\n",
      "YAY: sampling within prior...\n",
      "YAY: sampling within prior...\n",
      "YAY: sampling within prior...\n",
      "YAY: sampling within prior...\n",
      "YAY: sampling within prior...\n",
      "YAY: sampling within prior...\n",
      "YAY: sampling within prior...\n",
      "YAY: sampling within prior...\n"
     ]
    },
    {
     "name": "stderr",
     "output_type": "stream",
     "text": [
      "ERROR:root:Could not generate ENIGMA wave..\n",
      "ERROR:root:Could not generate ENIGMA wave..\n",
      "ERROR:root:Could not generate ENIGMA wave..\n"
     ]
    },
    {
     "name": "stdout",
     "output_type": "stream",
     "text": [
      "YAY: sampling within prior...\n",
      "YAY: sampling within prior...\n",
      "YAY: sampling within prior...\n",
      "YAY: sampling within prior...\n",
      "YAY: sampling within prior...\n",
      "YAY: sampling within prior...\n",
      "YAY: sampling within prior...\n",
      "YAY: sampling within prior...\n",
      "YAY: sampling within prior...\n",
      "YAY: sampling within prior...\n",
      "YAY: sampling within prior...\n",
      "YAY: sampling within prior...\n",
      "YAY: sampling within prior...\n",
      "YAY: sampling within prior...\n",
      "YAY: sampling within prior...\n",
      "YAY: sampling within prior...\n",
      "YAY: sampling within prior...\n",
      "YAY: sampling within prior...\n"
     ]
    },
    {
     "name": "stderr",
     "output_type": "stream",
     "text": [
      "ERROR:root:Could not generate ENIGMA wave..\n"
     ]
    },
    {
     "name": "stdout",
     "output_type": "stream",
     "text": [
      "YAY: sampling within prior...\n",
      "YAY: sampling within prior...\n",
      "YAY: sampling within prior...\n",
      "YAY: sampling within prior...\n",
      "YAY: sampling within prior...\n",
      "YAY: sampling within prior...\n",
      "YAY: sampling within prior...\n",
      "YAY: sampling within prior...\n",
      "YAY: sampling within prior...\n"
     ]
    },
    {
     "name": "stderr",
     "output_type": "stream",
     "text": [
      "ERROR:root:Could not generate ENIGMA wave..\n",
      "ERROR:root:Could not generate ENIGMA wave..\n"
     ]
    },
    {
     "name": "stdout",
     "output_type": "stream",
     "text": [
      "YAY: sampling within prior...\n",
      "YAY: sampling within prior...\n",
      "YAY: sampling within prior...\n",
      "YAY: sampling within prior...\n",
      "YAY: sampling within prior...\n",
      "YAY: sampling within prior...\n",
      "YAY: sampling within prior...\n",
      "YAY: sampling within prior...\n",
      "YAY: sampling within prior...\n",
      "YAY: sampling within prior...\n"
     ]
    },
    {
     "name": "stderr",
     "output_type": "stream",
     "text": [
      "ERROR:root:Could not generate ENIGMA wave..\n",
      "ERROR:root:Could not generate ENIGMA wave..\n",
      "ERROR:root:Could not generate ENIGMA wave..\n"
     ]
    },
    {
     "name": "stdout",
     "output_type": "stream",
     "text": [
      "YAY: sampling within prior...\n",
      "YAY: sampling within prior...\n",
      "YAY: sampling within prior...\n",
      "YAY: sampling within prior...\n",
      "YAY: sampling within prior...\n",
      "YAY: sampling within prior...\n",
      "YAY: sampling within prior...\n",
      "YAY: sampling within prior...\n",
      "YAY: sampling within prior...\n",
      "YAY: sampling within prior...\n",
      "YAY: sampling within prior...\n",
      "YAY: sampling within prior...\n",
      "YAY: sampling within prior...\n",
      "YAY: sampling within prior...\n",
      "YAY: sampling within prior...\n",
      "YAY: sampling within prior...\n",
      "YAY: sampling within prior...\n",
      "YAY: sampling within prior...\n",
      "YAY: sampling within prior...\n"
     ]
    },
    {
     "name": "stderr",
     "output_type": "stream",
     "text": [
      "ERROR:root:Could not generate ENIGMA wave..\n",
      "ERROR:root:Could not generate ENIGMA wave..\n",
      "ERROR:root:Could not generate ENIGMA wave..\n",
      "ERROR:root:Could not generate ENIGMA wave..\n"
     ]
    },
    {
     "name": "stdout",
     "output_type": "stream",
     "text": [
      "YAY: sampling within prior...\n",
      "YAY: sampling within prior...\n",
      "YAY: sampling within prior...\n",
      "YAY: sampling within prior...\n",
      "YAY: sampling within prior...\n",
      "YAY: sampling within prior...\n",
      "YAY: sampling within prior...\n",
      "YAY: sampling within prior...\n",
      "YAY: sampling within prior...\n",
      "YAY: sampling within prior...\n",
      "YAY: sampling within prior...\n",
      "YAY: sampling within prior...\n"
     ]
    },
    {
     "name": "stderr",
     "output_type": "stream",
     "text": [
      "ERROR:root:Could not generate ENIGMA wave..\n",
      "ERROR:root:Could not generate ENIGMA wave..\n"
     ]
    },
    {
     "name": "stdout",
     "output_type": "stream",
     "text": [
      "YAY: sampling within prior...\n",
      "YAY: sampling within prior...\n",
      "YAY: sampling within prior...\n",
      "YAY: sampling within prior...\n",
      "YAY: sampling within prior...\n",
      "YAY: sampling within prior...\n",
      "YAY: sampling within prior...\n",
      "YAY: sampling within prior...\n",
      "YAY: sampling within prior...\n",
      "YAY: sampling within prior...\n"
     ]
    },
    {
     "name": "stderr",
     "output_type": "stream",
     "text": [
      "ERROR:root:Could not generate ENIGMA wave..\n"
     ]
    },
    {
     "name": "stdout",
     "output_type": "stream",
     "text": [
      "YAY: sampling within prior...\n",
      "YAY: sampling within prior...\n",
      "YAY: sampling within prior...\n",
      "YAY: sampling within prior...\n",
      "YAY: sampling within prior...\n",
      "YAY: sampling within prior...\n",
      "YAY: sampling within prior...\n",
      "YAY: sampling within prior...\n",
      "YAY: sampling within prior...\n"
     ]
    },
    {
     "name": "stderr",
     "output_type": "stream",
     "text": [
      "ERROR:root:Could not generate ENIGMA wave..\n",
      "ERROR:root:Could not generate ENIGMA wave..\n"
     ]
    },
    {
     "name": "stdout",
     "output_type": "stream",
     "text": [
      "YAY: sampling within prior...\n",
      "YAY: sampling within prior...\n",
      "YAY: sampling within prior...\n",
      "YAY: sampling within prior...\n",
      "YAY: sampling within prior...\n",
      "YAY: sampling within prior...\n",
      "YAY: sampling within prior...\n",
      "YAY: sampling within prior...\n"
     ]
    },
    {
     "name": "stderr",
     "output_type": "stream",
     "text": [
      "ERROR:root:Could not generate ENIGMA wave..\n"
     ]
    },
    {
     "name": "stdout",
     "output_type": "stream",
     "text": [
      "YAY: sampling within prior...\n",
      "YAY: sampling within prior...\n",
      "YAY: sampling within prior...\n",
      "YAY: sampling within prior...\n",
      "YAY: sampling within prior...\n",
      "YAY: sampling within prior...\n",
      "YAY: sampling within prior...\n",
      "YAY: sampling within prior...\n",
      "YAY: sampling within prior...\n",
      "YAY: sampling within prior...\n",
      "YAY: sampling within prior...\n",
      "YAY: sampling within prior...\n",
      "YAY: sampling within prior...\n",
      "YAY: sampling within prior...\n",
      "YAY: sampling within prior...\n",
      "YAY: sampling within prior...\n",
      "YAY: sampling within prior...\n"
     ]
    },
    {
     "name": "stderr",
     "output_type": "stream",
     "text": [
      "ERROR:root:Could not generate ENIGMA wave..\n",
      "ERROR:root:Could not generate ENIGMA wave..\n",
      "ERROR:root:Could not generate ENIGMA wave..\n",
      "ERROR:root:Could not generate ENIGMA wave..\n"
     ]
    },
    {
     "name": "stdout",
     "output_type": "stream",
     "text": [
      "YAY: sampling within prior...\n",
      "YAY: sampling within prior...\n",
      "YAY: sampling within prior...\n",
      "YAY: sampling within prior...\n",
      "YAY: sampling within prior...\n",
      "YAY: sampling within prior...\n",
      "YAY: sampling within prior...\n",
      "YAY: sampling within prior...\n",
      "YAY: sampling within prior...\n",
      "YAY: sampling within prior...\n",
      "YAY: sampling within prior...\n",
      "YAY: sampling within prior...\n",
      "YAY: sampling within prior...\n"
     ]
    },
    {
     "name": "stderr",
     "output_type": "stream",
     "text": [
      "ERROR:root:Could not generate ENIGMA wave..\n",
      "ERROR:root:Could not generate ENIGMA wave..\n"
     ]
    },
    {
     "name": "stdout",
     "output_type": "stream",
     "text": [
      "YAY: sampling within prior...\n",
      "YAY: sampling within prior...\n",
      "YAY: sampling within prior...\n",
      "YAY: sampling within prior...\n",
      "YAY: sampling within prior...\n",
      "YAY: sampling within prior...\n",
      "YAY: sampling within prior...\n",
      "YAY: sampling within prior...\n",
      "YAY: sampling within prior...\n",
      "YAY: sampling within prior...\n",
      "YAY: sampling within prior...\n",
      "YAY: sampling within prior...\n",
      "YAY: sampling within prior...\n",
      "YAY: sampling within prior...\n",
      "YAY: sampling within prior...\n"
     ]
    },
    {
     "name": "stderr",
     "output_type": "stream",
     "text": [
      "ERROR:root:Could not generate ENIGMA wave..\n",
      "ERROR:root:Could not generate ENIGMA wave..\n"
     ]
    },
    {
     "name": "stdout",
     "output_type": "stream",
     "text": [
      "YAY: sampling within prior...\n",
      "YAY: sampling within prior...\n",
      "YAY: sampling within prior...\n",
      "YAY: sampling within prior...\n",
      "YAY: sampling within prior...\n",
      "YAY: sampling within prior...\n",
      "YAY: sampling within prior...\n",
      "YAY: sampling within prior...\n",
      "YAY: sampling within prior...\n",
      "YAY: sampling within prior...\n",
      "YAY: sampling within prior...\n",
      "YAY: sampling within prior...\n",
      "YAY: sampling within prior...\n",
      "YAY: sampling within prior...\n"
     ]
    },
    {
     "name": "stderr",
     "output_type": "stream",
     "text": [
      "ERROR:root:Could not generate ENIGMA wave..\n",
      "ERROR:root:Could not generate ENIGMA wave..\n",
      "ERROR:root:Could not generate ENIGMA wave..\n",
      "ERROR:root:Could not generate ENIGMA wave..\n"
     ]
    },
    {
     "name": "stdout",
     "output_type": "stream",
     "text": [
      "YAY: sampling within prior...\n",
      "YAY: sampling within prior...\n",
      "YAY: sampling within prior...\n",
      "YAY: sampling within prior...\n",
      "YAY: sampling within prior...\n",
      "YAY: sampling within prior...\n",
      "YAY: sampling within prior...\n",
      "YAY: sampling within prior...\n",
      "YAY: sampling within prior...\n",
      "YAY: sampling within prior...\n",
      "YAY: sampling within prior...\n"
     ]
    },
    {
     "name": "stderr",
     "output_type": "stream",
     "text": [
      "ERROR:root:Could not generate ENIGMA wave..\n",
      "ERROR:root:Could not generate ENIGMA wave..\n",
      "ERROR:root:Could not generate ENIGMA wave..\n"
     ]
    },
    {
     "name": "stdout",
     "output_type": "stream",
     "text": [
      "YAY: sampling within prior...\n",
      "YAY: sampling within prior...\n",
      "YAY: sampling within prior...\n",
      "YAY: sampling within prior...\n",
      "YAY: sampling within prior...\n",
      "YAY: sampling within prior...\n",
      "YAY: sampling within prior...\n",
      "YAY: sampling within prior...\n",
      "YAY: sampling within prior...\n",
      "YAY: sampling within prior...\n",
      "YAY: sampling within prior...\n"
     ]
    },
    {
     "name": "stderr",
     "output_type": "stream",
     "text": [
      "ERROR:root:Could not generate ENIGMA wave..\n",
      "ERROR:root:Could not generate ENIGMA wave..\n",
      "ERROR:root:Could not generate ENIGMA wave..\n"
     ]
    },
    {
     "name": "stdout",
     "output_type": "stream",
     "text": [
      "YAY: sampling within prior...\n",
      "YAY: sampling within prior...\n",
      "YAY: sampling within prior...\n",
      "YAY: sampling within prior...\n",
      "YAY: sampling within prior...\n",
      "YAY: sampling within prior...\n",
      "YAY: sampling within prior...\n",
      "YAY: sampling within prior...\n",
      "YAY: sampling within prior...\n",
      "YAY: sampling within prior...\n",
      "YAY: sampling within prior...\n"
     ]
    },
    {
     "name": "stderr",
     "output_type": "stream",
     "text": [
      "ERROR:root:Could not generate ENIGMA wave..\n"
     ]
    },
    {
     "name": "stdout",
     "output_type": "stream",
     "text": [
      "YAY: sampling within prior...\n",
      "YAY: sampling within prior...\n",
      "YAY: sampling within prior...\n",
      "YAY: sampling within prior...\n",
      "YAY: sampling within prior...\n",
      "YAY: sampling within prior...\n",
      "YAY: sampling within prior...\n"
     ]
    },
    {
     "name": "stderr",
     "output_type": "stream",
     "text": [
      "ERROR:root:Could not generate ENIGMA wave..\n",
      "ERROR:root:Could not generate ENIGMA wave..\n",
      "ERROR:root:Could not generate ENIGMA wave..\n"
     ]
    },
    {
     "name": "stdout",
     "output_type": "stream",
     "text": [
      "YAY: sampling within prior...\n",
      "YAY: sampling within prior...\n",
      "YAY: sampling within prior...\n",
      "YAY: sampling within prior...\n",
      "YAY: sampling within prior...\n",
      "YAY: sampling within prior...\n",
      "YAY: sampling within prior...\n",
      "YAY: sampling within prior...\n",
      "YAY: sampling within prior...\n",
      "YAY: sampling within prior...\n"
     ]
    },
    {
     "name": "stderr",
     "output_type": "stream",
     "text": [
      "ERROR:root:Could not generate ENIGMA wave..\n"
     ]
    },
    {
     "name": "stdout",
     "output_type": "stream",
     "text": [
      "YAY: sampling within prior...\n",
      "YAY: sampling within prior...\n",
      "YAY: sampling within prior...\n",
      "YAY: sampling within prior...\n",
      "YAY: sampling within prior...\n",
      "YAY: sampling within prior...\n",
      "YAY: sampling within prior...\n",
      "YAY: sampling within prior...\n",
      "YAY: sampling within prior...\n"
     ]
    },
    {
     "name": "stderr",
     "output_type": "stream",
     "text": [
      "ERROR:root:Could not generate ENIGMA wave..\n",
      "ERROR:root:Could not generate ENIGMA wave..\n"
     ]
    },
    {
     "name": "stdout",
     "output_type": "stream",
     "text": [
      "YAY: sampling within prior...\n",
      "YAY: sampling within prior...\n",
      "YAY: sampling within prior...\n",
      "YAY: sampling within prior...\n",
      "YAY: sampling within prior...\n",
      "YAY: sampling within prior...\n",
      "YAY: sampling within prior...\n",
      "YAY: sampling within prior...\n",
      "YAY: sampling within prior...\n",
      "YAY: sampling within prior...\n"
     ]
    },
    {
     "name": "stderr",
     "output_type": "stream",
     "text": [
      "ERROR:root:Could not generate ENIGMA wave..\n",
      "ERROR:root:Could not generate ENIGMA wave..\n"
     ]
    },
    {
     "name": "stdout",
     "output_type": "stream",
     "text": [
      "YAY: sampling within prior...\n",
      "YAY: sampling within prior...\n",
      "YAY: sampling within prior...\n",
      "YAY: sampling within prior...\n",
      "YAY: sampling within prior...\n",
      "YAY: sampling within prior...\n",
      "YAY: sampling within prior...\n",
      "YAY: sampling within prior...\n",
      "YAY: sampling within prior...\n",
      "YAY: sampling within prior...\n"
     ]
    },
    {
     "name": "stderr",
     "output_type": "stream",
     "text": [
      "ERROR:root:Could not generate ENIGMA wave..\n",
      "ERROR:root:Could not generate ENIGMA wave..\n",
      "ERROR:root:Could not generate ENIGMA wave..\n"
     ]
    },
    {
     "name": "stdout",
     "output_type": "stream",
     "text": [
      "YAY: sampling within prior...\n",
      "YAY: sampling within prior...\n",
      "YAY: sampling within prior...\n",
      "YAY: sampling within prior...\n",
      "YAY: sampling within prior...\n",
      "YAY: sampling within prior...\n",
      "YAY: sampling within prior...\n",
      "YAY: sampling within prior...\n",
      "YAY: sampling within prior...\n",
      "YAY: sampling within prior...\n",
      "YAY: sampling within prior...\n"
     ]
    },
    {
     "name": "stderr",
     "output_type": "stream",
     "text": [
      "ERROR:root:Could not generate ENIGMA wave..\n",
      "ERROR:root:Could not generate ENIGMA wave..\n",
      "ERROR:root:Could not generate ENIGMA wave..\n",
      "ERROR:root:Could not generate ENIGMA wave..\n",
      "ERROR:root:Could not generate ENIGMA wave..\n",
      "ERROR:root:Could not generate ENIGMA wave..\n",
      "ERROR:root:Could not generate ENIGMA wave..\n"
     ]
    },
    {
     "name": "stdout",
     "output_type": "stream",
     "text": [
      "YAY: sampling within prior...\n",
      "YAY: sampling within prior...\n",
      "YAY: sampling within prior...\n",
      "YAY: sampling within prior...\n",
      "YAY: sampling within prior...\n",
      "YAY: sampling within prior...\n",
      "YAY: sampling within prior...\n",
      "YAY: sampling within prior...\n",
      "YAY: sampling within prior...\n",
      "YAY: sampling within prior...\n",
      "YAY: sampling within prior...\n",
      "YAY: sampling within prior...\n",
      "YAY: sampling within prior...\n",
      "YAY: sampling within prior...\n",
      "YAY: sampling within prior...\n",
      "YAY: sampling within prior...\n",
      "YAY: sampling within prior...\n",
      "YAY: sampling within prior...\n",
      "YAY: sampling within prior...\n",
      "YAY: sampling within prior...\n",
      "YAY: sampling within prior...\n",
      "YAY: sampling within prior...\n",
      "YAY: sampling within prior...\n"
     ]
    },
    {
     "name": "stderr",
     "output_type": "stream",
     "text": [
      "ERROR:root:Could not generate ENIGMA wave..\n"
     ]
    },
    {
     "name": "stdout",
     "output_type": "stream",
     "text": [
      "YAY: sampling within prior...\n",
      "YAY: sampling within prior...\n",
      "YAY: sampling within prior...\n",
      "YAY: sampling within prior...\n",
      "YAY: sampling within prior...\n",
      "YAY: sampling within prior...\n",
      "YAY: sampling within prior...\n",
      "YAY: sampling within prior...\n",
      "YAY: sampling within prior...\n",
      "YAY: sampling within prior...\n"
     ]
    },
    {
     "name": "stderr",
     "output_type": "stream",
     "text": [
      "ERROR:root:Could not generate ENIGMA wave..\n",
      "ERROR:root:Could not generate ENIGMA wave..\n"
     ]
    },
    {
     "name": "stdout",
     "output_type": "stream",
     "text": [
      "YAY: sampling within prior...\n",
      "YAY: sampling within prior...\n",
      "YAY: sampling within prior...\n",
      "YAY: sampling within prior...\n",
      "YAY: sampling within prior...\n",
      "YAY: sampling within prior...\n",
      "YAY: sampling within prior...\n",
      "YAY: sampling within prior...\n",
      "YAY: sampling within prior...\n",
      "YAY: sampling within prior...\n"
     ]
    },
    {
     "name": "stderr",
     "output_type": "stream",
     "text": [
      "ERROR:root:Could not generate ENIGMA wave..\n",
      "ERROR:root:Could not generate ENIGMA wave..\n",
      "ERROR:root:Could not generate ENIGMA wave..\n",
      "ERROR:root:Could not generate ENIGMA wave..\n",
      "ERROR:root:Could not generate ENIGMA wave..\n"
     ]
    },
    {
     "name": "stdout",
     "output_type": "stream",
     "text": [
      "YAY: sampling within prior...\n",
      "YAY: sampling within prior...\n",
      "YAY: sampling within prior...\n",
      "YAY: sampling within prior...\n",
      "YAY: sampling within prior...\n",
      "YAY: sampling within prior...\n",
      "YAY: sampling within prior...\n",
      "YAY: sampling within prior...\n",
      "YAY: sampling within prior...\n",
      "YAY: sampling within prior...\n",
      "YAY: sampling within prior...\n",
      "YAY: sampling within prior...\n"
     ]
    },
    {
     "name": "stderr",
     "output_type": "stream",
     "text": [
      "ERROR:root:Could not generate ENIGMA wave..\n"
     ]
    },
    {
     "name": "stdout",
     "output_type": "stream",
     "text": [
      "YAY: sampling within prior...\n",
      "YAY: sampling within prior...\n",
      "YAY: sampling within prior...\n",
      "YAY: sampling within prior...\n",
      "YAY: sampling within prior...\n",
      "YAY: sampling within prior...\n",
      "YAY: sampling within prior...\n",
      "YAY: sampling within prior...\n",
      "YAY: sampling within prior...\n"
     ]
    },
    {
     "name": "stderr",
     "output_type": "stream",
     "text": [
      "ERROR:root:Could not generate ENIGMA wave..\n",
      "ERROR:root:Could not generate ENIGMA wave..\n"
     ]
    },
    {
     "name": "stdout",
     "output_type": "stream",
     "text": [
      "YAY: sampling within prior...\n",
      "YAY: sampling within prior...\n",
      "YAY: sampling within prior...\n",
      "YAY: sampling within prior...\n",
      "YAY: sampling within prior...\n",
      "YAY: sampling within prior...\n",
      "YAY: sampling within prior...\n",
      "YAY: sampling within prior...\n",
      "YAY: sampling within prior...\n",
      "YAY: sampling within prior...\n"
     ]
    },
    {
     "name": "stderr",
     "output_type": "stream",
     "text": [
      "ERROR:root:Could not generate ENIGMA wave..\n"
     ]
    },
    {
     "name": "stdout",
     "output_type": "stream",
     "text": [
      "YAY: sampling within prior...\n",
      "YAY: sampling within prior...\n",
      "YAY: sampling within prior...\n",
      "YAY: sampling within prior...\n",
      "YAY: sampling within prior...\n",
      "YAY: sampling within prior...\n",
      "YAY: sampling within prior...\n",
      "YAY: sampling within prior...\n"
     ]
    },
    {
     "name": "stderr",
     "output_type": "stream",
     "text": [
      "ERROR:root:Could not generate ENIGMA wave..\n",
      "ERROR:root:Could not generate ENIGMA wave..\n",
      "ERROR:root:Could not generate ENIGMA wave..\n",
      "ERROR:root:Could not generate ENIGMA wave..\n"
     ]
    },
    {
     "name": "stdout",
     "output_type": "stream",
     "text": [
      "YAY: sampling within prior...\n",
      "YAY: sampling within prior...\n",
      "YAY: sampling within prior...\n",
      "YAY: sampling within prior...\n",
      "YAY: sampling within prior...\n",
      "YAY: sampling within prior...\n",
      "YAY: sampling within prior...\n",
      "YAY: sampling within prior...\n",
      "YAY: sampling within prior...\n",
      "YAY: sampling within prior...\n",
      "YAY: sampling within prior...\n",
      "YAY: sampling within prior...\n"
     ]
    },
    {
     "name": "stderr",
     "output_type": "stream",
     "text": [
      "ERROR:root:Could not generate ENIGMA wave..\n",
      "ERROR:root:Could not generate ENIGMA wave..\n",
      "ERROR:root:Could not generate ENIGMA wave..\n",
      "ERROR:root:Could not generate ENIGMA wave..\n",
      "ERROR:root:Could not generate ENIGMA wave..\n"
     ]
    },
    {
     "name": "stdout",
     "output_type": "stream",
     "text": [
      "YAY: sampling within prior...\n",
      "YAY: sampling within prior...\n",
      "YAY: sampling within prior...\n",
      "YAY: sampling within prior...\n",
      "YAY: sampling within prior...\n",
      "YAY: sampling within prior...\n",
      "YAY: sampling within prior...\n",
      "YAY: sampling within prior...\n",
      "YAY: sampling within prior...\n",
      "YAY: sampling within prior...\n",
      "YAY: sampling within prior...\n",
      "YAY: sampling within prior...\n"
     ]
    },
    {
     "name": "stderr",
     "output_type": "stream",
     "text": [
      "ERROR:root:Could not generate ENIGMA wave..\n"
     ]
    },
    {
     "name": "stdout",
     "output_type": "stream",
     "text": [
      "YAY: sampling within prior...\n",
      "YAY: sampling within prior...\n",
      "YAY: sampling within prior...\n",
      "YAY: sampling within prior...\n",
      "YAY: sampling within prior...\n",
      "YAY: sampling within prior...\n",
      "YAY: sampling within prior...\n",
      "YAY: sampling within prior...\n"
     ]
    },
    {
     "name": "stderr",
     "output_type": "stream",
     "text": [
      "ERROR:root:Could not generate ENIGMA wave..\n",
      "ERROR:root:Could not generate ENIGMA wave..\n",
      "ERROR:root:Could not generate ENIGMA wave..\n"
     ]
    },
    {
     "name": "stdout",
     "output_type": "stream",
     "text": [
      "YAY: sampling within prior...\n",
      "YAY: sampling within prior...\n",
      "YAY: sampling within prior...\n",
      "YAY: sampling within prior...\n",
      "YAY: sampling within prior...\n",
      "YAY: sampling within prior...\n",
      "YAY: sampling within prior...\n",
      "YAY: sampling within prior...\n",
      "YAY: sampling within prior...\n",
      "YAY: sampling within prior...\n",
      "YAY: sampling within prior...\n",
      "YAY: sampling within prior...\n",
      "YAY: sampling within prior...\n",
      "YAY: sampling within prior...\n",
      "YAY: sampling within prior...\n",
      "YAY: sampling within prior...\n",
      "YAY: sampling within prior...\n",
      "YAY: sampling within prior...\n",
      "YAY: sampling within prior...\n"
     ]
    },
    {
     "name": "stderr",
     "output_type": "stream",
     "text": [
      "ERROR:root:Could not generate ENIGMA wave..\n"
     ]
    },
    {
     "name": "stdout",
     "output_type": "stream",
     "text": [
      "YAY: sampling within prior...\n",
      "YAY: sampling within prior...\n",
      "YAY: sampling within prior...\n",
      "YAY: sampling within prior...\n",
      "YAY: sampling within prior...\n",
      "YAY: sampling within prior...\n",
      "YAY: sampling within prior...\n",
      "YAY: sampling within prior...\n",
      "YAY: sampling within prior...\n"
     ]
    },
    {
     "name": "stderr",
     "output_type": "stream",
     "text": [
      "ERROR:root:Could not generate ENIGMA wave..\n",
      "ERROR:root:Could not generate ENIGMA wave..\n",
      "ERROR:root:Could not generate ENIGMA wave..\n"
     ]
    },
    {
     "name": "stdout",
     "output_type": "stream",
     "text": [
      "YAY: sampling within prior...\n",
      "YAY: sampling within prior...\n",
      "YAY: sampling within prior...\n",
      "YAY: sampling within prior...\n",
      "YAY: sampling within prior...\n",
      "YAY: sampling within prior...\n",
      "YAY: sampling within prior...\n",
      "YAY: sampling within prior...\n",
      "YAY: sampling within prior...\n",
      "YAY: sampling within prior...\n",
      "YAY: sampling within prior...\n"
     ]
    },
    {
     "name": "stderr",
     "output_type": "stream",
     "text": [
      "ERROR:root:Could not generate ENIGMA wave..\n",
      "ERROR:root:Could not generate ENIGMA wave..\n"
     ]
    },
    {
     "name": "stdout",
     "output_type": "stream",
     "text": [
      "YAY: sampling within prior...\n",
      "YAY: sampling within prior...\n",
      "YAY: sampling within prior...\n",
      "YAY: sampling within prior...\n",
      "YAY: sampling within prior...\n",
      "YAY: sampling within prior...\n",
      "YAY: sampling within prior...\n",
      "YAY: sampling within prior...\n",
      "YAY: sampling within prior...\n",
      "YAY: sampling within prior...\n"
     ]
    },
    {
     "name": "stderr",
     "output_type": "stream",
     "text": [
      "ERROR:root:Could not generate ENIGMA wave..\n",
      "ERROR:root:Could not generate ENIGMA wave..\n",
      "ERROR:root:Could not generate ENIGMA wave..\n"
     ]
    },
    {
     "name": "stdout",
     "output_type": "stream",
     "text": [
      "YAY: sampling within prior...\n",
      "YAY: sampling within prior...\n",
      "YAY: sampling within prior...\n",
      "YAY: sampling within prior...\n",
      "YAY: sampling within prior...\n",
      "YAY: sampling within prior...\n",
      "YAY: sampling within prior...\n",
      "YAY: sampling within prior...\n",
      "YAY: sampling within prior...\n",
      "YAY: sampling within prior...\n",
      "YAY: sampling within prior...\n",
      "YAY: sampling within prior...\n",
      "YAY: sampling within prior...\n",
      "YAY: sampling within prior...\n",
      "YAY: sampling within prior...\n",
      "YAY: sampling within prior...\n",
      "YAY: sampling within prior...\n",
      "YAY: sampling within prior...\n",
      "YAY: sampling within prior...\n"
     ]
    },
    {
     "name": "stderr",
     "output_type": "stream",
     "text": [
      "ERROR:root:Could not generate ENIGMA wave..\n",
      "ERROR:root:Could not generate ENIGMA wave..\n",
      "ERROR:root:Could not generate ENIGMA wave..\n"
     ]
    },
    {
     "name": "stdout",
     "output_type": "stream",
     "text": [
      "YAY: sampling within prior...\n",
      "YAY: sampling within prior...\n",
      "YAY: sampling within prior...\n",
      "YAY: sampling within prior...\n",
      "YAY: sampling within prior...\n",
      "YAY: sampling within prior...\n",
      "YAY: sampling within prior...\n",
      "YAY: sampling within prior...\n",
      "YAY: sampling within prior...\n",
      "YAY: sampling within prior...\n",
      "YAY: sampling within prior...\n"
     ]
    },
    {
     "name": "stderr",
     "output_type": "stream",
     "text": [
      "ERROR:root:Could not generate ENIGMA wave..\n",
      "ERROR:root:Could not generate ENIGMA wave..\n"
     ]
    },
    {
     "name": "stdout",
     "output_type": "stream",
     "text": [
      "YAY: sampling within prior...\n",
      "YAY: sampling within prior...\n",
      "YAY: sampling within prior...\n",
      "YAY: sampling within prior...\n",
      "YAY: sampling within prior...\n",
      "YAY: sampling within prior...\n",
      "YAY: sampling within prior...\n",
      "YAY: sampling within prior...\n",
      "YAY: sampling within prior...\n"
     ]
    },
    {
     "name": "stderr",
     "output_type": "stream",
     "text": [
      "ERROR:root:Could not generate ENIGMA wave..\n",
      "ERROR:root:Could not generate ENIGMA wave..\n",
      "ERROR:root:Could not generate ENIGMA wave..\n",
      "ERROR:root:Could not generate ENIGMA wave..\n"
     ]
    },
    {
     "name": "stdout",
     "output_type": "stream",
     "text": [
      "YAY: sampling within prior...\n",
      "YAY: sampling within prior...\n",
      "YAY: sampling within prior...\n",
      "YAY: sampling within prior...\n",
      "YAY: sampling within prior...\n",
      "YAY: sampling within prior...\n",
      "YAY: sampling within prior...\n",
      "YAY: sampling within prior...\n",
      "YAY: sampling within prior...\n",
      "YAY: sampling within prior...\n",
      "YAY: sampling within prior...\n"
     ]
    },
    {
     "name": "stderr",
     "output_type": "stream",
     "text": [
      "ERROR:root:Could not generate ENIGMA wave..\n",
      "ERROR:root:Could not generate ENIGMA wave..\n"
     ]
    },
    {
     "name": "stdout",
     "output_type": "stream",
     "text": [
      "YAY: sampling within prior...\n",
      "YAY: sampling within prior...\n",
      "YAY: sampling within prior...\n",
      "YAY: sampling within prior...\n",
      "YAY: sampling within prior...\n",
      "YAY: sampling within prior...\n",
      "YAY: sampling within prior...\n",
      "YAY: sampling within prior...\n",
      "YAY: sampling within prior...\n"
     ]
    },
    {
     "name": "stderr",
     "output_type": "stream",
     "text": [
      "ERROR:root:Could not generate ENIGMA wave..\n",
      "ERROR:root:Could not generate ENIGMA wave..\n"
     ]
    },
    {
     "name": "stdout",
     "output_type": "stream",
     "text": [
      "YAY: sampling within prior...\n",
      "YAY: sampling within prior...\n",
      "YAY: sampling within prior...\n",
      "YAY: sampling within prior...\n",
      "YAY: sampling within prior...\n",
      "YAY: sampling within prior...\n",
      "YAY: sampling within prior...\n",
      "YAY: sampling within prior...\n",
      "YAY: sampling within prior...\n",
      "YAY: sampling within prior...\n",
      "YAY: sampling within prior...\n",
      "YAY: sampling within prior...\n",
      "YAY: sampling within prior...\n",
      "YAY: sampling within prior...\n",
      "YAY: sampling within prior...\n",
      "YAY: sampling within prior...\n",
      "YAY: sampling within prior...\n",
      "YAY: sampling within prior...\n"
     ]
    },
    {
     "name": "stderr",
     "output_type": "stream",
     "text": [
      "ERROR:root:Could not generate ENIGMA wave..\n"
     ]
    },
    {
     "name": "stdout",
     "output_type": "stream",
     "text": [
      "YAY: sampling within prior...\n",
      "YAY: sampling within prior...\n",
      "YAY: sampling within prior...\n",
      "YAY: sampling within prior...\n",
      "YAY: sampling within prior...\n",
      "YAY: sampling within prior...\n",
      "YAY: sampling within prior...\n",
      "YAY: sampling within prior...\n",
      "YAY: sampling within prior...\n"
     ]
    },
    {
     "name": "stderr",
     "output_type": "stream",
     "text": [
      "ERROR:root:Could not generate ENIGMA wave..\n",
      "ERROR:root:Could not generate ENIGMA wave..\n"
     ]
    },
    {
     "name": "stdout",
     "output_type": "stream",
     "text": [
      "YAY: sampling within prior...\n",
      "YAY: sampling within prior...\n",
      "YAY: sampling within prior...\n",
      "YAY: sampling within prior...\n",
      "YAY: sampling within prior...\n",
      "YAY: sampling within prior...\n",
      "YAY: sampling within prior...\n",
      "YAY: sampling within prior...\n",
      "YAY: sampling within prior...\n",
      "YAY: sampling within prior...\n"
     ]
    },
    {
     "name": "stderr",
     "output_type": "stream",
     "text": [
      "ERROR:root:Could not generate ENIGMA wave..\n",
      "ERROR:root:Could not generate ENIGMA wave..\n"
     ]
    },
    {
     "name": "stdout",
     "output_type": "stream",
     "text": [
      "YAY: sampling within prior...\n",
      "YAY: sampling within prior...\n",
      "YAY: sampling within prior...\n",
      "YAY: sampling within prior...\n",
      "YAY: sampling within prior...\n",
      "YAY: sampling within prior...\n",
      "YAY: sampling within prior...\n",
      "YAY: sampling within prior...\n",
      "YAY: sampling within prior...\n",
      "YAY: sampling within prior...\n"
     ]
    },
    {
     "name": "stderr",
     "output_type": "stream",
     "text": [
      "ERROR:root:Could not generate ENIGMA wave..\n",
      "ERROR:root:Could not generate ENIGMA wave..\n"
     ]
    },
    {
     "name": "stdout",
     "output_type": "stream",
     "text": [
      "YAY: sampling within prior...\n",
      "YAY: sampling within prior...\n",
      "YAY: sampling within prior...\n",
      "YAY: sampling within prior...\n",
      "YAY: sampling within prior...\n",
      "YAY: sampling within prior...\n",
      "YAY: sampling within prior...\n",
      "YAY: sampling within prior...\n",
      "YAY: sampling within prior...\n",
      "YAY: sampling within prior...\n"
     ]
    },
    {
     "name": "stderr",
     "output_type": "stream",
     "text": [
      "ERROR:root:Could not generate ENIGMA wave..\n"
     ]
    },
    {
     "name": "stdout",
     "output_type": "stream",
     "text": [
      "YAY: sampling within prior...\n",
      "YAY: sampling within prior...\n",
      "YAY: sampling within prior...\n",
      "YAY: sampling within prior...\n",
      "YAY: sampling within prior...\n",
      "YAY: sampling within prior...\n",
      "YAY: sampling within prior...\n",
      "YAY: sampling within prior...\n",
      "YAY: sampling within prior...\n"
     ]
    },
    {
     "name": "stderr",
     "output_type": "stream",
     "text": [
      "ERROR:root:Could not generate ENIGMA wave..\n",
      "ERROR:root:Could not generate ENIGMA wave..\n",
      "ERROR:root:Could not generate ENIGMA wave..\n"
     ]
    },
    {
     "name": "stdout",
     "output_type": "stream",
     "text": [
      "YAY: sampling within prior...\n",
      "YAY: sampling within prior...\n",
      "YAY: sampling within prior...\n",
      "YAY: sampling within prior...\n",
      "YAY: sampling within prior...\n",
      "YAY: sampling within prior...\n",
      "YAY: sampling within prior...\n",
      "YAY: sampling within prior...\n",
      "YAY: sampling within prior...\n",
      "YAY: sampling within prior...\n",
      "YAY: sampling within prior...\n",
      "YAY: sampling within prior...\n",
      "YAY: sampling within prior...\n",
      "YAY: sampling within prior...\n",
      "YAY: sampling within prior...\n",
      "YAY: sampling within prior...\n",
      "YAY: sampling within prior...\n",
      "YAY: sampling within prior...\n"
     ]
    },
    {
     "name": "stderr",
     "output_type": "stream",
     "text": [
      "ERROR:root:Could not generate ENIGMA wave..\n",
      "ERROR:root:Could not generate ENIGMA wave..\n"
     ]
    },
    {
     "name": "stdout",
     "output_type": "stream",
     "text": [
      "YAY: sampling within prior...\n",
      "YAY: sampling within prior...\n",
      "YAY: sampling within prior...\n",
      "YAY: sampling within prior...\n",
      "YAY: sampling within prior...\n",
      "YAY: sampling within prior...\n",
      "YAY: sampling within prior...\n",
      "YAY: sampling within prior...\n",
      "YAY: sampling within prior...\n",
      "YAY: sampling within prior...\n"
     ]
    },
    {
     "name": "stderr",
     "output_type": "stream",
     "text": [
      "ERROR:root:Could not generate ENIGMA wave..\n",
      "ERROR:root:Could not generate ENIGMA wave..\n"
     ]
    },
    {
     "name": "stdout",
     "output_type": "stream",
     "text": [
      "YAY: sampling within prior...\n",
      "YAY: sampling within prior...\n",
      "YAY: sampling within prior...\n",
      "YAY: sampling within prior...\n",
      "YAY: sampling within prior...\n",
      "YAY: sampling within prior...\n",
      "YAY: sampling within prior...\n",
      "YAY: sampling within prior...\n",
      "YAY: sampling within prior...\n"
     ]
    },
    {
     "name": "stderr",
     "output_type": "stream",
     "text": [
      "ERROR:root:Could not generate ENIGMA wave..\n"
     ]
    },
    {
     "name": "stdout",
     "output_type": "stream",
     "text": [
      "YAY: sampling within prior...\n",
      "YAY: sampling within prior...\n",
      "YAY: sampling within prior...\n",
      "YAY: sampling within prior...\n",
      "YAY: sampling within prior...\n",
      "YAY: sampling within prior...\n",
      "YAY: sampling within prior...\n",
      "YAY: sampling within prior...\n",
      "YAY: sampling within prior...\n"
     ]
    },
    {
     "name": "stderr",
     "output_type": "stream",
     "text": [
      "ERROR:root:Could not generate ENIGMA wave..\n",
      "ERROR:root:Could not generate ENIGMA wave..\n"
     ]
    },
    {
     "name": "stdout",
     "output_type": "stream",
     "text": [
      "YAY: sampling within prior...\n",
      "YAY: sampling within prior...\n",
      "YAY: sampling within prior...\n",
      "YAY: sampling within prior...\n",
      "YAY: sampling within prior...\n",
      "YAY: sampling within prior...\n",
      "YAY: sampling within prior...\n",
      "YAY: sampling within prior...\n",
      "YAY: sampling within prior...\n",
      "YAY: sampling within prior...\n"
     ]
    },
    {
     "name": "stderr",
     "output_type": "stream",
     "text": [
      "ERROR:root:Could not generate ENIGMA wave..\n",
      "ERROR:root:Could not generate ENIGMA wave..\n"
     ]
    },
    {
     "name": "stdout",
     "output_type": "stream",
     "text": [
      "YAY: sampling within prior...\n",
      "YAY: sampling within prior...\n",
      "YAY: sampling within prior...\n",
      "YAY: sampling within prior...\n",
      "YAY: sampling within prior...\n",
      "YAY: sampling within prior...\n",
      "YAY: sampling within prior...\n",
      "YAY: sampling within prior...\n",
      "YAY: sampling within prior...\n",
      "YAY: sampling within prior...\n"
     ]
    },
    {
     "name": "stderr",
     "output_type": "stream",
     "text": [
      "ERROR:root:Could not generate ENIGMA wave..\n"
     ]
    },
    {
     "name": "stdout",
     "output_type": "stream",
     "text": [
      "YAY: sampling within prior...\n",
      "YAY: sampling within prior...\n",
      "YAY: sampling within prior...\n",
      "YAY: sampling within prior...\n",
      "YAY: sampling within prior...\n",
      "YAY: sampling within prior...\n",
      "YAY: sampling within prior...\n",
      "YAY: sampling within prior...\n",
      "YAY: sampling within prior...\n",
      "YAY: sampling within prior...\n",
      "YAY: sampling within prior...\n",
      "YAY: sampling within prior...\n",
      "YAY: sampling within prior...\n",
      "YAY: sampling within prior...\n",
      "YAY: sampling within prior...\n",
      "YAY: sampling within prior...\n",
      "YAY: sampling within prior...\n"
     ]
    },
    {
     "name": "stderr",
     "output_type": "stream",
     "text": [
      "ERROR:root:Could not generate ENIGMA wave..\n",
      "ERROR:root:Could not generate ENIGMA wave..\n"
     ]
    },
    {
     "name": "stdout",
     "output_type": "stream",
     "text": [
      "YAY: sampling within prior...\n",
      "YAY: sampling within prior...\n",
      "YAY: sampling within prior...\n",
      "YAY: sampling within prior...\n",
      "YAY: sampling within prior...\n",
      "YAY: sampling within prior...\n",
      "YAY: sampling within prior...\n",
      "YAY: sampling within prior...\n",
      "YAY: sampling within prior...\n",
      "YAY: sampling within prior...\n"
     ]
    },
    {
     "name": "stderr",
     "output_type": "stream",
     "text": [
      "ERROR:root:Could not generate ENIGMA wave..\n"
     ]
    },
    {
     "name": "stdout",
     "output_type": "stream",
     "text": [
      "YAY: sampling within prior...\n",
      "YAY: sampling within prior...\n",
      "YAY: sampling within prior...\n",
      "YAY: sampling within prior...\n",
      "YAY: sampling within prior...\n",
      "YAY: sampling within prior...\n",
      "YAY: sampling within prior...\n",
      "YAY: sampling within prior...\n",
      "YAY: sampling within prior...\n",
      "YAY: sampling within prior...\n",
      "YAY: sampling within prior...\n",
      "YAY: sampling within prior...\n",
      "YAY: sampling within prior...\n",
      "YAY: sampling within prior...\n",
      "YAY: sampling within prior...\n",
      "YAY: sampling within prior...\n",
      "YAY: sampling within prior...\n",
      "YAY: sampling within prior...\n"
     ]
    },
    {
     "name": "stderr",
     "output_type": "stream",
     "text": [
      "ERROR:root:Could not generate ENIGMA wave..\n"
     ]
    },
    {
     "name": "stdout",
     "output_type": "stream",
     "text": [
      "YAY: sampling within prior...\n",
      "YAY: sampling within prior...\n",
      "YAY: sampling within prior...\n",
      "YAY: sampling within prior...\n",
      "YAY: sampling within prior...\n",
      "YAY: sampling within prior...\n",
      "YAY: sampling within prior...\n",
      "YAY: sampling within prior...\n",
      "YAY: sampling within prior...\n",
      "YAY: sampling within prior...\n",
      "YAY: sampling within prior...\n",
      "YAY: sampling within prior...\n",
      "YAY: sampling within prior...\n",
      "YAY: sampling within prior...\n",
      "YAY: sampling within prior...\n",
      "YAY: sampling within prior...\n"
     ]
    },
    {
     "name": "stderr",
     "output_type": "stream",
     "text": [
      "ERROR:root:Could not generate ENIGMA wave..\n"
     ]
    },
    {
     "name": "stdout",
     "output_type": "stream",
     "text": [
      "YAY: sampling within prior...\n",
      "YAY: sampling within prior...\n",
      "YAY: sampling within prior...\n",
      "YAY: sampling within prior...\n",
      "YAY: sampling within prior...\n",
      "YAY: sampling within prior...\n",
      "YAY: sampling within prior...\n"
     ]
    },
    {
     "name": "stderr",
     "output_type": "stream",
     "text": [
      "ERROR:root:Could not generate ENIGMA wave..\n",
      "ERROR:root:Could not generate ENIGMA wave..\n"
     ]
    },
    {
     "name": "stdout",
     "output_type": "stream",
     "text": [
      "YAY: sampling within prior...\n",
      "YAY: sampling within prior...\n",
      "YAY: sampling within prior...\n",
      "YAY: sampling within prior...\n",
      "YAY: sampling within prior...\n",
      "YAY: sampling within prior...\n",
      "YAY: sampling within prior...\n",
      "YAY: sampling within prior...\n",
      "YAY: sampling within prior...\n"
     ]
    },
    {
     "name": "stderr",
     "output_type": "stream",
     "text": [
      "ERROR:root:Could not generate ENIGMA wave..\n",
      "ERROR:root:Could not generate ENIGMA wave..\n"
     ]
    },
    {
     "name": "stdout",
     "output_type": "stream",
     "text": [
      "YAY: sampling within prior...\n",
      "YAY: sampling within prior...\n",
      "YAY: sampling within prior...\n",
      "YAY: sampling within prior...\n",
      "YAY: sampling within prior...\n",
      "YAY: sampling within prior...\n",
      "YAY: sampling within prior...\n",
      "YAY: sampling within prior...\n",
      "YAY: sampling within prior...\n",
      "YAY: sampling within prior...\n"
     ]
    },
    {
     "name": "stderr",
     "output_type": "stream",
     "text": [
      "ERROR:root:Could not generate ENIGMA wave..\n",
      "ERROR:root:Could not generate ENIGMA wave..\n",
      "ERROR:root:Could not generate ENIGMA wave..\n"
     ]
    },
    {
     "name": "stdout",
     "output_type": "stream",
     "text": [
      "YAY: sampling within prior...\n",
      "YAY: sampling within prior...\n",
      "YAY: sampling within prior...\n",
      "YAY: sampling within prior...\n",
      "YAY: sampling within prior...\n",
      "YAY: sampling within prior...\n",
      "YAY: sampling within prior...\n",
      "YAY: sampling within prior...\n",
      "YAY: sampling within prior...\n",
      "YAY: sampling within prior...\n",
      "YAY: sampling within prior...\n",
      "YAY: sampling within prior...\n",
      "YAY: sampling within prior...\n",
      "YAY: sampling within prior...\n",
      "YAY: sampling within prior...\n",
      "YAY: sampling within prior...\n",
      "YAY: sampling within prior...\n",
      "YAY: sampling within prior...\n",
      "YAY: sampling within prior...\n",
      "YAY: sampling within prior...\n"
     ]
    },
    {
     "name": "stderr",
     "output_type": "stream",
     "text": [
      "ERROR:root:Could not generate ENIGMA wave..\n"
     ]
    },
    {
     "name": "stdout",
     "output_type": "stream",
     "text": [
      "YAY: sampling within prior...\n",
      "YAY: sampling within prior...\n",
      "YAY: sampling within prior...\n",
      "YAY: sampling within prior...\n",
      "YAY: sampling within prior...\n",
      "YAY: sampling within prior...\n",
      "YAY: sampling within prior...\n"
     ]
    },
    {
     "name": "stderr",
     "output_type": "stream",
     "text": [
      "ERROR:root:Could not generate ENIGMA wave..\n"
     ]
    },
    {
     "name": "stdout",
     "output_type": "stream",
     "text": [
      "YAY: sampling within prior...\n",
      "YAY: sampling within prior...\n",
      "YAY: sampling within prior...\n",
      "YAY: sampling within prior...\n",
      "YAY: sampling within prior...\n",
      "YAY: sampling within prior...\n",
      "YAY: sampling within prior...\n",
      "YAY: sampling within prior...\n"
     ]
    },
    {
     "name": "stderr",
     "output_type": "stream",
     "text": [
      "ERROR:root:Could not generate ENIGMA wave..\n",
      "ERROR:root:Could not generate ENIGMA wave..\n",
      "ERROR:root:Could not generate ENIGMA wave..\n"
     ]
    },
    {
     "name": "stdout",
     "output_type": "stream",
     "text": [
      "YAY: sampling within prior...\n",
      "YAY: sampling within prior...\n",
      "YAY: sampling within prior...\n",
      "YAY: sampling within prior...\n",
      "YAY: sampling within prior...\n",
      "YAY: sampling within prior...\n",
      "YAY: sampling within prior...\n",
      "YAY: sampling within prior...\n",
      "YAY: sampling within prior...\n",
      "YAY: sampling within prior...\n",
      "YAY: sampling within prior...\n"
     ]
    },
    {
     "name": "stderr",
     "output_type": "stream",
     "text": [
      "ERROR:root:Could not generate ENIGMA wave..\n",
      "ERROR:root:Could not generate ENIGMA wave..\n",
      "ERROR:root:Could not generate ENIGMA wave..\n"
     ]
    },
    {
     "name": "stdout",
     "output_type": "stream",
     "text": [
      "YAY: sampling within prior...\n",
      "YAY: sampling within prior...\n",
      "YAY: sampling within prior...\n",
      "YAY: sampling within prior...\n",
      "YAY: sampling within prior...\n",
      "YAY: sampling within prior...\n",
      "YAY: sampling within prior...\n",
      "YAY: sampling within prior...\n",
      "YAY: sampling within prior...\n",
      "YAY: sampling within prior...\n",
      "YAY: sampling within prior...\n"
     ]
    },
    {
     "name": "stderr",
     "output_type": "stream",
     "text": [
      "ERROR:root:Could not generate ENIGMA wave..\n"
     ]
    },
    {
     "name": "stdout",
     "output_type": "stream",
     "text": [
      "YAY: sampling within prior...\n",
      "YAY: sampling within prior...\n",
      "YAY: sampling within prior...\n",
      "YAY: sampling within prior...\n",
      "YAY: sampling within prior...\n",
      "YAY: sampling within prior...\n",
      "YAY: sampling within prior...\n",
      "YAY: sampling within prior...\n",
      "YAY: sampling within prior...\n",
      "YAY: sampling within prior...\n",
      "YAY: sampling within prior...\n",
      "YAY: sampling within prior...\n",
      "YAY: sampling within prior...\n",
      "YAY: sampling within prior...\n",
      "YAY: sampling within prior...\n",
      "YAY: sampling within prior...\n",
      "YAY: sampling within prior...\n"
     ]
    },
    {
     "name": "stderr",
     "output_type": "stream",
     "text": [
      "ERROR:root:Could not generate ENIGMA wave..\n",
      "ERROR:root:Could not generate ENIGMA wave..\n",
      "ERROR:root:Could not generate ENIGMA wave..\n"
     ]
    },
    {
     "name": "stdout",
     "output_type": "stream",
     "text": [
      "YAY: sampling within prior...\n",
      "YAY: sampling within prior...\n",
      "YAY: sampling within prior...\n",
      "YAY: sampling within prior...\n",
      "YAY: sampling within prior...\n",
      "YAY: sampling within prior...\n",
      "YAY: sampling within prior...\n",
      "YAY: sampling within prior...\n",
      "YAY: sampling within prior...\n",
      "YAY: sampling within prior...\n",
      "YAY: sampling within prior...\n"
     ]
    },
    {
     "name": "stderr",
     "output_type": "stream",
     "text": [
      "ERROR:root:Could not generate ENIGMA wave..\n",
      "ERROR:root:Could not generate ENIGMA wave..\n"
     ]
    },
    {
     "name": "stdout",
     "output_type": "stream",
     "text": [
      "YAY: sampling within prior...\n",
      "YAY: sampling within prior...\n",
      "YAY: sampling within prior...\n",
      "YAY: sampling within prior...\n",
      "YAY: sampling within prior...\n",
      "YAY: sampling within prior...\n",
      "YAY: sampling within prior...\n",
      "YAY: sampling within prior...\n",
      "YAY: sampling within prior...\n",
      "YAY: sampling within prior...\n",
      "YAY: sampling within prior...\n",
      "YAY: sampling within prior...\n",
      "YAY: sampling within prior...\n",
      "YAY: sampling within prior...\n",
      "YAY: sampling within prior...\n",
      "YAY: sampling within prior...\n",
      "YAY: sampling within prior...\n",
      "YAY: sampling within prior...\n"
     ]
    },
    {
     "name": "stderr",
     "output_type": "stream",
     "text": [
      "ERROR:root:Could not generate ENIGMA wave..\n"
     ]
    },
    {
     "name": "stdout",
     "output_type": "stream",
     "text": [
      "YAY: sampling within prior...\n",
      "YAY: sampling within prior...\n",
      "YAY: sampling within prior...\n",
      "YAY: sampling within prior...\n",
      "YAY: sampling within prior...\n",
      "YAY: sampling within prior...\n",
      "YAY: sampling within prior...\n",
      "YAY: sampling within prior...\n",
      "YAY: sampling within prior...\n"
     ]
    },
    {
     "name": "stderr",
     "output_type": "stream",
     "text": [
      "ERROR:root:Could not generate ENIGMA wave..\n"
     ]
    },
    {
     "name": "stdout",
     "output_type": "stream",
     "text": [
      "YAY: sampling within prior...\n",
      "YAY: sampling within prior...\n",
      "YAY: sampling within prior...\n",
      "YAY: sampling within prior...\n",
      "YAY: sampling within prior...\n",
      "YAY: sampling within prior...\n",
      "YAY: sampling within prior...\n",
      "YAY: sampling within prior...\n",
      "YAY: sampling within prior...\n"
     ]
    },
    {
     "name": "stderr",
     "output_type": "stream",
     "text": [
      "ERROR:root:Could not generate ENIGMA wave..\n"
     ]
    },
    {
     "name": "stdout",
     "output_type": "stream",
     "text": [
      "YAY: sampling within prior...\n",
      "YAY: sampling within prior...\n",
      "YAY: sampling within prior...\n",
      "YAY: sampling within prior...\n",
      "YAY: sampling within prior...\n",
      "YAY: sampling within prior...\n",
      "YAY: sampling within prior...\n",
      "YAY: sampling within prior...\n"
     ]
    },
    {
     "name": "stderr",
     "output_type": "stream",
     "text": [
      "ERROR:root:Could not generate ENIGMA wave..\n"
     ]
    },
    {
     "name": "stdout",
     "output_type": "stream",
     "text": [
      "YAY: sampling within prior...\n",
      "YAY: sampling within prior...\n",
      "YAY: sampling within prior...\n",
      "YAY: sampling within prior...\n",
      "YAY: sampling within prior...\n",
      "YAY: sampling within prior...\n",
      "YAY: sampling within prior...\n",
      "YAY: sampling within prior...\n",
      "YAY: sampling within prior...\n"
     ]
    },
    {
     "name": "stderr",
     "output_type": "stream",
     "text": [
      "ERROR:root:Could not generate ENIGMA wave..\n"
     ]
    },
    {
     "name": "stdout",
     "output_type": "stream",
     "text": [
      "YAY: sampling within prior...\n",
      "YAY: sampling within prior...\n",
      "YAY: sampling within prior...\n",
      "YAY: sampling within prior...\n",
      "YAY: sampling within prior...\n",
      "YAY: sampling within prior...\n",
      "YAY: sampling within prior...\n",
      "YAY: sampling within prior...\n",
      "YAY: sampling within prior...\n",
      "YAY: sampling within prior...\n",
      "YAY: sampling within prior...\n",
      "YAY: sampling within prior...\n",
      "YAY: sampling within prior...\n",
      "YAY: sampling within prior...\n",
      "YAY: sampling within prior...\n",
      "YAY: sampling within prior...\n"
     ]
    },
    {
     "name": "stderr",
     "output_type": "stream",
     "text": [
      "ERROR:root:Could not generate ENIGMA wave..\n",
      "ERROR:root:Could not generate ENIGMA wave..\n"
     ]
    },
    {
     "name": "stdout",
     "output_type": "stream",
     "text": [
      "YAY: sampling within prior...\n",
      "YAY: sampling within prior...\n",
      "YAY: sampling within prior...\n",
      "YAY: sampling within prior...\n",
      "YAY: sampling within prior...\n",
      "YAY: sampling within prior...\n",
      "YAY: sampling within prior...\n",
      "YAY: sampling within prior...\n",
      "YAY: sampling within prior...\n",
      "YAY: sampling within prior...\n",
      "YAY: sampling within prior...\n",
      "YAY: sampling within prior...\n",
      "YAY: sampling within prior...\n",
      "YAY: sampling within prior...\n",
      "YAY: sampling within prior...\n",
      "YAY: sampling within prior...\n",
      "YAY: sampling within prior...\n",
      "YAY: sampling within prior...\n",
      "YAY: sampling within prior...\n",
      "YAY: sampling within prior...\n",
      "YAY: sampling within prior...\n",
      "YAY: sampling within prior...\n",
      "YAY: sampling within prior...\n",
      "YAY: sampling within prior...\n"
     ]
    },
    {
     "name": "stderr",
     "output_type": "stream",
     "text": [
      "ERROR:root:Could not generate ENIGMA wave..\n"
     ]
    },
    {
     "name": "stdout",
     "output_type": "stream",
     "text": [
      "YAY: sampling within prior...\n",
      "YAY: sampling within prior...\n",
      "YAY: sampling within prior...\n",
      "YAY: sampling within prior...\n",
      "YAY: sampling within prior...\n",
      "YAY: sampling within prior...\n",
      "YAY: sampling within prior...\n",
      "YAY: sampling within prior...\n"
     ]
    },
    {
     "name": "stderr",
     "output_type": "stream",
     "text": [
      "ERROR:root:Could not generate ENIGMA wave..\n"
     ]
    },
    {
     "name": "stdout",
     "output_type": "stream",
     "text": [
      "YAY: sampling within prior...\n",
      "YAY: sampling within prior...\n",
      "YAY: sampling within prior...\n",
      "YAY: sampling within prior...\n",
      "YAY: sampling within prior...\n",
      "YAY: sampling within prior...\n",
      "YAY: sampling within prior...\n",
      "YAY: sampling within prior...\n"
     ]
    },
    {
     "name": "stderr",
     "output_type": "stream",
     "text": [
      "ERROR:root:Could not generate ENIGMA wave..\n"
     ]
    },
    {
     "name": "stdout",
     "output_type": "stream",
     "text": [
      "YAY: sampling within prior...\n",
      "YAY: sampling within prior...\n",
      "YAY: sampling within prior...\n",
      "YAY: sampling within prior...\n",
      "YAY: sampling within prior...\n",
      "YAY: sampling within prior...\n",
      "YAY: sampling within prior...\n",
      "YAY: sampling within prior...\n"
     ]
    },
    {
     "name": "stderr",
     "output_type": "stream",
     "text": [
      "ERROR:root:Could not generate ENIGMA wave..\n"
     ]
    },
    {
     "name": "stdout",
     "output_type": "stream",
     "text": [
      "YAY: sampling within prior...\n",
      "YAY: sampling within prior...\n",
      "YAY: sampling within prior...\n",
      "YAY: sampling within prior...\n",
      "YAY: sampling within prior...\n",
      "YAY: sampling within prior...\n",
      "YAY: sampling within prior...\n",
      "YAY: sampling within prior...\n",
      "YAY: sampling within prior...\n",
      "YAY: sampling within prior...\n",
      "YAY: sampling within prior...\n",
      "YAY: sampling within prior...\n",
      "YAY: sampling within prior...\n",
      "YAY: sampling within prior...\n",
      "YAY: sampling within prior...\n"
     ]
    },
    {
     "name": "stderr",
     "output_type": "stream",
     "text": [
      "ERROR:root:Could not generate ENIGMA wave..\n",
      "ERROR:root:Could not generate ENIGMA wave..\n",
      "ERROR:root:Could not generate ENIGMA wave..\n"
     ]
    },
    {
     "name": "stdout",
     "output_type": "stream",
     "text": [
      "YAY: sampling within prior...\n",
      "YAY: sampling within prior...\n",
      "YAY: sampling within prior...\n",
      "YAY: sampling within prior...\n",
      "YAY: sampling within prior...\n",
      "YAY: sampling within prior...\n",
      "YAY: sampling within prior...\n",
      "YAY: sampling within prior...\n",
      "YAY: sampling within prior...\n",
      "YAY: sampling within prior...\n"
     ]
    },
    {
     "name": "stderr",
     "output_type": "stream",
     "text": [
      "ERROR:root:Could not generate ENIGMA wave..\n"
     ]
    },
    {
     "name": "stdout",
     "output_type": "stream",
     "text": [
      "YAY: sampling within prior...\n",
      "YAY: sampling within prior...\n",
      "YAY: sampling within prior...\n",
      "YAY: sampling within prior...\n",
      "YAY: sampling within prior...\n",
      "YAY: sampling within prior...\n",
      "YAY: sampling within prior...\n",
      "YAY: sampling within prior...\n",
      "YAY: sampling within prior...\n",
      "YAY: sampling within prior...\n",
      "YAY: sampling within prior...\n",
      "YAY: sampling within prior...\n",
      "YAY: sampling within prior...\n",
      "YAY: sampling within prior...\n",
      "YAY: sampling within prior...\n",
      "YAY: sampling within prior...\n",
      "YAY: sampling within prior...\n"
     ]
    },
    {
     "name": "stderr",
     "output_type": "stream",
     "text": [
      "ERROR:root:Could not generate ENIGMA wave..\n"
     ]
    },
    {
     "name": "stdout",
     "output_type": "stream",
     "text": [
      "YAY: sampling within prior...\n",
      "YAY: sampling within prior...\n",
      "YAY: sampling within prior...\n",
      "YAY: sampling within prior...\n",
      "YAY: sampling within prior...\n",
      "YAY: sampling within prior...\n",
      "YAY: sampling within prior...\n",
      "YAY: sampling within prior...\n",
      "YAY: sampling within prior...\n",
      "YAY: sampling within prior...\n",
      "YAY: sampling within prior...\n",
      "YAY: sampling within prior...\n",
      "YAY: sampling within prior...\n",
      "YAY: sampling within prior...\n",
      "YAY: sampling within prior...\n",
      "YAY: sampling within prior...\n",
      "YAY: sampling within prior...\n"
     ]
    },
    {
     "name": "stderr",
     "output_type": "stream",
     "text": [
      "ERROR:root:Could not generate ENIGMA wave..\n"
     ]
    },
    {
     "name": "stdout",
     "output_type": "stream",
     "text": [
      "YAY: sampling within prior...\n",
      "YAY: sampling within prior...\n",
      "YAY: sampling within prior...\n",
      "YAY: sampling within prior...\n",
      "YAY: sampling within prior...\n",
      "YAY: sampling within prior...\n",
      "YAY: sampling within prior...\n"
     ]
    }
   ],
   "source": [
    "state2 = s.run_mcmc(state, 100)"
   ]
  },
  {
   "cell_type": "code",
   "execution_count": 113,
   "metadata": {},
   "outputs": [],
   "source": [
    "pno_samples          = s.chain[:,:,1].T\n",
    "omega_attach_samples = s.chain[:,:,0].T\n",
    "match_samples        = s.get_log_prob()\n",
    "\n",
    "assert(np.shape(pno_samples) == np.shape(omega_attach_samples))\n",
    "assert(np.shape(pno_samples) == np.shape(match_samples))\n",
    "\n",
    "pno_samples          = pno_samples.flatten()\n",
    "omega_attach_samples = omega_attach_samples.flatten()\n",
    "match_samples        = match_samples.flatten()\n",
    "\n",
    "notfailed = match_samples.flatten() != 0"
   ]
  },
  {
   "cell_type": "code",
   "execution_count": 98,
   "metadata": {
    "Collapsed": "false"
   },
   "outputs": [
    {
     "data": {
      "image/png": "[encoded data removed]",
      "text/plain": [
       "<Figure size 432x288 with 1 Axes>"
      ]
     },
     "metadata": {
      "needs_background": "light"
     },
     "output_type": "display_data"
    }
   ],
   "source": [
    "samples = s.get_chain(flat=True)\n",
    "plt.axvline(0)\n",
    "plt.hist(samples[:, 0], 100, color=\"k\", histtype=\"step\")\n",
    "plt.xlabel(r\"$\\theta_1$\")\n",
    "plt.ylabel(r\"$p(\\theta_1)$\")\n",
    "plt.gca().set_yticks([]);"
   ]
  },
  {
   "cell_type": "code",
   "execution_count": 100,
   "metadata": {},
   "outputs": [
    {
     "data": {
      "image/png": "[encoded data removed]",
      "text/plain": [
       "<Figure size 432x288 with 1 Axes>"
      ]
     },
     "metadata": {
      "needs_background": "light"
     },
     "output_type": "display_data"
    }
   ],
   "source": [
    "samples = s.get_chain(flat=True)\n",
    "plt.axvline(0)\n",
    "plt.hist(samples[:, 1], 100, color=\"k\", histtype=\"step\")\n",
    "plt.xlabel(r\"$\\theta_2$\")\n",
    "plt.ylabel(r\"$p(\\theta_2)$\")\n",
    "plt.gca().set_yticks([]);"
   ]
  },
  {
   "cell_type": "code",
   "execution_count": 115,
   "metadata": {
    "Collapsed": "false"
   },
   "outputs": [
    {
     "data": {
      "image/png": "[encoded data removed]",
      "text/plain": [
       "<Figure size 432x288 with 1 Axes>"
      ]
     },
     "metadata": {
      "needs_background": "light"
     },
     "output_type": "display_data"
    }
   ],
   "source": [
    "_=plt.hist(match_samples[notfailed], bins=30)"
   ]
  },
  {
   "cell_type": "code",
   "execution_count": 116,
   "metadata": {
    "Collapsed": "false"
   },
   "outputs": [
    {
     "data": {
      "text/plain": [
       "<matplotlib.colorbar.Colorbar at 0x7fa9628c8a50>"
      ]
     },
     "execution_count": 116,
     "metadata": {},
     "output_type": "execute_result"
    },
    {
     "data": {
      "image/png": "[encoded data removed]",
      "text/plain": [
       "<Figure size 432x288 with 2 Axes>"
      ]
     },
     "metadata": {
      "needs_background": "light"
     },
     "output_type": "display_data"
    }
   ],
   "source": [
    "plt.scatter(pno_samples[notfailed], omega_attach_samples[notfailed],\n",
    "            c = match_samples[notfailed],\n",
    "            s = 10,\n",
    "            vmin = 0.95,\n",
    "            vmax = 1.0)\n",
    "plt.colorbar()"
   ]
  },
  {
   "cell_type": "markdown",
   "metadata": {
    "Collapsed": "true"
   },
   "source": [
    "### Check diagnostics"
   ]
  },
  {
   "cell_type": "code",
   "execution_count": 102,
   "metadata": {
    "Collapsed": "false"
   },
   "outputs": [
    {
     "name": "stdout",
     "output_type": "stream",
     "text": [
      "Mean acceptance fraction: 0.604\n"
     ]
    }
   ],
   "source": [
    "print(\"Mean acceptance fraction: {0:.3f}\".format(np.mean(s.acceptance_fraction)))"
   ]
  },
  {
   "cell_type": "code",
   "execution_count": 103,
   "metadata": {
    "Collapsed": "false",
    "scrolled": true
   },
   "outputs": [
    {
     "ename": "AutocorrError",
     "evalue": "The chain is shorter than 50 times the integrated autocorrelation time for 2 parameter(s). Use this estimate with caution and run a longer chain!\nN/50 = 2;\ntau: [8.79738672 8.46783494]",
     "output_type": "error",
     "traceback": [
      "\u001b[0;31m---------------------------------------------------------------------------\u001b[0m",
      "\u001b[0;31mAutocorrError\u001b[0m                             Traceback (most recent call last)",
      "\u001b[0;32m<ipython-input-103-1aa635e0d222>\u001b[0m in \u001b[0;36m<module>\u001b[0;34m()\u001b[0m\n\u001b[1;32m      1\u001b[0m print(\n\u001b[1;32m      2\u001b[0m     \"Mean autocorrelation time: {0:.3f} steps\".format(\n\u001b[0;32m----> 3\u001b[0;31m         \u001b[0mnp\u001b[0m\u001b[0;34m.\u001b[0m\u001b[0mmean\u001b[0m\u001b[0;34m(\u001b[0m\u001b[0ms\u001b[0m\u001b[0;34m.\u001b[0m\u001b[0mget_autocorr_time\u001b[0m\u001b[0;34m(\u001b[0m\u001b[0;34m)\u001b[0m\u001b[0;34m)\u001b[0m\u001b[0;34m\u001b[0m\u001b[0m\n\u001b[0m\u001b[1;32m      4\u001b[0m     )\n\u001b[1;32m      5\u001b[0m )\n",
      "\u001b[0;32m/home/prayush/local/venv/pycbc_inf/local/lib/python2.7/site-packages/emcee/ensemble.pyc\u001b[0m in \u001b[0;36mget_autocorr_time\u001b[0;34m(self, **kwargs)\u001b[0m\n\u001b[1;32m    524\u001b[0m \u001b[0;34m\u001b[0m\u001b[0m\n\u001b[1;32m    525\u001b[0m     \u001b[0;32mdef\u001b[0m \u001b[0mget_autocorr_time\u001b[0m\u001b[0;34m(\u001b[0m\u001b[0mself\u001b[0m\u001b[0;34m,\u001b[0m \u001b[0;34m**\u001b[0m\u001b[0mkwargs\u001b[0m\u001b[0;34m)\u001b[0m\u001b[0;34m:\u001b[0m\u001b[0;34m\u001b[0m\u001b[0m\n\u001b[0;32m--> 526\u001b[0;31m         \u001b[0;32mreturn\u001b[0m \u001b[0mself\u001b[0m\u001b[0;34m.\u001b[0m\u001b[0mbackend\u001b[0m\u001b[0;34m.\u001b[0m\u001b[0mget_autocorr_time\u001b[0m\u001b[0;34m(\u001b[0m\u001b[0;34m**\u001b[0m\u001b[0mkwargs\u001b[0m\u001b[0;34m)\u001b[0m\u001b[0;34m\u001b[0m\u001b[0m\n\u001b[0m\u001b[1;32m    527\u001b[0m \u001b[0;34m\u001b[0m\u001b[0m\n\u001b[1;32m    528\u001b[0m     \u001b[0mget_autocorr_time\u001b[0m\u001b[0;34m.\u001b[0m\u001b[0m__doc__\u001b[0m \u001b[0;34m=\u001b[0m \u001b[0mBackend\u001b[0m\u001b[0;34m.\u001b[0m\u001b[0mget_autocorr_time\u001b[0m\u001b[0;34m.\u001b[0m\u001b[0m__doc__\u001b[0m\u001b[0;34m\u001b[0m\u001b[0m\n",
      "\u001b[0;32m/home/prayush/local/venv/pycbc_inf/local/lib/python2.7/site-packages/emcee/backends/backend.pyc\u001b[0m in \u001b[0;36mget_autocorr_time\u001b[0;34m(self, discard, thin, **kwargs)\u001b[0m\n\u001b[1;32m    148\u001b[0m         \"\"\"\n\u001b[1;32m    149\u001b[0m         \u001b[0mx\u001b[0m \u001b[0;34m=\u001b[0m \u001b[0mself\u001b[0m\u001b[0;34m.\u001b[0m\u001b[0mget_chain\u001b[0m\u001b[0;34m(\u001b[0m\u001b[0mdiscard\u001b[0m\u001b[0;34m=\u001b[0m\u001b[0mdiscard\u001b[0m\u001b[0;34m,\u001b[0m \u001b[0mthin\u001b[0m\u001b[0;34m=\u001b[0m\u001b[0mthin\u001b[0m\u001b[0;34m)\u001b[0m\u001b[0;34m\u001b[0m\u001b[0m\n\u001b[0;32m--> 150\u001b[0;31m         \u001b[0;32mreturn\u001b[0m \u001b[0mthin\u001b[0m \u001b[0;34m*\u001b[0m \u001b[0mautocorr\u001b[0m\u001b[0;34m.\u001b[0m\u001b[0mintegrated_time\u001b[0m\u001b[0;34m(\u001b[0m\u001b[0mx\u001b[0m\u001b[0;34m,\u001b[0m \u001b[0;34m**\u001b[0m\u001b[0mkwargs\u001b[0m\u001b[0;34m)\u001b[0m\u001b[0;34m\u001b[0m\u001b[0m\n\u001b[0m\u001b[1;32m    151\u001b[0m \u001b[0;34m\u001b[0m\u001b[0m\n\u001b[1;32m    152\u001b[0m     \u001b[0;34m@\u001b[0m\u001b[0mproperty\u001b[0m\u001b[0;34m\u001b[0m\u001b[0m\n",
      "\u001b[0;32m/home/prayush/local/venv/pycbc_inf/local/lib/python2.7/site-packages/emcee/autocorr.pyc\u001b[0m in \u001b[0;36mintegrated_time\u001b[0;34m(x, c, tol, quiet)\u001b[0m\n\u001b[1;32m    108\u001b[0m         \u001b[0mmsg\u001b[0m \u001b[0;34m+=\u001b[0m \u001b[0;34m\"N/{0} = {1:.0f};\\ntau: {2}\"\u001b[0m\u001b[0;34m.\u001b[0m\u001b[0mformat\u001b[0m\u001b[0;34m(\u001b[0m\u001b[0mtol\u001b[0m\u001b[0;34m,\u001b[0m \u001b[0mn_t\u001b[0m \u001b[0;34m/\u001b[0m \u001b[0mtol\u001b[0m\u001b[0;34m,\u001b[0m \u001b[0mtau_est\u001b[0m\u001b[0;34m)\u001b[0m\u001b[0;34m\u001b[0m\u001b[0m\n\u001b[1;32m    109\u001b[0m         \u001b[0;32mif\u001b[0m \u001b[0;32mnot\u001b[0m \u001b[0mquiet\u001b[0m\u001b[0;34m:\u001b[0m\u001b[0;34m\u001b[0m\u001b[0m\n\u001b[0;32m--> 110\u001b[0;31m             \u001b[0;32mraise\u001b[0m \u001b[0mAutocorrError\u001b[0m\u001b[0;34m(\u001b[0m\u001b[0mtau_est\u001b[0m\u001b[0;34m,\u001b[0m \u001b[0mmsg\u001b[0m\u001b[0;34m)\u001b[0m\u001b[0;34m\u001b[0m\u001b[0m\n\u001b[0m\u001b[1;32m    111\u001b[0m         \u001b[0mlogging\u001b[0m\u001b[0;34m.\u001b[0m\u001b[0mwarning\u001b[0m\u001b[0;34m(\u001b[0m\u001b[0mmsg\u001b[0m\u001b[0;34m)\u001b[0m\u001b[0;34m\u001b[0m\u001b[0m\n\u001b[1;32m    112\u001b[0m \u001b[0;34m\u001b[0m\u001b[0m\n",
      "\u001b[0;31mAutocorrError\u001b[0m: The chain is shorter than 50 times the integrated autocorrelation time for 2 parameter(s). Use this estimate with caution and run a longer chain!\nN/50 = 2;\ntau: [8.79738672 8.46783494]"
     ]
    }
   ],
   "source": [
    "print(\n",
    "    \"Mean autocorrelation time: {0:.3f} steps\".format(\n",
    "        np.mean(s.get_autocorr_time())\n",
    "    )\n",
    ")"
   ]
  },
  {
   "cell_type": "code",
   "execution_count": null,
   "metadata": {},
   "outputs": [],
   "source": []
  }
 ],
 "metadata": {
  "kernelspec": {
   "display_name": "pycbc_inf",
   "language": "python",
   "name": "pycbc_inf"
  },
  "language_info": {
   "codemirror_mode": {
    "name": "ipython",
    "version": 2
   },
   "file_extension": ".py",
   "mimetype": "text/x-python",
   "name": "python",
   "nbconvert_exporter": "python",
   "pygments_lexer": "ipython2",
   "version": "2.7.15+"
  },
  "toc": {
   "base_numbering": 1,
   "nav_menu": {},
   "number_sections": true,
   "sideBar": true,
   "skip_h1_title": false,
   "title_cell": "Table of Contents",
   "title_sidebar": "Contents",
   "toc_cell": false,
   "toc_position": {},
   "toc_section_display": true,
   "toc_window_display": true
  }
 },
 "nbformat": 4,
 "nbformat_minor": 4
}
