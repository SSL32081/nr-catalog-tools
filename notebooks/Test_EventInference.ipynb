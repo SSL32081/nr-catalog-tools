{
 "cells": [
  {
   "cell_type": "markdown",
   "metadata": {},
   "source": [
    "# Designing `pycbc_inference` workflow generator for batch of events"
   ]
  },
  {
   "cell_type": "markdown",
   "metadata": {},
   "source": [
    ">>> **ALGORITHM**\n",
    "\n",
    ">> **Requirements**:\n",
    " 1. Take as input **multiple** `sampler.ini`:\n",
    "     - Each can have different samplers configured\n",
    " 1. Take as input **multiple** `inference.ini` with options for the `pycbc_inference` jobs.\n",
    "     - Each `inference.ini` can use different sampling priors and `model`s,\n",
    " 1. Take as input **one** `config.ini` with configuration options for the workflow\n",
    "     - Specifies which events to run with as a list\n",
    "     - Specifies what sample rate to use for each event\n",
    "     - Specifies how much data (=32 or 4096 secs) should be downloaded for each event\n",
    "     - \n",
    "     - Specifies which `sampler???.ini` to use\n",
    "     - Specifies which `inference???.ini` to use\n",
    "     - Each subset of events will have a full set of operations,\n",
    "     - A new directory structure is created as:\n",
    "         - `${ROOT}/eventNNNNNN/` ...\n",
    "\n",
    "\n",
    ">>> **Outline**:\n",
    " 1. Read in `config.ini` and parse it. \n",
    " 1. Say the user asks for `N` events, `S` different samplers, and `M` different inferencing combinations. We have a total of `N x S x M` independent runs.\n",
    " 1. **Create** subdirs `event???` for each of the `N` physically distinct events.\n",
    " 1. **Create** `S` subdirs of each of those for each sampler type\n",
    " 1. **Create** `M` subdirs of each of those for each model / prior set\n",
    " 1. Run directory for each event is `event???/sampler???/model???`\n",
    " 1. **Copy** over the relevant `sampler.ini` and `inference???.ini` as `inference.ini`\n",
    " 1. **Write** the relevant `data.ini` for each event in `event???/sampler???/model???`\n",
    " 1. **Write** run script for running `pycbc_inference` on it. Call it `run_inference.sh`.\n",
    " 1. Create `1` `BaseJob`s PER event + inference combination. First is the `inference` job, second is the `post_processing` job. Make the former a parent job.\n",
    " 1. Add both jobs as nodes to the `DAG`\n",
    " 1. **SUBMIT** the `DAG` to chosen scheduler: condor or slurm;\n",
    "      - All jobs at once? : of course!\n",
    "      - Do we check if an analysis is running? : yes, for the `DAG` only though!\n",
    "      - Do we resume? Or, do we kill and restart all forcefully? (BAD IDEA)\n",
    "          - Is `pycbc_inference` able to resume **correctly** yet?\n",
    "\n",
    "\n",
    "**NOTE**: Steps`9-11` assume `Condor`! Upgrade to use `Slurm` later.\n",
    "\n",
    ">> **Implementation**:\n",
    " 1. `DAG` managed through `glue`,\n",
    " 2. `CondorJob` managed through `BaseJob`,\n",
    " 3. Way to define variables in equivalent representation,\n",
    " \n",
    "\n",
    ">>> **Technical**\n",
    " 1. Directory structure for all jobs ... ?"
   ]
  },
  {
   "cell_type": "markdown",
   "metadata": {},
   "source": [
    "## Imports and setup"
   ]
  },
  {
   "cell_type": "code",
   "execution_count": 1,
   "metadata": {},
   "outputs": [
    {
     "name": "stdout",
     "output_type": "stream",
     "text": [
      "Populating the interactive namespace from numpy and matplotlib\n"
     ]
    },
    {
     "name": "stderr",
     "output_type": "stream",
     "text": [
      "/home/prayush/local/venv/pycbc_inf/local/lib/python2.7/site-packages/IPython/core/magics/pylab.py:161: UserWarning: pylab import has clobbered these variables: ['rc']\n",
      "`%matplotlib` prevents importing * from pylab and numpy\n",
      "  \"\\n`%matplotlib` prevents importing * from pylab and numpy\"\n"
     ]
    }
   ],
   "source": [
    "import os\n",
    "import sys\n",
    "import shutil\n",
    "import glob\n",
    "import h5py\n",
    "import subprocess\n",
    "\n",
    "import matplotlib.pyplot as plt\n",
    "from matplotlib import rc\n",
    "rc('text', usetex = True)\n",
    "\n",
    "plt.rcParams.update(  # try to match font sizes of document\n",
    "  {'axes.labelsize': 20,\n",
    "   'axes.titlesize': 20,\n",
    "   'legend.fontsize': 20,\n",
    "   'xtick.labelsize': 20,\n",
    "   'ytick.labelsize': 20,\n",
    "   'text.usetex': True,\n",
    "   'font.family': 'serif',\n",
    "   'font.serif': ['palatino'],\n",
    "   'savefig.dpi': 300\n",
    "   })\n",
    "\n",
    "%pylab inline\n",
    "\n",
    "from glue.ligolw import ligolw\n",
    "from glue.ligolw import table\n",
    "from glue.ligolw import lsctables\n",
    "from glue.ligolw import ilwd\n",
    "from glue.ligolw import utils as ligolw_utils\n",
    "\n",
    "import pycbc.strain\n",
    "import pycbc.psd\n",
    "from pycbc.pnutils import mass1_mass2_to_mchirp_eta\n",
    "from pycbc.waveform import td_approximants, fd_approximants\n",
    "from pycbc.waveform import get_two_pol_waveform_filter, get_td_waveform\n",
    "from pycbc import DYN_RANGE_FAC\n",
    "from pycbc.types import FrequencySeries, zeros\n",
    "from pycbc.filter import match, overlap, sigma, make_frequency_series\n",
    "from pycbc.scheme import CPUScheme, CUDAScheme\n",
    "from pycbc import pnutils\n",
    "from pycbc import frame\n",
    "\n",
    "import gwnr\n",
    "from gwnr.Utils.SupportFunctions import make_padded_frequency_series\n",
    "from gwnr.DataAnalysis import get_unique_hex_tag\n",
    "import gwnr.DataAnalysis as DA\n",
    "\n",
    "sys.path.append('/home/prayush.kumar/src/gwnrtools/bin/')\n",
    "sys.path.append('/home/prayush/src/gwnrtools/bin/')\n",
    "#sys.path.append('/home/prayush.kumar/local/venv/pycbc_master_enigma/src/gwnrtools/bin/')"
   ]
  },
  {
   "cell_type": "code",
   "execution_count": 2,
   "metadata": {},
   "outputs": [],
   "source": [
    "run_dir = '/home/prayush/research/test_pycbc_event2'\n",
    "try: os.makedirs(run_dir)\n",
    "except: pass\n",
    "os.chdir(run_dir)"
   ]
  },
  {
   "cell_type": "code",
   "execution_count": 3,
   "metadata": {},
   "outputs": [
    {
     "name": "stdout",
     "output_type": "stream",
     "text": [
      "config.ini  eve.ini\t   inference.ini  inj.ini  sampler2.ini\r\n",
      "data.ini    eventGW150914  injection.ini  log\t   sampler.ini\r\n"
     ]
    }
   ],
   "source": [
    "!ls "
   ]
  },
  {
   "cell_type": "markdown",
   "metadata": {
    "heading_collapsed": true
   },
   "source": [
    "## Fetching GWOSC data"
   ]
  },
  {
   "cell_type": "code",
   "execution_count": 4,
   "metadata": {
    "hidden": true
   },
   "outputs": [
    {
     "data": {
      "text/plain": [
       "[u'GW151012',\n",
       " u'GW170608',\n",
       " u'GW170729',\n",
       " u'GW150914',\n",
       " u'GW151226',\n",
       " u'GW170814',\n",
       " u'GW170817',\n",
       " u'GW170104',\n",
       " u'GW170809',\n",
       " u'GW170818',\n",
       " u'GW170823']"
      ]
     },
     "execution_count": 4,
     "metadata": {},
     "output_type": "execute_result"
    }
   ],
   "source": [
    "gwnr.DataAnalysis.catalog_events"
   ]
  },
  {
   "cell_type": "code",
   "execution_count": 5,
   "metadata": {
    "hidden": true
   },
   "outputs": [],
   "source": [
    "m = gwnr.DataAnalysis.Merger('GW150914')"
   ]
  },
  {
   "cell_type": "code",
   "execution_count": null,
   "metadata": {
    "hidden": true
   },
   "outputs": [],
   "source": [
    "!pwd\n",
    "!ls -lh . *"
   ]
  },
  {
   "cell_type": "code",
   "execution_count": 8,
   "metadata": {
    "hidden": true,
    "scrolled": true
   },
   "outputs": [
    {
     "name": "stdout",
     "output_type": "stream",
     "text": [
      "Downloading https://www.gw-openscience.org/catalog/GWTC-1-confident/data/GW150914/H-H1_GWOSC_4KHZ_R1-1126259447-32.gwf [Done]\n"
     ]
    }
   ],
   "source": [
    "filename = m.fetch_data('H1', 32, 4096, 'data')"
   ]
  },
  {
   "cell_type": "code",
   "execution_count": 9,
   "metadata": {
    "hidden": true
   },
   "outputs": [
    {
     "name": "stdout",
     "output_type": "stream",
     "text": [
      "/home/prayush/research/test_pycbc_event2\n",
      ".:\n",
      "total 4.0K\n",
      "drwxr-xr-x 2 prayush prayush 4.0K Mar  2 16:17 data\n",
      "\n",
      "data:\n",
      "total 126M\n",
      "-rw------- 1 prayush prayush  125M Mar  2 16:00 H-H1_GWOSC_4KHZ_R1-1126257415-4096.gwf\n",
      "-rw------- 1 prayush prayush 1006K Mar  2 16:17 H-H1_GWOSC_4KHZ_R1-1126259447-32.gwf\n"
     ]
    }
   ],
   "source": [
    "!pwd\n",
    "!ls -lh . *"
   ]
  },
  {
   "cell_type": "code",
   "execution_count": 10,
   "metadata": {
    "hidden": true
   },
   "outputs": [
    {
     "data": {
      "text/plain": [
       "'H1:GWOSC-4KHZ_R1_STRAIN'"
      ]
     },
     "execution_count": 10,
     "metadata": {},
     "output_type": "execute_result"
    }
   ],
   "source": [
    "m.channel_name('H1', 4096)"
   ]
  },
  {
   "cell_type": "code",
   "execution_count": 11,
   "metadata": {
    "hidden": true
   },
   "outputs": [
    {
     "name": "stdout",
     "output_type": "stream",
     "text": [
      "data/H-H1_GWOSC_4KHZ_R1-1126259447-32.gwf\n"
     ]
    }
   ],
   "source": [
    "print(filename)"
   ]
  },
  {
   "cell_type": "code",
   "execution_count": 12,
   "metadata": {
    "hidden": true
   },
   "outputs": [],
   "source": [
    "fr = frame.read_frame(filename, m.channel_name('H1', 4096))"
   ]
  },
  {
   "cell_type": "code",
   "execution_count": 13,
   "metadata": {
    "hidden": true
   },
   "outputs": [
    {
     "data": {
      "text/plain": [
       "[<matplotlib.lines.Line2D at 0x7f3c72fa8dd0>]"
      ]
     },
     "execution_count": 13,
     "metadata": {},
     "output_type": "execute_result"
    },
    {
     "name": "stderr",
     "output_type": "stream",
     "text": [
      "/home/prayush/local/venv/pycbc_inf/local/lib/python2.7/site-packages/matplotlib/font_manager.py:1331: UserWarning: findfont: Font family [u'serif'] not found. Falling back to DejaVu Sans\n",
      "  (prop.get_family(), self.defaultFamily[fontext]))\n"
     ]
    },
    {
     "data": {
      "image/png": "[encoded data removed]",
      "text/plain": [
       "<Figure size 432x288 with 1 Axes>"
      ]
     },
     "metadata": {
      "needs_background": "light"
     },
     "output_type": "display_data"
    }
   ],
   "source": [
    "plot(fr.sample_times, fr)"
   ]
  },
  {
   "cell_type": "code",
   "execution_count": null,
   "metadata": {
    "hidden": true
   },
   "outputs": [],
   "source": []
  },
  {
   "cell_type": "code",
   "execution_count": null,
   "metadata": {
    "hidden": true
   },
   "outputs": [],
   "source": []
  },
  {
   "cell_type": "code",
   "execution_count": null,
   "metadata": {
    "hidden": true
   },
   "outputs": [],
   "source": []
  },
  {
   "cell_type": "markdown",
   "metadata": {
    "heading_collapsed": true
   },
   "source": [
    "## Code"
   ]
  },
  {
   "cell_type": "code",
   "execution_count": null,
   "metadata": {
    "hidden": true
   },
   "outputs": [],
   "source": [
    "import gwnr"
   ]
  },
  {
   "cell_type": "code",
   "execution_count": null,
   "metadata": {
    "hidden": true
   },
   "outputs": [],
   "source": [
    "reload(gwnr)"
   ]
  },
  {
   "cell_type": "code",
   "execution_count": null,
   "metadata": {
    "hidden": true
   },
   "outputs": [],
   "source": [
    "gwnr.Stats.InferenceConfigs?"
   ]
  },
  {
   "cell_type": "code",
   "execution_count": null,
   "metadata": {
    "hidden": true
   },
   "outputs": [],
   "source": [
    "x = gwnr.Stats.InferenceConfigs('.')"
   ]
  },
  {
   "cell_type": "code",
   "execution_count": null,
   "metadata": {
    "hidden": true
   },
   "outputs": [],
   "source": [
    "x.available_configs()"
   ]
  },
  {
   "cell_type": "code",
   "execution_count": null,
   "metadata": {
    "hidden": true
   },
   "outputs": [],
   "source": [
    "sy = x.get_config_writer('sampler')"
   ]
  },
  {
   "cell_type": "code",
   "execution_count": null,
   "metadata": {
    "hidden": true
   },
   "outputs": [],
   "source": [
    "sy.types()"
   ]
  },
  {
   "cell_type": "code",
   "execution_count": null,
   "metadata": {
    "hidden": true
   },
   "outputs": [],
   "source": [
    "sy.write('emcee_pt_v1')"
   ]
  },
  {
   "cell_type": "code",
   "execution_count": null,
   "metadata": {
    "hidden": true
   },
   "outputs": [],
   "source": [
    "!ls"
   ]
  },
  {
   "cell_type": "code",
   "execution_count": null,
   "metadata": {
    "hidden": true
   },
   "outputs": [],
   "source": [
    "!cat sampler.ini"
   ]
  },
  {
   "cell_type": "code",
   "execution_count": null,
   "metadata": {
    "hidden": true
   },
   "outputs": [],
   "source": [
    "dy = x.config_writers['data']"
   ]
  },
  {
   "cell_type": "code",
   "execution_count": null,
   "metadata": {
    "hidden": true,
    "scrolled": true
   },
   "outputs": [],
   "source": [
    "dy.names()"
   ]
  },
  {
   "cell_type": "code",
   "execution_count": null,
   "metadata": {
    "hidden": true
   },
   "outputs": [],
   "source": [
    "dy.write"
   ]
  },
  {
   "cell_type": "code",
   "execution_count": null,
   "metadata": {
    "hidden": true
   },
   "outputs": [],
   "source": [
    "!rm emcee_pt_v1"
   ]
  },
  {
   "cell_type": "code",
   "execution_count": null,
   "metadata": {
    "hidden": true
   },
   "outputs": [],
   "source": []
  },
  {
   "cell_type": "code",
   "execution_count": null,
   "metadata": {
    "hidden": true
   },
   "outputs": [],
   "source": [
    "confs.get('workflow', 'sampler').split()"
   ]
  },
  {
   "cell_type": "code",
   "execution_count": null,
   "metadata": {
    "hidden": true
   },
   "outputs": [],
   "source": [
    "from six.moves import configparser as ConfigParser"
   ]
  },
  {
   "cell_type": "code",
   "execution_count": null,
   "metadata": {
    "hidden": true
   },
   "outputs": [],
   "source": [
    "sampler_configs = {}\n",
    "for f in confs.get('workflow', 'sampler').split():\n",
    "    sampler_configs[f] = ConfigParser.ConfigParser()\n",
    "    sampler_configs[f].read(f)"
   ]
  },
  {
   "cell_type": "code",
   "execution_count": null,
   "metadata": {
    "hidden": true
   },
   "outputs": [],
   "source": [
    "!cat sampler.ini"
   ]
  },
  {
   "cell_type": "code",
   "execution_count": null,
   "metadata": {
    "hidden": true
   },
   "outputs": [],
   "source": [
    "cp = sampler_configs['sampler2.ini']"
   ]
  },
  {
   "cell_type": "code",
   "execution_count": null,
   "metadata": {
    "hidden": true
   },
   "outputs": [],
   "source": [
    "cp.sections()"
   ]
  },
  {
   "cell_type": "code",
   "execution_count": null,
   "metadata": {
    "hidden": true
   },
   "outputs": [],
   "source": [
    "for s in cp.sections():\n",
    "    print(s)\n",
    "    print(cp.items(s))"
   ]
  },
  {
   "cell_type": "code",
   "execution_count": null,
   "metadata": {
    "hidden": true
   },
   "outputs": [],
   "source": [
    "confs.items('executables')"
   ]
  },
  {
   "cell_type": "code",
   "execution_count": null,
   "metadata": {
    "hidden": true
   },
   "outputs": [],
   "source": [
    "confs.items('inspinj')"
   ]
  },
  {
   "cell_type": "code",
   "execution_count": null,
   "metadata": {
    "hidden": true
   },
   "outputs": [],
   "source": [
    "confs.set('inspinj', 'seed', '1234')"
   ]
  },
  {
   "cell_type": "code",
   "execution_count": null,
   "metadata": {
    "hidden": true
   },
   "outputs": [],
   "source": [
    "def test_local_dir_change():\n",
    "    idir = os.getcwd()\n",
    "    print(idir)\n",
    "    os.chdir('/home/prayush/research/')\n",
    "    print(os.getcwd())    \n",
    "    os.chdir(idir)"
   ]
  },
  {
   "cell_type": "code",
   "execution_count": null,
   "metadata": {
    "hidden": true
   },
   "outputs": [],
   "source": [
    "test_local_dir_change()"
   ]
  },
  {
   "cell_type": "code",
   "execution_count": null,
   "metadata": {
    "hidden": true
   },
   "outputs": [],
   "source": [
    "np.random.randint(10, 10000)"
   ]
  },
  {
   "cell_type": "code",
   "execution_count": null,
   "metadata": {
    "hidden": true
   },
   "outputs": [],
   "source": [
    "os.getcwd()"
   ]
  },
  {
   "cell_type": "code",
   "execution_count": null,
   "metadata": {
    "hidden": true
   },
   "outputs": [],
   "source": []
  },
  {
   "cell_type": "code",
   "execution_count": null,
   "metadata": {
    "hidden": true
   },
   "outputs": [],
   "source": []
  },
  {
   "cell_type": "code",
   "execution_count": null,
   "metadata": {
    "code_folding": [],
    "hidden": true
   },
   "outputs": [],
   "source": []
  },
  {
   "cell_type": "code",
   "execution_count": null,
   "metadata": {
    "hidden": true
   },
   "outputs": [],
   "source": [
    "'data.ini'.split('.ini')[0]"
   ]
  },
  {
   "cell_type": "code",
   "execution_count": null,
   "metadata": {
    "hidden": true
   },
   "outputs": [],
   "source": []
  },
  {
   "cell_type": "code",
   "execution_count": null,
   "metadata": {
    "hidden": true
   },
   "outputs": [],
   "source": [
    "import itertools"
   ]
  },
  {
   "cell_type": "code",
   "execution_count": null,
   "metadata": {
    "hidden": true
   },
   "outputs": [],
   "source": [
    "for p in itertools.product(['data.ini', 'data2.ini'], ['sampler.ini', 'sampler2.ini'], ['model.ini']):\n",
    "    print(p)"
   ]
  },
  {
   "cell_type": "code",
   "execution_count": null,
   "metadata": {
    "hidden": true
   },
   "outputs": [],
   "source": [
    "list(itertools.product(['data.ini', 'data2.ini'], ['sampler.ini', 'sampler2.ini'], ['model.ini']))"
   ]
  },
  {
   "cell_type": "code",
   "execution_count": null,
   "metadata": {
    "hidden": true
   },
   "outputs": [],
   "source": [
    "len('')"
   ]
  },
  {
   "cell_type": "code",
   "execution_count": null,
   "metadata": {
    "hidden": true
   },
   "outputs": [],
   "source": [
    "confs['x'], confs['y'], confs['z'] = ['data.ini', 'data2.ini', 'data3.ini']"
   ]
  },
  {
   "cell_type": "code",
   "execution_count": null,
   "metadata": {
    "hidden": true
   },
   "outputs": [],
   "source": [
    "confs.items('executables')"
   ]
  },
  {
   "cell_type": "code",
   "execution_count": null,
   "metadata": {
    "hidden": true
   },
   "outputs": [],
   "source": []
  },
  {
   "cell_type": "code",
   "execution_count": null,
   "metadata": {
    "hidden": true
   },
   "outputs": [],
   "source": []
  },
  {
   "cell_type": "code",
   "execution_count": null,
   "metadata": {
    "hidden": true
   },
   "outputs": [],
   "source": [
    "with open('data.ini', 'r') as d:\n",
    "    x = d.read()"
   ]
  },
  {
   "cell_type": "code",
   "execution_count": null,
   "metadata": {
    "hidden": true
   },
   "outputs": [],
   "source": [
    "with open('/home/prayush/test.ini', 'w') as f:\n",
    "    f.write(x)"
   ]
  },
  {
   "cell_type": "code",
   "execution_count": null,
   "metadata": {
    "hidden": true
   },
   "outputs": [],
   "source": [
    "!git diff --no-index data.ini /home/prayush/test.ini"
   ]
  },
  {
   "cell_type": "markdown",
   "metadata": {},
   "source": [
    "## Workflow generator"
   ]
  },
  {
   "cell_type": "code",
   "execution_count": 4,
   "metadata": {},
   "outputs": [],
   "source": [
    "from glue.pipeline import CondorDAGJob, CondorDAGNode, CondorDAG, CondorJob"
   ]
  },
  {
   "cell_type": "code",
   "execution_count": 4,
   "metadata": {},
   "outputs": [
    {
     "name": "stdout",
     "output_type": "stream",
     "text": [
      "/home/prayush/research/test_pycbc_event2\r\n"
     ]
    }
   ],
   "source": [
    "!pwd"
   ]
  },
  {
   "cell_type": "code",
   "execution_count": 5,
   "metadata": {},
   "outputs": [],
   "source": [
    "os.chdir(run_dir)"
   ]
  },
  {
   "cell_type": "code",
   "execution_count": 6,
   "metadata": {
    "scrolled": true
   },
   "outputs": [
    {
     "name": "stdout",
     "output_type": "stream",
     "text": [
      "config.ini  eve.ini\t   injection.ini  sampler2.ini\r\n",
      "data.ini    inference.ini  inj.ini\t  sampler.ini\r\n"
     ]
    }
   ],
   "source": [
    "!ls"
   ]
  },
  {
   "cell_type": "code",
   "execution_count": 13,
   "metadata": {
    "code_folding": [
     0
    ]
   },
   "outputs": [],
   "source": [
    "# Write CONFIGS\n",
    "\n",
    "# data.ini\n",
    "with open(\"data.ini\", \"w\") as fout:\n",
    "    fout.write(\"\"\"\\\n",
    "[data]\n",
    "instruments = H1 L1\n",
    "trigger-time = 1126259462.42\n",
    "analysis-start-time = -6\n",
    "analysis-end-time = 2\n",
    "; strain settings\n",
    "sample-rate = 2048\n",
    "fake-strain = H1:aLIGOaLIGODesignSensitivityT1800044 L1:aLIGOaLIGODesignSensitivityT1800044\n",
    "fake-strain-seed = H1:44 L1:45\n",
    "; psd settings\n",
    "psd-estimation = median-mean\n",
    "psd-inverse-length = 8\n",
    "psd-segment-length = 8\n",
    "psd-segment-stride = 4\n",
    "psd-start-time = -256\n",
    "psd-end-time = 256\n",
    "; even though we're making fake strain, the strain\n",
    "; module requires a channel to be provided, so we'll\n",
    "; just make one up\n",
    "channel-name = H1:STRAIN L1:STRAIN\n",
    "; Providing an injection file will cause a simulated\n",
    "; signal to be added to the data\n",
    "injection-file = injection.hdf\n",
    "; We'll use a high-pass filter so as not to get numerical errors from the large\n",
    "; amplitude low frequency noise. Here we use 15 Hz, which is safely below the\n",
    "; low frequency cutoff of our likelihood integral (20 Hz)\n",
    "strain-high-pass = 15\n",
    "; The pad-data argument is for the high-pass filter: 8s are added to the\n",
    "; beginning/end of the analysis/psd times when the data is loaded. After the\n",
    "; high pass filter is applied, the additional time is discarded. This pad is\n",
    "; *in addition to* the time added to the analysis start/end time for the PSD\n",
    "; inverse length. Since it is discarded before the data is transformed for the\n",
    "; likelihood integral, it has little affect on the run time.\n",
    "pad-data = 8\n",
    "\"\"\")\n",
    "    \n",
    "\n",
    "# sampler.ini\n",
    "with open(\"sampler.ini\", \"w\") as fout:\n",
    "    fout.write(\"\"\"\\\n",
    ";;;;;;;;;;;;;;;;;;;;;;;;;;;;;;;;;;;\n",
    ";      SAMPLER\n",
    ";;;;;;;;;;;;;;;;;;;;;;;;;;;;;;;;;;;;;;\n",
    "[sampler]\n",
    "name = emcee_pt\n",
    "nwalkers = 200\n",
    "ntemps = 20\n",
    "effective-nsamples = 1000\n",
    "checkpoint-interval = 2000\n",
    "max-samples-per-chain = 1000\n",
    "\n",
    "[sampler-burn_in]\n",
    "burn-in-test = nacl & max_posterior\n",
    "\n",
    ";;;;;;;;;;;;;;;;;;;;;;;;;;;;;;;;;;;;\n",
    ";   Sampling transforms\n",
    ";;;;;;;;;;;;;;;;;;;;;;;;;;;;;;;;;;;;\n",
    "[sampling_params]\n",
    "; parameters on the left will be sampled in\n",
    "; parametes on the right\n",
    "mass1, mass2 : mchirp, q\n",
    "\n",
    "[sampling_transforms-mchirp+q]\n",
    "; inputs mass1, mass2\n",
    "; outputs mchirp, q\n",
    "name = mass1_mass2_to_mchirp_q\n",
    "\"\"\")\n",
    "\n",
    "subprocess.call(['cp', '-v', 'sampler.ini', 'sampler2.ini'])\n",
    "\n",
    "# inference.ini\n",
    "with open(\"inference.ini\", \"w\") as fout:\n",
    "    fout.write(\"\"\"\\\n",
    ";;;;;;;;;;;;;;;;;;;;;;;;;;;;;;;;;;;;\n",
    ";   Model\n",
    ";;;;;;;;;;;;;;;;;;;;;;;;;;;;;;;;;;;;\n",
    "[model]\n",
    "name = gaussian_noise\n",
    "low-frequency-cutoff = 20.0\n",
    "\n",
    "\n",
    ";;;;;;;;;;;;;;;;;;;;;;;;;;;;;;;;;;;;\n",
    ";   Sampling parameters\n",
    ";;;;;;;;;;;;;;;;;;;;;;;;;;;;;;;;;;;;\n",
    "[variable_params]\n",
    "; waveform parameters that will vary in MCMC\n",
    "delta_tc =\n",
    "mass1 =\n",
    "mass2 =\n",
    "spin1_a =\n",
    "spin1_azimuthal =\n",
    "spin1_polar =\n",
    "spin2_a =\n",
    "spin2_azimuthal =\n",
    "spin2_polar =\n",
    "distance =\n",
    "coa_phase =\n",
    "inclination =\n",
    "polarization =\n",
    "ra =\n",
    "dec =\n",
    "\n",
    "[static_params]\n",
    "; waveform parameters that will not change in MCMC\n",
    "approximant = IMRPhenomPv2\n",
    "f_lower = 20\n",
    "f_ref = 20\n",
    "; we'll set the tc by using the trigger time in the data\n",
    "; section of the config file + delta_tc\n",
    "trigger_time = ${data|trigger-time}\n",
    "\n",
    ";;;;;;;;;;;;;;;;;;;;;;;;;;;;;;;;;;;;\n",
    ";   Sampling priors\n",
    ";;;;;;;;;;;;;;;;;;;;;;;;;;;;;;;;;;;;\n",
    "[prior-delta_tc]\n",
    "; coalescence time prior\n",
    "name = uniform\n",
    "min-delta_tc = -0.1\n",
    "max-delta_tc = 0.1\n",
    "\n",
    "[waveform_transforms-tc]\n",
    "; we need to provide tc to the waveform generator\n",
    "name = custom\n",
    "inputs = delta_tc\n",
    "tc = ${data|trigger-time} + delta_tc\n",
    "\n",
    "[prior-mass1]\n",
    "name = uniform\n",
    "min-mass1 = 10.\n",
    "max-mass1 = 80.\n",
    "\n",
    "[prior-mass2]\n",
    "name = uniform\n",
    "min-mass2 = 10.\n",
    "max-mass2 = 80.\n",
    "\n",
    "[prior-spin1_a]\n",
    "name = uniform\n",
    "min-spin1_a = 0.0\n",
    "max-spin1_a = 0.99\n",
    "\n",
    "[prior-spin1_polar+spin1_azimuthal]\n",
    "name = uniform_solidangle\n",
    "polar-angle = spin1_polar\n",
    "azimuthal-angle = spin1_azimuthal\n",
    "\n",
    "[prior-spin2_a]\n",
    "name = uniform\n",
    "min-spin2_a = 0.0\n",
    "max-spin2_a = 0.99\n",
    "\n",
    "[prior-spin2_polar+spin2_azimuthal]\n",
    "name = uniform_solidangle\n",
    "polar-angle = spin2_polar\n",
    "azimuthal-angle = spin2_azimuthal\n",
    "\n",
    "[prior-distance]\n",
    "; following gives a uniform volume prior\n",
    "name = uniform_radius\n",
    "min-distance = 10\n",
    "max-distance = 1000\n",
    "\n",
    "[prior-coa_phase]\n",
    "; coalescence phase prior\n",
    "name = uniform_angle\n",
    "\n",
    "[prior-inclination]\n",
    "; inclination prior\n",
    "name = sin_angle\n",
    "\n",
    "[prior-ra+dec]\n",
    "; sky position prior\n",
    "name = uniform_sky\n",
    "\n",
    "[prior-polarization]\n",
    "; polarization prior\n",
    "name = uniform_angle\n",
    "\"\"\")\n",
    "\n",
    "# Workflow.ini\n",
    "with open(\"config.ini\", \"w\") as fout:\n",
    "    fout.write(\"\"\"\\\n",
    ";;;;;;;;;;;;;;;;;;;;;;;;;;;;;;;;;;;;                                            \n",
    ";   Executables                                                                 \n",
    ";;;;;;;;;;;;;;;;;;;;;;;;;;;;;;;;;;;;                                            \n",
    "[executables]                                                                   \n",
    "inspinj = ${which:pycbc_create_injections}                                      \n",
    "inference = ${which:pycbc_inference}                                            \n",
    "plot = ${which:pycbc_inference_plot_posterior}                                  \n",
    "                                                                                \n",
    ";;;;;;;;;;;;;;;;;;;;;;;;;;;;;;;;;;;;                                            \n",
    ";   Workflow                                                                    \n",
    ";;;;;;;;;;;;;;;;;;;;;;;;;;;;;;;;;;;;                                            \n",
    "[workflow]                                                                      \n",
    "accounting-group = ligo.dev.o3.cbc.explore.test                                 \n",
    "templates-per-job = 100                                                         \n",
    "log-path = log                                                                  \n",
    "inference-request-memory = 20G                                                  \n",
    "inference-request-cpus = 10                                                     \n",
    "data = data.ini                                                                 \n",
    "sampler = sampler.ini sampler2.ini                                              \n",
    "inference = inference.ini                                                       \n",
    "events = GW150914                                                               \n",
    "data-sample-rate = 4096                                                         \n",
    "data-duration = 32                                                              \n",
    "                                                                                \n",
    ";;;;;;;;;;;;;;;;;;;;;;;;;;;;;;;;;;;;                                            \n",
    ";   Inference                                                                   \n",
    ";;;;;;;;;;;;;;;;;;;;;;;;;;;;;;;;;;;;                                            \n",
    "[inference]                                                                     \n",
    "verbose =                                                                       \n",
    "seed = 12                                                                       \n",
    "config-files = inference.ini data.ini sampler.ini                               \n",
    "output-file = inference.hdf                                                     \n",
    "nprocesses = 10                                                                 \n",
    "force =                                                                         \n",
    "                                                                                \n",
    ";;;;;;;;;;;;;;;;;;;;;;;;;;;;;;;;;;;;                                            \n",
    ";   Visualize                                                                   \n",
    ";;;;;;;;;;;;;;;;;;;;;;;;;;;;;;;;;;;;                                            \n",
    "[plot]                                                                          \n",
    "input-file = inference.hdf                                                      \n",
    "output-file = plots/posteriors.png                                              \n",
    "plot-scatter =                                                                  \n",
    "plot-marginal =                                                                 \n",
    "plot-prior = inference.ini data.ini                                             \n",
    "                                                                                \n",
    "[plot-1]                                                                        \n",
    "output-file = plots/posteriors1.png                                             \n",
    "                                                                                \n",
    "[plot-2]                                                                        \n",
    "output-file = plots/posteriors2.png                                             \n",
    "                                                                                \n",
    "[plot-3]                                                                        \n",
    "output-file = plots/posteriors3.png\n",
    "\"\"\")"
   ]
  },
  {
   "cell_type": "code",
   "execution_count": 10,
   "metadata": {
    "scrolled": true
   },
   "outputs": [
    {
     "name": "stdout",
     "output_type": "stream",
     "text": [
      "[static_params]\n",
      "tc = 1126259462.420\n",
      ";mass1 = 37\n",
      "mass2 = 32\n",
      "ra = 2.2\n",
      "dec = -1.25\n",
      "inclination = 2.5\n",
      "coa_phase = 1.5\n",
      "polarization = 1.75\n",
      "distance = 100\n",
      "f_ref = 20\n",
      "f_lower = 18\n",
      "approximant = ENIGMA\n",
      "taper = start\n",
      "\n",
      "[variable_params]\n",
      "mass1 =\n",
      "eccentricity =\n",
      "mean_per_ano =\n",
      "\n",
      "[prior-mass1]\n",
      "name = uniform\n",
      "min-mass1 = 10.\n",
      "max-mass1 = 80.\n",
      "\n",
      "[prior-eccentricity]\n",
      "name = uniform\n",
      "min-eccentricity = 0.\n",
      "max-eccentricity = 0.2\n",
      "\n",
      "[prior-mean_per_ano]\n",
      "name = uniform\n",
      "min-mean_per_ano = 0.\n",
      "max-mean_per_ano = 3.1416\n",
      "[data]\n",
      "instruments = H1 L1\n",
      "trigger-time = 1126259462.42\n",
      "analysis-start-time = -6\n",
      "analysis-end-time = 2\n",
      "; strain settings\n",
      "sample-rate = 2048\n",
      "fake-strain = H1:aLIGOaLIGODesignSensitivityT1800044 L1:aLIGOaLIGODesignSensitivityT1800044\n",
      "fake-strain-seed = H1:44 L1:45\n",
      "; psd settings\n",
      "psd-estimation = median-mean\n",
      "psd-inverse-length = 8\n",
      "psd-segment-length = 8\n",
      "psd-segment-stride = 4\n",
      "psd-start-time = -256\n",
      "psd-end-time = 256\n",
      "; even though we're making fake strain, the strain\n",
      "; module requires a channel to be provided, so we'll\n",
      "; just make one up\n",
      "channel-name = H1:STRAIN L1:STRAIN\n",
      "; Providing an injection file will cause a simulated\n",
      "; signal to be added to the data\n",
      "injection-file = injection.hdf\n",
      "; We'll use a high-pass filter so as not to get numerical errors from the large\n",
      "; amplitude low frequency noise. Here we use 15 Hz, which is safely below the\n",
      "; low frequency cutoff of our likelihood integral (20 Hz)\n",
      "strain-high-pass = 15\n",
      "; The pad-data argument is for the high-pass filter: 8s are added to the\n",
      "; beginning/end of the analysis/psd times when the data is loaded. After the\n",
      "; high pass filter is applied, the additional time is discarded. This pad is\n",
      "; *in addition to* the time added to the analysis start/end time for the PSD\n",
      "; inverse length. Since it is discarded before the data is transformed for the\n",
      "; likelihood integral, it has little affect on the run time.\n",
      "pad-data = 8\n",
      ";;;;;;;;;;;;;;;;;;;;;;;;;;;;;;;;;;;\n",
      ";      SAMPLER\n",
      ";;;;;;;;;;;;;;;;;;;;;;;;;;;;;;;;;;;;;;\n",
      "[sampler]\n",
      "name = emcee_pt\n",
      "nwalkers = 200\n",
      "ntemps = 20\n",
      "effective-nsamples = 1000\n",
      "checkpoint-interval = 2000\n",
      "max-samples-per-chain = 1000\n",
      "\n",
      "[sampler-burn_in]\n",
      "burn-in-test = nacl & max_posterior\n",
      "\n",
      ";;;;;;;;;;;;;;;;;;;;;;;;;;;;;;;;;;;;\n",
      ";   Sampling transforms\n",
      ";;;;;;;;;;;;;;;;;;;;;;;;;;;;;;;;;;;;\n",
      "[sampling_params]\n",
      "; parameters on the left will be sampled in\n",
      "; parametes on the right\n",
      "mass1, mass2 : mchirp, q\n",
      "\n",
      "[sampling_transforms-mchirp+q]\n",
      "; inputs mass1, mass2\n",
      "; outputs mchirp, q\n",
      "name = mass1_mass2_to_mchirp_q\n",
      ";;;;;;;;;;;;;;;;;;;;;;;;;;;;;;;;;;;;\n",
      ";   Model\n",
      ";;;;;;;;;;;;;;;;;;;;;;;;;;;;;;;;;;;;\n",
      "[model]\n",
      "name = gaussian_noise\n",
      "low-frequency-cutoff = 20.0\n",
      "\n",
      "\n",
      ";;;;;;;;;;;;;;;;;;;;;;;;;;;;;;;;;;;;\n",
      ";   Sampling parameters\n",
      ";;;;;;;;;;;;;;;;;;;;;;;;;;;;;;;;;;;;\n",
      "[variable_params]\n",
      "; waveform parameters that will vary in MCMC\n",
      "delta_tc =\n",
      "mass1 =\n",
      "mass2 =\n",
      "spin1_a =\n",
      "spin1_azimuthal =\n",
      "spin1_polar =\n",
      "spin2_a =\n",
      "spin2_azimuthal =\n",
      "spin2_polar =\n",
      "distance =\n",
      "coa_phase =\n",
      "inclination =\n",
      "polarization =\n",
      "ra =\n",
      "dec =\n",
      "\n",
      "[static_params]\n",
      "; waveform parameters that will not change in MCMC\n",
      "approximant = IMRPhenomPv2\n",
      "f_lower = 20\n",
      "f_ref = 20\n",
      "; we'll set the tc by using the trigger time in the data\n",
      "; section of the config file + delta_tc\n",
      "trigger_time = ${data|trigger-time}\n",
      "\n",
      ";;;;;;;;;;;;;;;;;;;;;;;;;;;;;;;;;;;;\n",
      ";   Sampling priors\n",
      ";;;;;;;;;;;;;;;;;;;;;;;;;;;;;;;;;;;;\n",
      "[prior-delta_tc]\n",
      "; coalescence time prior\n",
      "name = uniform\n",
      "min-delta_tc = -0.1\n",
      "max-delta_tc = 0.1\n",
      "\n",
      "[waveform_transforms-tc]\n",
      "; we need to provide tc to the waveform generator\n",
      "name = custom\n",
      "inputs = delta_tc\n",
      "tc = ${data|trigger-time} + delta_tc\n",
      "\n",
      "[prior-mass1]\n",
      "name = uniform\n",
      "min-mass1 = 10.\n",
      "max-mass1 = 80.\n",
      "\n",
      "[prior-mass2]\n",
      "name = uniform\n",
      "min-mass2 = 10.\n",
      "max-mass2 = 80.\n",
      "\n",
      "[prior-spin1_a]\n",
      "name = uniform\n",
      "min-spin1_a = 0.0\n",
      "max-spin1_a = 0.99\n",
      "\n",
      "[prior-spin1_polar+spin1_azimuthal]\n",
      "name = uniform_solidangle\n",
      "polar-angle = spin1_polar\n",
      "azimuthal-angle = spin1_azimuthal\n",
      "\n",
      "[prior-spin2_a]\n",
      "name = uniform\n",
      "min-spin2_a = 0.0\n",
      "max-spin2_a = 0.99\n",
      "\n",
      "[prior-spin2_polar+spin2_azimuthal]\n",
      "name = uniform_solidangle\n",
      "polar-angle = spin2_polar\n",
      "azimuthal-angle = spin2_azimuthal\n",
      "\n",
      "[prior-distance]\n",
      "; following gives a uniform volume prior\n",
      "name = uniform_radius\n",
      "min-distance = 10\n",
      "max-distance = 1000\n",
      "\n",
      "[prior-coa_phase]\n",
      "; coalescence phase prior\n",
      "name = uniform_angle\n",
      "\n",
      "[prior-inclination]\n",
      "; inclination prior\n",
      "name = sin_angle\n",
      "\n",
      "[prior-ra+dec]\n",
      "; sky position prior\n",
      "name = uniform_sky\n",
      "\n",
      "[prior-polarization]\n",
      "; polarization prior\n",
      "name = uniform_angle\n",
      ";;;;;;;;;;;;;;;;;;;;;;;;;;;;;;;;;;;;\n",
      ";   Executables\n",
      ";;;;;;;;;;;;;;;;;;;;;;;;;;;;;;;;;;;;\n",
      "[executables]\n",
      "inspinj = ${which:pycbc_create_injections}\n",
      "inference = ${which:pycbc_inference}\n",
      "plot = ${which:pycbc_inference_plot_posterior}\n",
      "\n",
      ";;;;;;;;;;;;;;;;;;;;;;;;;;;;;;;;;;;;\n",
      ";   Workflow\n",
      ";;;;;;;;;;;;;;;;;;;;;;;;;;;;;;;;;;;;\n",
      "[workflow]\n",
      "accounting-group = ligo.dev.o3.cbc.explore.test\n",
      "templates-per-job = 100\n",
      "log-path = log\n",
      "banksim-request-memory = 8G\n",
      "data = data.ini\n",
      "sampler = sampler.ini sampler2.ini\n",
      "inference = inference.ini\n",
      "\n",
      ";;;;;;;;;;;;;;;;;;;;;;;;;;;;;;;;;;;;\n",
      ";   Injections\n",
      ";;;;;;;;;;;;;;;;;;;;;;;;;;;;;;;;;;;;\n",
      "[inspinj]\n",
      "config-files = injection.ini\n",
      "ninjections = 10\n",
      "seed = 10\n",
      "output-file = injection.hdf\n",
      "variable-params-section = variable_params\n",
      "static-params-section = static_params\n",
      "dist-section prior =\n",
      "force =\n",
      "\n",
      ";;;;;;;;;;;;;;;;;;;;;;;;;;;;;;;;;;;;\n",
      ";   Inference\n",
      ";;;;;;;;;;;;;;;;;;;;;;;;;;;;;;;;;;;;\n",
      "[inference]\n",
      "verbose =\n",
      "seed = 12\n",
      "config-files = inference.ini data.ini sampler.ini\n",
      "output-file = inference.hdf\n",
      "nprocesses = 10\n",
      "force =\n",
      "\n",
      ";;;;;;;;;;;;;;;;;;;;;;;;;;;;;;;;;;;;\n",
      ";   Visualize\n",
      ";;;;;;;;;;;;;;;;;;;;;;;;;;;;;;;;;;;;\n",
      "[plot]\n",
      "input-file = inference.hdf\n",
      "output-file = plots/posteriors.png\n",
      "plot-scatter =\n",
      "plot-marginal =\n",
      "plot-prior = inference.ini data.ini\n"
     ]
    }
   ],
   "source": [
    "!cat injection.ini\n",
    "!cat data.ini\n",
    "!cat sampler.ini\n",
    "!cat inference.ini\n",
    "!cat config.ini"
   ]
  },
  {
   "cell_type": "code",
   "execution_count": 23,
   "metadata": {
    "scrolled": true
   },
   "outputs": [
    {
     "name": "stdout",
     "output_type": "stream",
     "text": [
      "usage: /home/prayush/src/GWNRTools/bin/gwnrtools_create_public_events_inference_workflow [--options]\r\n",
      "\r\n",
      "Setup workflow to perform Bayesian parameter estimation runs on a custom set\r\n",
      "of public gravitational-wave events using open data\r\n",
      "\r\n",
      "optional arguments:\r\n",
      "  -h, --help            show this help message and exit\r\n",
      "  --version             Prints version information.\r\n",
      "  --verbose             Print logging messages.\r\n",
      "  --output-dir OUTPUT_DIR\r\n",
      "                        Output directory path.\r\n",
      "  --force               If the output-dir already exists, overwrite it.\r\n",
      "                        Otherwise, an OSError is raised.\r\n",
      "  --do-not-fetch-data   Don't fetch GWOSC data.\r\n",
      "  --nprocesses NPROCESSES\r\n",
      "                        Number of processes to use. If not given then only a\r\n",
      "                        single core will be used.\r\n",
      "  --use-mpi             Use MPI to parallelize the sampler\r\n",
      "  --seed SEED           Seed to use for the random number generator that\r\n",
      "                        initially distributes the walkers. Default is 0.\r\n",
      "\r\n",
      "Configuration:\r\n",
      "  Options needed for parsing config file(s).\r\n",
      "\r\n",
      "  --config-files CONFIGFILE [CONFIGFILE ...]\r\n",
      "                        List of config files to be used in analysis.\r\n",
      "  --config-overrides [SECTION:OPTION:VALUE [SECTION:OPTION:VALUE ...]]\r\n",
      "                        List of section,option,value combinations to add into\r\n",
      "                        the configuration file. Normally the gps start and end\r\n",
      "                        times might be provided this way, and user specific\r\n",
      "                        locations (ie. output directories). This can also be\r\n",
      "                        provided as SECTION:OPTION or SECTION:OPTION: both of\r\n",
      "                        which indicate that the corresponding value is left\r\n",
      "                        blank.\r\n",
      "  --config-delete [SECTION:OPTION [SECTION:OPTION ...]]\r\n",
      "                        List of section,option combinations to delete from the\r\n",
      "                        configuration file. This can also be provided as\r\n",
      "                        SECTION which deletes the enture section from the\r\n",
      "                        configuration file or SECTION:OPTION which deletes a\r\n",
      "                        specific option from a given section.\r\n",
      "\r\n",
      "Options for selecting the FFT backend and controlling its performance in this program.:\r\n",
      "  --fft-backends [FFT_BACKENDS [FFT_BACKENDS ...]]\r\n",
      "                        Preference list of the FFT backends. Choices are:\r\n",
      "                        ['fftw', 'numpy']\r\n",
      "  --fftw-measure-level FFTW_MEASURE_LEVEL\r\n",
      "                        Determines the measure level used in planning FFTW\r\n",
      "                        FFTs; allowed values are: [0, 1, 2, 3]\r\n",
      "  --fftw-threads-backend FFTW_THREADS_BACKEND\r\n",
      "                        Give 'openmp', 'pthreads' or 'unthreaded' to specify\r\n",
      "                        which threaded FFTW to use\r\n",
      "  --fftw-input-float-wisdom-file FFTW_INPUT_FLOAT_WISDOM_FILE\r\n",
      "                        Filename from which to read single-precision wisdom\r\n",
      "  --fftw-input-double-wisdom-file FFTW_INPUT_DOUBLE_WISDOM_FILE\r\n",
      "                        Filename from which to read double-precision wisdom\r\n",
      "  --fftw-output-float-wisdom-file FFTW_OUTPUT_FLOAT_WISDOM_FILE\r\n",
      "                        Filename to which to write single-precision wisdom\r\n",
      "  --fftw-output-double-wisdom-file FFTW_OUTPUT_DOUBLE_WISDOM_FILE\r\n",
      "                        Filename to which to write double-precision wisdom\r\n",
      "  --fftw-import-system-wisdom\r\n",
      "                        If given, call fftw[f]_import_system_wisdom()\r\n",
      "\r\n",
      "Options for selecting optimization-specific settings:\r\n",
      "  --cpu-affinity CPU_AFFINITY\r\n",
      "                        A set of CPUs on which to run, specified in a format\r\n",
      "                        suitable to pass to taskset.\r\n",
      "  --cpu-affinity-from-env CPU_AFFINITY_FROM_ENV\r\n",
      "                        The name of an enivornment variable containing a set\r\n",
      "                        of CPUs on which to run, specified in a format\r\n",
      "                        suitable to pass to taskset.\r\n",
      "\r\n",
      "Options for selecting the processing scheme in this program.:\r\n",
      "  --processing-scheme PROCESSING_SCHEME\r\n",
      "                        The choice of processing scheme. Choices are ['mkl',\r\n",
      "                        'numpy', 'cpu', 'cuda']. (optional for CPU scheme) The\r\n",
      "                        number of execution threads can be indicated by\r\n",
      "                        cpu:NUM_THREADS, where NUM_THREADS is an integer. The\r\n",
      "                        default is a single thread. If the scheme is provided\r\n",
      "                        as cpu:env, the number of threads can be provided by\r\n",
      "                        the PYCBC_NUM_THREADS environment variable. If the\r\n",
      "                        environment variable is not set, the number of threads\r\n",
      "                        matches the number of logical cores.\r\n",
      "  --processing-device-id PROCESSING_DEVICE_ID\r\n",
      "                        (optional) ID of GPU to use for accelerated processing\r\n"
     ]
    }
   ],
   "source": [
    "!/home/prayush/src/gwnrtools/bin/gwnr_create_public_events_inference_workflow -h"
   ]
  },
  {
   "cell_type": "code",
   "execution_count": null,
   "metadata": {},
   "outputs": [],
   "source": []
  },
  {
   "cell_type": "code",
   "execution_count": 4,
   "metadata": {
    "code_folding": [],
    "scrolled": false
   },
   "outputs": [
    {
     "name": "stderr",
     "output_type": "stream",
     "text": [
      "2020-03-10 23:24:22,365 Reading configuration file\n",
      "2020-03-10 23:24:22,367 Using seed 0\n",
      "2020-03-10 23:24:22,369 Running with CPU support: 1 threads\n",
      "2020-03-10 23:24:22,483 Reading configuration file\n",
      "2020-03-10 23:24:22,486 Will setup analyses in /home/prayush/research/test_pycbc_event2\n",
      "2020-03-10 23:24:22,487 Making workspace directories\n",
      "2020-03-10 23:24:22,489 Creating DAG\n",
      "2020-03-10 23:24:22,496 Making eventGW150914/sampler2/inference in /home/prayush/research/test_pycbc_event2\n",
      "2020-03-10 23:24:22,567 Copying config files to eventGW150914/sampler2/inference\n",
      "2020-03-10 23:24:22,569 Copying executables to eventGW150914/sampler2/inference/scripts/\n"
     ]
    },
    {
     "name": "stdout",
     "output_type": "stream",
     "text": [
      "Downloading https://www.gw-openscience.org/catalog/GWTC-1-confident/data/GW150914/H-H1_GWOSC_4KHZ_R1-1126259447-32.gwf [Done]\n",
      "Downloading https://www.gw-openscience.org/catalog/GWTC-1-confident/data/GW150914/L-L1_GWOSC_4KHZ_R1-1126259447-32.gwf [Done]\n"
     ]
    },
    {
     "name": "stderr",
     "output_type": "stream",
     "text": [
      "2020-03-10 23:24:25,554 Making eventGW150914/sampler/inference in /home/prayush/research/test_pycbc_event2\n",
      "2020-03-10 23:24:25,628 Copying config files to eventGW150914/sampler/inference\n",
      "2020-03-10 23:24:25,630 Copying executables to eventGW150914/sampler/inference/scripts/\n"
     ]
    },
    {
     "name": "stdout",
     "output_type": "stream",
     "text": [
      "Downloading https://www.gw-openscience.org/catalog/GWTC-1-confident/data/GW150914/H-H1_GWOSC_4KHZ_R1-1126259447-32.gwf [Done]\n",
      "Downloading https://www.gw-openscience.org/catalog/GWTC-1-confident/data/GW150914/L-L1_GWOSC_4KHZ_R1-1126259447-32.gwf [Done]\n"
     ]
    },
    {
     "name": "stderr",
     "output_type": "stream",
     "text": [
      "2020-03-10 23:24:28,221 Done\n"
     ]
    }
   ],
   "source": [
    "run -i /home/prayush/src/gwnrtools/bin/gwnr_create_public_events_inference_workflow --verbose --config-file=config.ini --force"
   ]
  },
  {
   "cell_type": "code",
   "execution_count": 7,
   "metadata": {},
   "outputs": [
    {
     "data": {
      "text/plain": [
       "['1', '2', '3']"
      ]
     },
     "execution_count": 7,
     "metadata": {},
     "output_type": "execute_result"
    }
   ],
   "source": [
    "confs.get_subsections('plot')"
   ]
  },
  {
   "cell_type": "code",
   "execution_count": 13,
   "metadata": {},
   "outputs": [
    {
     "data": {
      "text/plain": [
       "[('input-file', 'inference.hdf'),\n",
       " ('plot-scatter', ''),\n",
       " ('plot-marginal', ''),\n",
       " ('plot-prior', 'inference.ini data.ini')]"
      ]
     },
     "execution_count": 13,
     "metadata": {},
     "output_type": "execute_result"
    }
   ],
   "source": [
    "confs.items('plot')"
   ]
  },
  {
   "cell_type": "code",
   "execution_count": 14,
   "metadata": {},
   "outputs": [
    {
     "data": {
      "text/plain": [
       "[('output-file', 'plots/posteriors1.png')]"
      ]
     },
     "execution_count": 14,
     "metadata": {},
     "output_type": "execute_result"
    }
   ],
   "source": [
    "confs.items('plot-1')"
   ]
  },
  {
   "cell_type": "code",
   "execution_count": 17,
   "metadata": {},
   "outputs": [],
   "source": [
    "l1 = confs.items('plot')\n",
    "l1.extend(confs.items('plot-1'))"
   ]
  },
  {
   "cell_type": "code",
   "execution_count": 18,
   "metadata": {},
   "outputs": [
    {
     "data": {
      "text/plain": [
       "[('input-file', 'inference.hdf'),\n",
       " ('plot-scatter', ''),\n",
       " ('plot-marginal', ''),\n",
       " ('plot-prior', 'inference.ini data.ini'),\n",
       " ('output-file', 'plots/posteriors1.png')]"
      ]
     },
     "execution_count": 18,
     "metadata": {},
     "output_type": "execute_result"
    }
   ],
   "source": [
    "l1"
   ]
  },
  {
   "cell_type": "code",
   "execution_count": 13,
   "metadata": {},
   "outputs": [
    {
     "name": "stdout",
     "output_type": "stream",
     "text": [
      "plot\n"
     ]
    }
   ],
   "source": [
    "for sec in confs.sections():\n",
    "    if sec[:4] == 'plot':\n",
    "        print sec"
   ]
  },
  {
   "cell_type": "code",
   "execution_count": null,
   "metadata": {},
   "outputs": [],
   "source": []
  },
  {
   "cell_type": "code",
   "execution_count": null,
   "metadata": {},
   "outputs": [],
   "source": []
  },
  {
   "cell_type": "code",
   "execution_count": null,
   "metadata": {},
   "outputs": [],
   "source": [
    "'SEOBNRv4' in td_approximants()"
   ]
  },
  {
   "cell_type": "code",
   "execution_count": null,
   "metadata": {
    "code_folding": [
     0
    ]
   },
   "outputs": [],
   "source": [
    "# DATA.INI\n",
    "with open(\"data.ini\", \"w\") as fout:\n",
    "    fout.write(\"\"\"\\\n",
    "[data]\n",
    "instruments = H1 L1\n",
    "trigger-time = 1126259462.42\n",
    "analysis-start-time = -6\n",
    "analysis-end-time = 2\n",
    "; strain settings\n",
    "sample-rate = 2048\n",
    "fake-strain = H1:aLIGOaLIGODesignSensitivityT1800044 L1:aLIGOaLIGODesignSensitivityT1800044\n",
    "fake-strain-seed = H1:44 L1:45\n",
    "; psd settings\n",
    "psd-estimation = median-mean\n",
    "psd-inverse-length = 8\n",
    "psd-segment-length = 8\n",
    "psd-segment-stride = 4\n",
    "psd-start-time = -256\n",
    "psd-end-time = 256\n",
    "; even though we're making fake strain, the strain\n",
    "; module requires a channel to be provided, so we'll\n",
    "; just make one up\n",
    "channel-name = H1:STRAIN L1:STRAIN\n",
    "; Providing an injection file will cause a simulated\n",
    "; signal to be added to the data\n",
    "injection-file = injection.hdf\n",
    "; We'll use a high-pass filter so as not to get numerical errors from the large\n",
    "; amplitude low frequency noise. Here we use 15 Hz, which is safely below the\n",
    "; low frequency cutoff of our likelihood integral (20 Hz)\n",
    "strain-high-pass = 15\n",
    "; The pad-data argument is for the high-pass filter: 8s are added to the\n",
    "; beginning/end of the analysis/psd times when the data is loaded. After the\n",
    "; high pass filter is applied, the additional time is discarded. This pad is\n",
    "; *in addition to* the time added to the analysis start/end time for the PSD\n",
    "; inverse length. Since it is discarded before the data is transformed for the\n",
    "; likelihood integral, it has little affect on the run time.\n",
    "pad-data = 8\n",
    "\"\"\")"
   ]
  },
  {
   "cell_type": "code",
   "execution_count": null,
   "metadata": {},
   "outputs": [],
   "source": [
    "!cat data.ini"
   ]
  },
  {
   "cell_type": "code",
   "execution_count": null,
   "metadata": {
    "code_folding": [
     0
    ]
   },
   "outputs": [],
   "source": [
    "# emcee_pt-gw150914_like\n",
    "with open(\"emcee_pt-gw150914_like.ini\", \"w\") as fout:\n",
    "    fout.write(\"\"\"\\\n",
    "[sampler]\n",
    "name = emcee_pt\n",
    "nwalkers = 200\n",
    "ntemps = 20\n",
    "effective-nsamples = 1000\n",
    "checkpoint-interval = 2000\n",
    "max-samples-per-chain = 1000\n",
    "\n",
    "[sampler-burn_in]\n",
    "burn-in-test = nacl & max_posterior\n",
    "\n",
    ";\n",
    ";   Sampling transforms\n",
    ";\n",
    "[sampling_params]\n",
    "; parameters on the left will be sampled in\n",
    "; parametes on the right\n",
    "mass1, mass2 : mchirp, q\n",
    "\n",
    "[sampling_transforms-mchirp+q]\n",
    "; inputs mass1, mass2\n",
    "; outputs mchirp, q\n",
    "name = mass1_mass2_to_mchirp_q\n",
    "\"\"\")"
   ]
  },
  {
   "cell_type": "code",
   "execution_count": null,
   "metadata": {},
   "outputs": [],
   "source": [
    "!cat emcee_pt-gw150914_like.ini"
   ]
  },
  {
   "cell_type": "code",
   "execution_count": null,
   "metadata": {
    "code_folding": [
     0
    ]
   },
   "outputs": [],
   "source": [
    "# gw150914_like\n",
    "with open(\"gw150914_like.ini\", \"w\") as fout:\n",
    "    fout.write(\"\"\"\\\n",
    "[model]\n",
    "name = gaussian_noise\n",
    "low-frequency-cutoff = 20.0\n",
    "\n",
    "[variable_params]\n",
    "; waveform parameters that will vary in MCMC\n",
    "delta_tc =\n",
    "mass1 =\n",
    "mass2 =\n",
    "spin1_a =\n",
    "spin1_azimuthal =\n",
    "spin1_polar =\n",
    "spin2_a =\n",
    "spin2_azimuthal =\n",
    "spin2_polar =\n",
    "distance =\n",
    "coa_phase =\n",
    "inclination =\n",
    "polarization =\n",
    "ra =\n",
    "dec =\n",
    "\n",
    "[static_params]\n",
    "; waveform parameters that will not change in MCMC\n",
    "approximant = ENIGMA\n",
    "f_lower = 20\n",
    "f_ref = 20\n",
    "; we'll set the tc by using the trigger time in the data\n",
    "; section of the config file + delta_tc\n",
    "trigger_time = ${data|trigger-time}\n",
    "\n",
    "[prior-delta_tc]\n",
    "; coalescence time prior\n",
    "name = uniform\n",
    "min-delta_tc = -0.1\n",
    "max-delta_tc = 0.1\n",
    "\n",
    "[waveform_transforms-tc]\n",
    "; we need to provide tc to the waveform generator\n",
    "name = custom\n",
    "inputs = delta_tc\n",
    "tc = ${data|trigger-time} + delta_tc\n",
    "\n",
    "[prior-mass1]\n",
    "name = uniform\n",
    "min-mass1 = 10.\n",
    "max-mass1 = 80.\n",
    "\n",
    "[prior-mass2]\n",
    "name = uniform\n",
    "min-mass2 = 10.\n",
    "max-mass2 = 80.\n",
    "\n",
    "[prior-spin1_a]\n",
    "name = uniform\n",
    "min-spin1_a = 0.0\n",
    "max-spin1_a = 0.99\n",
    "\n",
    "[prior-spin1_polar+spin1_azimuthal]\n",
    "name = uniform_solidangle\n",
    "polar-angle = spin1_polar\n",
    "azimuthal-angle = spin1_azimuthal\n",
    "\n",
    "[prior-spin2_a]\n",
    "name = uniform\n",
    "min-spin2_a = 0.0\n",
    "max-spin2_a = 0.99\n",
    "\n",
    "[prior-spin2_polar+spin2_azimuthal]\n",
    "name = uniform_solidangle\n",
    "polar-angle = spin2_polar\n",
    "azimuthal-angle = spin2_azimuthal\n",
    "\n",
    "[prior-distance]\n",
    "; following gives a uniform volume prior\n",
    "name = uniform_radius\n",
    "min-distance = 10\n",
    "max-distance = 1000\n",
    "\n",
    "[prior-coa_phase]\n",
    "; coalescence phase prior\n",
    "name = uniform_angle\n",
    "\n",
    "[prior-inclination]\n",
    "; inclination prior\n",
    "name = sin_angle\n",
    "\n",
    "[prior-ra+dec]\n",
    "; sky position prior\n",
    "name = uniform_sky\n",
    "\n",
    "[prior-polarization]\n",
    "; polarization prior\n",
    "name = uniform_angle\n",
    "\"\"\")"
   ]
  },
  {
   "cell_type": "code",
   "execution_count": null,
   "metadata": {
    "scrolled": false
   },
   "outputs": [],
   "source": [
    "!cat gw150914_like.ini"
   ]
  },
  {
   "cell_type": "code",
   "execution_count": null,
   "metadata": {
    "code_folding": [
     0
    ]
   },
   "outputs": [],
   "source": [
    "# RUN.SH\n",
    "with open(\"run.sh\", \"w\") as fout:\n",
    "    fout.write(\"\"\"#!/bin/sh\n",
    "\n",
    "# sampler parameters\n",
    "PRIOR_CONFIG=gw150914_like.ini\n",
    "DATA_CONFIG=data.ini\n",
    "SAMPLER_CONFIG=emcee_pt-gw150914_like.ini\n",
    "OUTPUT_PATH=inference.hdf\n",
    "\n",
    "# the following sets the number of cores to use; adjust as needed to\n",
    "# your computer's capabilities\n",
    "NPROCS=10\n",
    "\n",
    "# run sampler\n",
    "# Running with OMP_NUM_THREADS=1 stops lalsimulation\n",
    "# from spawning multiple jobs that would otherwise be used\n",
    "# by pycbc_inference and cause a reduced runtime.\n",
    "OMP_NUM_THREADS=1 \\\n",
    "pycbc_inference --verbose \\\n",
    "    --seed 12 \\\n",
    "    --config-file ${PRIOR_CONFIG} ${DATA_CONFIG} ${SAMPLER_CONFIG} \\\n",
    "    --output-file ${OUTPUT_PATH} \\\n",
    "    --nprocesses ${NPROCS} \\\n",
    "    --force\n",
    "\"\"\")"
   ]
  },
  {
   "cell_type": "code",
   "execution_count": null,
   "metadata": {
    "scrolled": true
   },
   "outputs": [],
   "source": [
    "!cat run.sh"
   ]
  }
 ],
 "metadata": {
  "kernelspec": {
   "display_name": "Python 2",
   "language": "python",
   "name": "python2"
  },
  "language_info": {
   "codemirror_mode": {
    "name": "ipython",
    "version": 2
   },
   "file_extension": ".py",
   "mimetype": "text/x-python",
   "name": "python",
   "nbconvert_exporter": "python",
   "pygments_lexer": "ipython2",
   "version": "2.7.15+"
  }
 },
 "nbformat": 4,
 "nbformat_minor": 2
}
